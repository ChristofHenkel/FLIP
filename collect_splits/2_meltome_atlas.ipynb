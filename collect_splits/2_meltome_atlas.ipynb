{
 "cells": [
  {
   "cell_type": "markdown",
   "id": "690e43d4",
   "metadata": {},
   "source": [
    "Meltome atlas download doesn't work --> http://meltomeatlas.proteomics.wzw.tum.de:5003/    \n",
    "ProteomicsDB data is difficult to downlaod --> https://www.proteomicsdb.org/  \n",
    "PRIDE FTP might contain data needed --> https://www.ebi.ac.uk/pride/archive/projects/PXD011929   \n",
    "\n",
    "\n"
   ]
  },
  {
   "cell_type": "code",
   "execution_count": 1,
   "id": "6cf2e48b",
   "metadata": {},
   "outputs": [],
   "source": [
    "import re\n",
    "import json\n",
    "import math\n",
    "\n",
    "from pathlib import Path\n",
    "from pandas import read_csv, DataFrame\n",
    "\n",
    "from Bio import SeqIO\n",
    "from Bio.SeqRecord import SeqRecord\n",
    "from Bio.Seq import Seq\n",
    "\n",
    "from sklearn.model_selection import train_test_split"
   ]
  },
  {
   "cell_type": "code",
   "execution_count": 2,
   "id": "de81e209",
   "metadata": {},
   "outputs": [],
   "source": [
    "uniprot_accesson_regex = re.compile(\"([OPQ][0-9][A-Z0-9]{3}[0-9]|[A-NR-Z][0-9]([A-Z][A-Z0-9]{2}[0-9]){1,2})\")"
   ]
  },
  {
   "cell_type": "code",
   "execution_count": 3,
   "id": "21ce1575",
   "metadata": {},
   "outputs": [],
   "source": [
    "data_path = Path('') / '..' / 'data' / 'meltome'\n",
    "split_path = Path('') / '..' / 'splits' / 'meltome'\n",
    "\n",
    "\n",
    "cross_data_path = data_path / 'cross-species.csv'\n",
    "human_data_path = data_path / 'human.csv'\n",
    "human_sequences_path = data_path / 'human_sequences.tsv'"
   ]
  },
  {
   "cell_type": "code",
   "execution_count": 4,
   "id": "09b153d5",
   "metadata": {},
   "outputs": [
    {
     "name": "stderr",
     "output_type": "stream",
     "text": [
      "/Users/chdallago/miniconda3/envs/bio-benchmarks/lib/python3.8/site-packages/IPython/core/interactiveshell.py:3169: DtypeWarning: Columns (1,4) have mixed types.Specify dtype option on import or set low_memory=False.\n",
      "  has_raised = await self.run_ast_nodes(code_ast.body, cell_name,\n"
     ]
    }
   ],
   "source": [
    "cross_data = read_csv(cross_data_path)\n",
    "human_data = read_csv(human_data_path)\n",
    "human_sequences_data = read_csv(human_sequences_path, sep='\\t')"
   ]
  },
  {
   "cell_type": "code",
   "execution_count": 5,
   "id": "5f952f5c",
   "metadata": {},
   "outputs": [],
   "source": [
    "# Some data cleaning\n",
    "cross_data.dropna(subset=['Protein_ID', 'run_name'], inplace=True)"
   ]
  },
  {
   "cell_type": "code",
   "execution_count": 6,
   "id": "82313445",
   "metadata": {},
   "outputs": [
    {
     "data": {
      "text/html": [
       "<div>\n",
       "<style scoped>\n",
       "    .dataframe tbody tr th:only-of-type {\n",
       "        vertical-align: middle;\n",
       "    }\n",
       "\n",
       "    .dataframe tbody tr th {\n",
       "        vertical-align: top;\n",
       "    }\n",
       "\n",
       "    .dataframe thead th {\n",
       "        text-align: right;\n",
       "    }\n",
       "</style>\n",
       "<table border=\"1\" class=\"dataframe\">\n",
       "  <thead>\n",
       "    <tr style=\"text-align: right;\">\n",
       "      <th></th>\n",
       "      <th>run_name</th>\n",
       "      <th>Protein_ID</th>\n",
       "      <th>gene_name</th>\n",
       "      <th>meltPoint</th>\n",
       "      <th>channel</th>\n",
       "      <th>fold_change</th>\n",
       "      <th>temperature</th>\n",
       "    </tr>\n",
       "  </thead>\n",
       "  <tbody>\n",
       "    <tr>\n",
       "      <th>0</th>\n",
       "      <td>Bacillus subtilis_168_lysate_R1</td>\n",
       "      <td>C0H3Q1_ytzI</td>\n",
       "      <td>ytzI</td>\n",
       "      <td>NaN</td>\n",
       "      <td>TMT126</td>\n",
       "      <td>0.999203</td>\n",
       "      <td>30.0</td>\n",
       "    </tr>\n",
       "    <tr>\n",
       "      <th>1</th>\n",
       "      <td>Bacillus subtilis_168_lysate_R1</td>\n",
       "      <td>C0H3V2_mtlF</td>\n",
       "      <td>mtlF</td>\n",
       "      <td>56.693844</td>\n",
       "      <td>TMT126</td>\n",
       "      <td>0.999203</td>\n",
       "      <td>30.0</td>\n",
       "    </tr>\n",
       "    <tr>\n",
       "      <th>2</th>\n",
       "      <td>Bacillus subtilis_168_lysate_R1</td>\n",
       "      <td>C0H3V8_yyzM</td>\n",
       "      <td>yyzM</td>\n",
       "      <td>43.373369</td>\n",
       "      <td>TMT126</td>\n",
       "      <td>0.999203</td>\n",
       "      <td>30.0</td>\n",
       "    </tr>\n",
       "    <tr>\n",
       "      <th>3</th>\n",
       "      <td>Bacillus subtilis_168_lysate_R1</td>\n",
       "      <td>C0H3Y1_yhzD</td>\n",
       "      <td>yhzD</td>\n",
       "      <td>40.693719</td>\n",
       "      <td>TMT126</td>\n",
       "      <td>0.999203</td>\n",
       "      <td>30.0</td>\n",
       "    </tr>\n",
       "    <tr>\n",
       "      <th>4</th>\n",
       "      <td>Bacillus subtilis_168_lysate_R1</td>\n",
       "      <td>C0H3Z2_yjzH</td>\n",
       "      <td>yjzH</td>\n",
       "      <td>NaN</td>\n",
       "      <td>TMT126</td>\n",
       "      <td>0.999203</td>\n",
       "      <td>30.0</td>\n",
       "    </tr>\n",
       "  </tbody>\n",
       "</table>\n",
       "</div>"
      ],
      "text/plain": [
       "                          run_name   Protein_ID gene_name  meltPoint channel  \\\n",
       "0  Bacillus subtilis_168_lysate_R1  C0H3Q1_ytzI      ytzI        NaN  TMT126   \n",
       "1  Bacillus subtilis_168_lysate_R1  C0H3V2_mtlF      mtlF  56.693844  TMT126   \n",
       "2  Bacillus subtilis_168_lysate_R1  C0H3V8_yyzM      yyzM  43.373369  TMT126   \n",
       "3  Bacillus subtilis_168_lysate_R1  C0H3Y1_yhzD      yhzD  40.693719  TMT126   \n",
       "4  Bacillus subtilis_168_lysate_R1  C0H3Z2_yjzH      yjzH        NaN  TMT126   \n",
       "\n",
       "   fold_change  temperature  \n",
       "0     0.999203         30.0  \n",
       "1     0.999203         30.0  \n",
       "2     0.999203         30.0  \n",
       "3     0.999203         30.0  \n",
       "4     0.999203         30.0  "
      ]
     },
     "execution_count": 6,
     "metadata": {},
     "output_type": "execute_result"
    }
   ],
   "source": [
    "cross_data[:5]"
   ]
  },
  {
   "cell_type": "code",
   "execution_count": 7,
   "id": "a52b20ce",
   "metadata": {},
   "outputs": [
    {
     "data": {
      "text/html": [
       "<div>\n",
       "<style scoped>\n",
       "    .dataframe tbody tr th:only-of-type {\n",
       "        vertical-align: middle;\n",
       "    }\n",
       "\n",
       "    .dataframe tbody tr th {\n",
       "        vertical-align: top;\n",
       "    }\n",
       "\n",
       "    .dataframe thead th {\n",
       "        text-align: right;\n",
       "    }\n",
       "</style>\n",
       "<table border=\"1\" class=\"dataframe\">\n",
       "  <thead>\n",
       "    <tr style=\"text-align: right;\">\n",
       "      <th></th>\n",
       "      <th>run_name</th>\n",
       "      <th>Protein_ID</th>\n",
       "      <th>gene_name</th>\n",
       "      <th>meltPoint</th>\n",
       "      <th>channel</th>\n",
       "      <th>fold_change</th>\n",
       "      <th>temperature</th>\n",
       "    </tr>\n",
       "  </thead>\n",
       "  <tbody>\n",
       "    <tr>\n",
       "      <th>1</th>\n",
       "      <td>Bacillus subtilis_168_lysate_R1</td>\n",
       "      <td>C0H3V2_mtlF</td>\n",
       "      <td>mtlF</td>\n",
       "      <td>56.693844</td>\n",
       "      <td>TMT126</td>\n",
       "      <td>0.999203</td>\n",
       "      <td>30.0</td>\n",
       "    </tr>\n",
       "    <tr>\n",
       "      <th>45627</th>\n",
       "      <td>Bacillus subtilis_168_lysate_R1</td>\n",
       "      <td>C0H3V2_mtlF</td>\n",
       "      <td>mtlF</td>\n",
       "      <td>56.693844</td>\n",
       "      <td>TMT127H</td>\n",
       "      <td>1.102669</td>\n",
       "      <td>36.0</td>\n",
       "    </tr>\n",
       "    <tr>\n",
       "      <th>91253</th>\n",
       "      <td>Bacillus subtilis_168_lysate_R1</td>\n",
       "      <td>C0H3V2_mtlF</td>\n",
       "      <td>mtlF</td>\n",
       "      <td>56.693844</td>\n",
       "      <td>TMT127L</td>\n",
       "      <td>1.225128</td>\n",
       "      <td>32.9</td>\n",
       "    </tr>\n",
       "    <tr>\n",
       "      <th>136879</th>\n",
       "      <td>Bacillus subtilis_168_lysate_R1</td>\n",
       "      <td>C0H3V2_mtlF</td>\n",
       "      <td>mtlF</td>\n",
       "      <td>56.693844</td>\n",
       "      <td>TMT128H</td>\n",
       "      <td>0.896313</td>\n",
       "      <td>43.2</td>\n",
       "    </tr>\n",
       "    <tr>\n",
       "      <th>182505</th>\n",
       "      <td>Bacillus subtilis_168_lysate_R1</td>\n",
       "      <td>C0H3V2_mtlF</td>\n",
       "      <td>mtlF</td>\n",
       "      <td>56.693844</td>\n",
       "      <td>TMT128L</td>\n",
       "      <td>1.317735</td>\n",
       "      <td>39.6</td>\n",
       "    </tr>\n",
       "    <tr>\n",
       "      <th>228131</th>\n",
       "      <td>Bacillus subtilis_168_lysate_R1</td>\n",
       "      <td>C0H3V2_mtlF</td>\n",
       "      <td>mtlF</td>\n",
       "      <td>56.693844</td>\n",
       "      <td>TMT129H</td>\n",
       "      <td>0.728182</td>\n",
       "      <td>50.4</td>\n",
       "    </tr>\n",
       "    <tr>\n",
       "      <th>273757</th>\n",
       "      <td>Bacillus subtilis_168_lysate_R1</td>\n",
       "      <td>C0H3V2_mtlF</td>\n",
       "      <td>mtlF</td>\n",
       "      <td>56.693844</td>\n",
       "      <td>TMT129L</td>\n",
       "      <td>0.865444</td>\n",
       "      <td>46.8</td>\n",
       "    </tr>\n",
       "    <tr>\n",
       "      <th>319383</th>\n",
       "      <td>Bacillus subtilis_168_lysate_R1</td>\n",
       "      <td>C0H3V2_mtlF</td>\n",
       "      <td>mtlF</td>\n",
       "      <td>56.693844</td>\n",
       "      <td>TMT130H</td>\n",
       "      <td>0.402074</td>\n",
       "      <td>57.1</td>\n",
       "    </tr>\n",
       "    <tr>\n",
       "      <th>365009</th>\n",
       "      <td>Bacillus subtilis_168_lysate_R1</td>\n",
       "      <td>C0H3V2_mtlF</td>\n",
       "      <td>mtlF</td>\n",
       "      <td>56.693844</td>\n",
       "      <td>TMT130L</td>\n",
       "      <td>0.705247</td>\n",
       "      <td>54.0</td>\n",
       "    </tr>\n",
       "    <tr>\n",
       "      <th>410635</th>\n",
       "      <td>Bacillus subtilis_168_lysate_R1</td>\n",
       "      <td>C0H3V2_mtlF</td>\n",
       "      <td>mtlF</td>\n",
       "      <td>56.693844</td>\n",
       "      <td>TMT131L</td>\n",
       "      <td>0.435728</td>\n",
       "      <td>60.0</td>\n",
       "    </tr>\n",
       "  </tbody>\n",
       "</table>\n",
       "</div>"
      ],
      "text/plain": [
       "                               run_name   Protein_ID gene_name  meltPoint  \\\n",
       "1       Bacillus subtilis_168_lysate_R1  C0H3V2_mtlF      mtlF  56.693844   \n",
       "45627   Bacillus subtilis_168_lysate_R1  C0H3V2_mtlF      mtlF  56.693844   \n",
       "91253   Bacillus subtilis_168_lysate_R1  C0H3V2_mtlF      mtlF  56.693844   \n",
       "136879  Bacillus subtilis_168_lysate_R1  C0H3V2_mtlF      mtlF  56.693844   \n",
       "182505  Bacillus subtilis_168_lysate_R1  C0H3V2_mtlF      mtlF  56.693844   \n",
       "228131  Bacillus subtilis_168_lysate_R1  C0H3V2_mtlF      mtlF  56.693844   \n",
       "273757  Bacillus subtilis_168_lysate_R1  C0H3V2_mtlF      mtlF  56.693844   \n",
       "319383  Bacillus subtilis_168_lysate_R1  C0H3V2_mtlF      mtlF  56.693844   \n",
       "365009  Bacillus subtilis_168_lysate_R1  C0H3V2_mtlF      mtlF  56.693844   \n",
       "410635  Bacillus subtilis_168_lysate_R1  C0H3V2_mtlF      mtlF  56.693844   \n",
       "\n",
       "        channel  fold_change  temperature  \n",
       "1        TMT126     0.999203         30.0  \n",
       "45627   TMT127H     1.102669         36.0  \n",
       "91253   TMT127L     1.225128         32.9  \n",
       "136879  TMT128H     0.896313         43.2  \n",
       "182505  TMT128L     1.317735         39.6  \n",
       "228131  TMT129H     0.728182         50.4  \n",
       "273757  TMT129L     0.865444         46.8  \n",
       "319383  TMT130H     0.402074         57.1  \n",
       "365009  TMT130L     0.705247         54.0  \n",
       "410635  TMT131L     0.435728         60.0  "
      ]
     },
     "execution_count": 7,
     "metadata": {},
     "output_type": "execute_result"
    }
   ],
   "source": [
    "cross_data[cross_data['Protein_ID'].str.contains('C0H3V2') == True]"
   ]
  },
  {
   "cell_type": "code",
   "execution_count": 8,
   "id": "3f36c896",
   "metadata": {},
   "outputs": [
    {
     "data": {
      "text/html": [
       "<div>\n",
       "<style scoped>\n",
       "    .dataframe tbody tr th:only-of-type {\n",
       "        vertical-align: middle;\n",
       "    }\n",
       "\n",
       "    .dataframe tbody tr th {\n",
       "        vertical-align: top;\n",
       "    }\n",
       "\n",
       "    .dataframe thead th {\n",
       "        text-align: right;\n",
       "    }\n",
       "</style>\n",
       "<table border=\"1\" class=\"dataframe\">\n",
       "  <thead>\n",
       "    <tr style=\"text-align: right;\">\n",
       "      <th></th>\n",
       "      <th>gene_name</th>\n",
       "      <th>cell_line_or_type</th>\n",
       "      <th>fold_change</th>\n",
       "      <th>temperature</th>\n",
       "      <th>meltPoint</th>\n",
       "      <th>quan_norm_meltPoint</th>\n",
       "    </tr>\n",
       "  </thead>\n",
       "  <tbody>\n",
       "    <tr>\n",
       "      <th>0</th>\n",
       "      <td>A1CF</td>\n",
       "      <td>HepG2</td>\n",
       "      <td>0.999986</td>\n",
       "      <td>37.0</td>\n",
       "      <td>41.945567</td>\n",
       "      <td>43.719078</td>\n",
       "    </tr>\n",
       "    <tr>\n",
       "      <th>1</th>\n",
       "      <td>A1CF</td>\n",
       "      <td>HepG2</td>\n",
       "      <td>0.999986</td>\n",
       "      <td>37.0</td>\n",
       "      <td>42.112354</td>\n",
       "      <td>43.719419</td>\n",
       "    </tr>\n",
       "    <tr>\n",
       "      <th>2</th>\n",
       "      <td>A1CF</td>\n",
       "      <td>HepG2</td>\n",
       "      <td>0.999986</td>\n",
       "      <td>37.0</td>\n",
       "      <td>44.141517</td>\n",
       "      <td>43.401106</td>\n",
       "    </tr>\n",
       "  </tbody>\n",
       "</table>\n",
       "</div>"
      ],
      "text/plain": [
       "  gene_name cell_line_or_type  fold_change  temperature  meltPoint  \\\n",
       "0      A1CF             HepG2     0.999986         37.0  41.945567   \n",
       "1      A1CF             HepG2     0.999986         37.0  42.112354   \n",
       "2      A1CF             HepG2     0.999986         37.0  44.141517   \n",
       "\n",
       "   quan_norm_meltPoint  \n",
       "0            43.719078  \n",
       "1            43.719419  \n",
       "2            43.401106  "
      ]
     },
     "execution_count": 8,
     "metadata": {},
     "output_type": "execute_result"
    }
   ],
   "source": [
    "human_data[:3]"
   ]
  },
  {
   "cell_type": "code",
   "execution_count": 9,
   "id": "c8f681b8",
   "metadata": {},
   "outputs": [
    {
     "data": {
      "text/html": [
       "<div>\n",
       "<style scoped>\n",
       "    .dataframe tbody tr th:only-of-type {\n",
       "        vertical-align: middle;\n",
       "    }\n",
       "\n",
       "    .dataframe tbody tr th {\n",
       "        vertical-align: top;\n",
       "    }\n",
       "\n",
       "    .dataframe thead th {\n",
       "        text-align: right;\n",
       "    }\n",
       "</style>\n",
       "<table border=\"1\" class=\"dataframe\">\n",
       "  <thead>\n",
       "    <tr style=\"text-align: right;\">\n",
       "      <th></th>\n",
       "      <th>gene_name</th>\n",
       "      <th>cell_line_or_type</th>\n",
       "      <th>fold_change</th>\n",
       "      <th>temperature</th>\n",
       "      <th>meltPoint</th>\n",
       "      <th>quan_norm_meltPoint</th>\n",
       "    </tr>\n",
       "  </thead>\n",
       "  <tbody>\n",
       "    <tr>\n",
       "      <th>17305</th>\n",
       "      <td>BRCA1</td>\n",
       "      <td>HEK293T</td>\n",
       "      <td>0.999986</td>\n",
       "      <td>37.0</td>\n",
       "      <td>47.781019</td>\n",
       "      <td>46.940926</td>\n",
       "    </tr>\n",
       "    <tr>\n",
       "      <th>17306</th>\n",
       "      <td>BRCA1</td>\n",
       "      <td>HEK293T</td>\n",
       "      <td>0.999986</td>\n",
       "      <td>37.0</td>\n",
       "      <td>47.352790</td>\n",
       "      <td>46.018048</td>\n",
       "    </tr>\n",
       "    <tr>\n",
       "      <th>17307</th>\n",
       "      <td>BRCA1</td>\n",
       "      <td>HL60</td>\n",
       "      <td>0.999986</td>\n",
       "      <td>37.0</td>\n",
       "      <td>46.278582</td>\n",
       "      <td>45.179063</td>\n",
       "    </tr>\n",
       "    <tr>\n",
       "      <th>17308</th>\n",
       "      <td>BRCA1</td>\n",
       "      <td>HL60</td>\n",
       "      <td>0.999986</td>\n",
       "      <td>37.0</td>\n",
       "      <td>46.421850</td>\n",
       "      <td>45.237606</td>\n",
       "    </tr>\n",
       "    <tr>\n",
       "      <th>17309</th>\n",
       "      <td>BRCA1</td>\n",
       "      <td>Jurkat</td>\n",
       "      <td>0.999986</td>\n",
       "      <td>37.0</td>\n",
       "      <td>46.370902</td>\n",
       "      <td>46.794503</td>\n",
       "    </tr>\n",
       "    <tr>\n",
       "      <th>...</th>\n",
       "      <td>...</td>\n",
       "      <td>...</td>\n",
       "      <td>...</td>\n",
       "      <td>...</td>\n",
       "      <td>...</td>\n",
       "      <td>...</td>\n",
       "    </tr>\n",
       "    <tr>\n",
       "      <th>1689665</th>\n",
       "      <td>BRCA2</td>\n",
       "      <td>HL60</td>\n",
       "      <td>0.010832</td>\n",
       "      <td>67.0</td>\n",
       "      <td>46.570625</td>\n",
       "      <td>45.417062</td>\n",
       "    </tr>\n",
       "    <tr>\n",
       "      <th>1689666</th>\n",
       "      <td>BRCA2</td>\n",
       "      <td>HepG2</td>\n",
       "      <td>0.003576</td>\n",
       "      <td>67.0</td>\n",
       "      <td>54.425721</td>\n",
       "      <td>53.678516</td>\n",
       "    </tr>\n",
       "    <tr>\n",
       "      <th>1689667</th>\n",
       "      <td>BRCA2</td>\n",
       "      <td>HepG2</td>\n",
       "      <td>0.014984</td>\n",
       "      <td>67.0</td>\n",
       "      <td>53.319431</td>\n",
       "      <td>52.637081</td>\n",
       "    </tr>\n",
       "    <tr>\n",
       "      <th>1689668</th>\n",
       "      <td>BRCA2</td>\n",
       "      <td>HepG2</td>\n",
       "      <td>0.013649</td>\n",
       "      <td>67.0</td>\n",
       "      <td>52.855853</td>\n",
       "      <td>52.421773</td>\n",
       "    </tr>\n",
       "    <tr>\n",
       "      <th>1689669</th>\n",
       "      <td>BRCA2</td>\n",
       "      <td>HepG2</td>\n",
       "      <td>0.011789</td>\n",
       "      <td>67.0</td>\n",
       "      <td>55.185305</td>\n",
       "      <td>54.686599</td>\n",
       "    </tr>\n",
       "  </tbody>\n",
       "</table>\n",
       "<p>120 rows × 6 columns</p>\n",
       "</div>"
      ],
      "text/plain": [
       "        gene_name cell_line_or_type  fold_change  temperature  meltPoint  \\\n",
       "17305       BRCA1           HEK293T     0.999986         37.0  47.781019   \n",
       "17306       BRCA1           HEK293T     0.999986         37.0  47.352790   \n",
       "17307       BRCA1              HL60     0.999986         37.0  46.278582   \n",
       "17308       BRCA1              HL60     0.999986         37.0  46.421850   \n",
       "17309       BRCA1            Jurkat     0.999986         37.0  46.370902   \n",
       "...           ...               ...          ...          ...        ...   \n",
       "1689665     BRCA2              HL60     0.010832         67.0  46.570625   \n",
       "1689666     BRCA2             HepG2     0.003576         67.0  54.425721   \n",
       "1689667     BRCA2             HepG2     0.014984         67.0  53.319431   \n",
       "1689668     BRCA2             HepG2     0.013649         67.0  52.855853   \n",
       "1689669     BRCA2             HepG2     0.011789         67.0  55.185305   \n",
       "\n",
       "         quan_norm_meltPoint  \n",
       "17305              46.940926  \n",
       "17306              46.018048  \n",
       "17307              45.179063  \n",
       "17308              45.237606  \n",
       "17309              46.794503  \n",
       "...                      ...  \n",
       "1689665            45.417062  \n",
       "1689666            53.678516  \n",
       "1689667            52.637081  \n",
       "1689668            52.421773  \n",
       "1689669            54.686599  \n",
       "\n",
       "[120 rows x 6 columns]"
      ]
     },
     "execution_count": 9,
     "metadata": {},
     "output_type": "execute_result"
    }
   ],
   "source": [
    "human_data[human_data['gene_name'].str.contains('BRCA') == True]"
   ]
  },
  {
   "cell_type": "code",
   "execution_count": 10,
   "id": "3bfefadf",
   "metadata": {},
   "outputs": [
    {
     "data": {
      "text/plain": [
       "array([46.94092578, 46.01804849, 45.17906347, 45.2376058 , 46.7945031 ,\n",
       "       47.57939356, 56.97350571, 45.417062  , 53.67851555, 52.6370811 ,\n",
       "       52.42177281, 54.68659949])"
      ]
     },
     "execution_count": 10,
     "metadata": {},
     "output_type": "execute_result"
    }
   ],
   "source": [
    "human_data[human_data['gene_name'].str.contains('BRCA') == True]['quan_norm_meltPoint'].unique()"
   ]
  },
  {
   "cell_type": "code",
   "execution_count": 11,
   "id": "9f970588",
   "metadata": {},
   "outputs": [
    {
     "data": {
      "text/plain": [
       "array([47.78101895, 47.35278955, 46.27858184, 46.42184959, 46.37090242,\n",
       "       47.0086505 , 56.23910676, 46.57062548, 54.42572146, 53.3194311 ,\n",
       "       52.85585264, 55.18530458])"
      ]
     },
     "execution_count": 11,
     "metadata": {},
     "output_type": "execute_result"
    }
   ],
   "source": [
    "human_data[human_data['gene_name'].str.contains('BRCA') == True]['meltPoint'].unique()"
   ]
  },
  {
   "cell_type": "code",
   "execution_count": 12,
   "id": "d6970c6c",
   "metadata": {},
   "outputs": [],
   "source": [
    "# Get all human proteins from SwissProt (https://www.uniprot.org/uniprot/?query=*&fil=organism%3A%22Homo+sapiens+%28Human%29+%5B9606%5D%22+AND+reviewed%3Ayes&sort=score)\n",
    "# Include: primary gene name and sequence\n",
    "# Download as TSV!"
   ]
  },
  {
   "cell_type": "code",
   "execution_count": 13,
   "id": "e2583236",
   "metadata": {},
   "outputs": [
    {
     "data": {
      "text/plain": [
       "Index(['Entry', 'Entry name', 'Status', 'Protein names', 'Gene names',\n",
       "       'Organism', 'Length', 'Subcellular location [CC]', 'Entry.1',\n",
       "       'Gene names  (primary )', 'Sequence'],\n",
       "      dtype='object')"
      ]
     },
     "execution_count": 13,
     "metadata": {},
     "output_type": "execute_result"
    }
   ],
   "source": [
    "human_sequences_data.columns"
   ]
  },
  {
   "cell_type": "code",
   "execution_count": 14,
   "id": "e0234a49",
   "metadata": {},
   "outputs": [
    {
     "name": "stderr",
     "output_type": "stream",
     "text": [
      "/Users/chdallago/miniconda3/envs/bio-benchmarks/lib/python3.8/site-packages/pandas/core/strings/accessor.py:101: UserWarning: This pattern has match groups. To actually get the groups, use str.extract.\n",
      "  return func(self, *args, **kwargs)\n"
     ]
    }
   ],
   "source": [
    "gene_sequence_mapping = {}\n",
    "\n",
    "for gene_name in human_data['gene_name'].unique():\n",
    "    elements = human_sequences_data[human_sequences_data['Gene names  (primary )'] == gene_name].to_dict('records')\n",
    "    \n",
    "    if len(elements) < 1:\n",
    "        elements = human_sequences_data[human_sequences_data['Gene names'].str.contains(gene_name) == True].to_dict('records')\n",
    "    \n",
    "    if len(elements) > 0:\n",
    "        first_element = elements[0]\n",
    "        \n",
    "        gene_sequence_mapping[gene_name] = {\n",
    "            'uniprotAccession': first_element['Entry'],\n",
    "            'sequence': first_element['Sequence'],\n",
    "        }"
   ]
  },
  {
   "cell_type": "markdown",
   "id": "2b941864",
   "metadata": {},
   "source": [
    "Group by run_name and Protein_ID.\n",
    "The melting point (meltPoint) will be the same for each grouped item\n",
    "Then, there are the channel, temperature and fold change\n",
    "\n",
    "## Structure idea:\n",
    "In JSON format:\n",
    "```json\n",
    "{\n",
    "  proteinId: XX,\n",
    "  uniprotAccession: ???,\n",
    "  runName: YY,\n",
    "  meltingPoint: ZZ,\n",
    "  quantNormMeltingPoint: KK,\n",
    "  meltingBehaviour: [\n",
    "    {\n",
    "      tempertaure: temp,\n",
    "      fold_change: fchg,\n",
    "      channel: channel\n",
    "    },\n",
    "    {\n",
    "      tempertaure: temp,\n",
    "      fold_change: fchg,\n",
    "      channel: channel\n",
    "    },\n",
    "    ...\n",
    "  ]\n",
    "}\n",
    "```\n"
   ]
  },
  {
   "cell_type": "code",
   "execution_count": 15,
   "id": "c0714e0c",
   "metadata": {},
   "outputs": [],
   "source": [
    "proteins = list()"
   ]
  },
  {
   "cell_type": "code",
   "execution_count": 16,
   "id": "2aa9a5c1",
   "metadata": {},
   "outputs": [
    {
     "data": {
      "text/html": [
       "<div>\n",
       "<style scoped>\n",
       "    .dataframe tbody tr th:only-of-type {\n",
       "        vertical-align: middle;\n",
       "    }\n",
       "\n",
       "    .dataframe tbody tr th {\n",
       "        vertical-align: top;\n",
       "    }\n",
       "\n",
       "    .dataframe thead th {\n",
       "        text-align: right;\n",
       "    }\n",
       "</style>\n",
       "<table border=\"1\" class=\"dataframe\">\n",
       "  <thead>\n",
       "    <tr style=\"text-align: right;\">\n",
       "      <th></th>\n",
       "    </tr>\n",
       "  </thead>\n",
       "  <tbody>\n",
       "  </tbody>\n",
       "</table>\n",
       "</div>"
      ],
      "text/plain": [
       "Empty DataFrame\n",
       "Columns: []\n",
       "Index: []"
      ]
     },
     "execution_count": 16,
     "metadata": {},
     "output_type": "execute_result"
    }
   ],
   "source": [
    "# For cross_data\n",
    "\n",
    "def add_group_to_proteins(group):\n",
    "    first_hit = group.iloc[0]\n",
    "    \n",
    "    melting_behaviour = group[['temperature', 'channel', 'fold_change']].to_dict('records')\n",
    "    \n",
    "    protein = {\n",
    "        'proteinId': first_hit['Protein_ID'],\n",
    "        'uniprotAccession': None,\n",
    "        'runName': first_hit['run_name'],\n",
    "        'meltingPoint': first_hit['meltPoint'],\n",
    "        'meltingBehaviour': melting_behaviour\n",
    "    }\n",
    "    \n",
    "    uniprot_match = re.search(uniprot_accesson_regex, first_hit['Protein_ID'])\n",
    "    \n",
    "    if uniprot_match:\n",
    "        protein['uniprotAccession'] = uniprot_match.group()\n",
    "    \n",
    "    proteins.append(protein)\n",
    "\n",
    "cross_data.groupby(['Protein_ID', 'run_name']).apply(add_group_to_proteins)"
   ]
  },
  {
   "cell_type": "code",
   "execution_count": null,
   "id": "73e564da",
   "metadata": {},
   "outputs": [],
   "source": [
    "# Print all the UniProt Accessions in order to use the UniProt mapping service (https://www.uniprot.org/uploadlists/)\n",
    "# to download all sequences in bulk\n",
    "\n",
    "\";\".join([protein['uniprotAccession'] for protein in proteins if protein['uniprotAccession']])\n",
    "\n",
    "# this resulted in: 34251 out of 34253 UniProtKB AC/ID identifiers were successfully mapped to 34236 UniProtKB IDs in the table below."
   ]
  },
  {
   "cell_type": "code",
   "execution_count": 18,
   "id": "bf66b935",
   "metadata": {},
   "outputs": [],
   "source": [
    "sequences_dict = {}\n",
    "\n",
    "for sequence in SeqIO.parse(data_path / \"sequences.fasta\", \"fasta\"):    \n",
    "    sequences_dict[sequence.id.split('|')[1]] = str(sequence.seq)"
   ]
  },
  {
   "cell_type": "code",
   "execution_count": 19,
   "id": "51a57b7e",
   "metadata": {},
   "outputs": [],
   "source": [
    "for protein in proteins:\n",
    "    if protein['uniprotAccession']:\n",
    "        match = sequences_dict.get(protein['uniprotAccession'])\n",
    "        \n",
    "        if match:\n",
    "            protein['sequence'] = match"
   ]
  },
  {
   "cell_type": "code",
   "execution_count": 20,
   "id": "c083aa03",
   "metadata": {},
   "outputs": [
    {
     "data": {
      "text/html": [
       "<div>\n",
       "<style scoped>\n",
       "    .dataframe tbody tr th:only-of-type {\n",
       "        vertical-align: middle;\n",
       "    }\n",
       "\n",
       "    .dataframe tbody tr th {\n",
       "        vertical-align: top;\n",
       "    }\n",
       "\n",
       "    .dataframe thead th {\n",
       "        text-align: right;\n",
       "    }\n",
       "</style>\n",
       "<table border=\"1\" class=\"dataframe\">\n",
       "  <thead>\n",
       "    <tr style=\"text-align: right;\">\n",
       "      <th></th>\n",
       "    </tr>\n",
       "  </thead>\n",
       "  <tbody>\n",
       "  </tbody>\n",
       "</table>\n",
       "</div>"
      ],
      "text/plain": [
       "Empty DataFrame\n",
       "Columns: []\n",
       "Index: []"
      ]
     },
     "execution_count": 20,
     "metadata": {},
     "output_type": "execute_result"
    }
   ],
   "source": [
    "# For human_data\n",
    "\n",
    "def add_group_to_proteins(group):\n",
    "    first_hit = group.iloc[0]\n",
    "    \n",
    "    melting_behaviour = group[['temperature', 'fold_change']].to_dict('records')\n",
    "    \n",
    "    protein = {\n",
    "        'proteinId': first_hit['gene_name'],\n",
    "        'uniprotAccession': None,\n",
    "        'runName': first_hit['cell_line_or_type'],\n",
    "        'meltingPoint': first_hit['meltPoint'],\n",
    "        'quantNormMeltingPoint': first_hit['quan_norm_meltPoint'],\n",
    "        'meltingBehaviour': melting_behaviour\n",
    "    }\n",
    "    \n",
    "    uniprot_match = gene_sequence_mapping.get(first_hit['gene_name'])\n",
    "    \n",
    "    if uniprot_match:\n",
    "        protein['uniprotAccession'] = uniprot_match['uniprotAccession']\n",
    "        protein['sequence'] = uniprot_match['sequence']\n",
    "    \n",
    "    proteins.append(protein)\n",
    "\n",
    "\n",
    "human_data.groupby(['gene_name', 'cell_line_or_type', 'meltPoint']).apply(add_group_to_proteins)"
   ]
  },
  {
   "cell_type": "code",
   "execution_count": 21,
   "id": "1b4b3b64",
   "metadata": {},
   "outputs": [],
   "source": [
    "with open(split_path / \"full_dataset.json\", \"w\") as outfile:\n",
    "    json.dump(proteins, outfile)"
   ]
  },
  {
   "cell_type": "code",
   "execution_count": 22,
   "id": "e31c2bad",
   "metadata": {},
   "outputs": [],
   "source": [
    "protein_sequences = list()\n",
    "\n",
    "for protein in proteins:\n",
    "    if protein.get('sequence') \\\n",
    "    and protein.get('meltingPoint') \\\n",
    "    and not math.isnan(protein.get('meltingPoint'))\\\n",
    "    and protein.get('runName'):\n",
    "        \n",
    "        protein_sequences.append(\n",
    "            SeqRecord(\n",
    "                Seq(protein.get('sequence')),\n",
    "                id=f\"{protein.get('uniprotAccession')}_{'_'.join(protein.get('runName').split(' '))}\",\n",
    "                description=f\"MELTING_POINT={protein.get('meltingPoint')}\"\n",
    "            )\n",
    "        )"
   ]
  },
  {
   "cell_type": "code",
   "execution_count": 23,
   "id": "351a5aa2",
   "metadata": {},
   "outputs": [
    {
     "data": {
      "text/plain": [
       "201283"
      ]
     },
     "execution_count": 23,
     "metadata": {},
     "output_type": "execute_result"
    }
   ],
   "source": [
    "SeqIO.write(protein_sequences, split_path / \"full_dataset_sequences.fasta\", \"fasta\")"
   ]
  },
  {
   "cell_type": "markdown",
   "id": "44f8f9f4",
   "metadata": {},
   "source": [
    "After having run MMSeqs2 to cluster the sequences, we can read in the TSV file to split the dataset"
   ]
  },
  {
   "cell_type": "code",
   "execution_count": 24,
   "id": "f9533188",
   "metadata": {},
   "outputs": [],
   "source": [
    "sequence_clusters = read_csv(split_path / \"meltome_PIDE20_clusters.tsv\", sep=\"\\t\")\n",
    "sequence_clusters.drop_duplicates(inplace=True)"
   ]
  },
  {
   "cell_type": "code",
   "execution_count": 25,
   "id": "3cf697d3",
   "metadata": {},
   "outputs": [
    {
     "data": {
      "text/html": [
       "<div>\n",
       "<style scoped>\n",
       "    .dataframe tbody tr th:only-of-type {\n",
       "        vertical-align: middle;\n",
       "    }\n",
       "\n",
       "    .dataframe tbody tr th {\n",
       "        vertical-align: top;\n",
       "    }\n",
       "\n",
       "    .dataframe thead th {\n",
       "        text-align: right;\n",
       "    }\n",
       "</style>\n",
       "<table border=\"1\" class=\"dataframe\">\n",
       "  <thead>\n",
       "    <tr style=\"text-align: right;\">\n",
       "      <th></th>\n",
       "      <th>cluster_representative</th>\n",
       "      <th>cluster_component</th>\n",
       "    </tr>\n",
       "  </thead>\n",
       "  <tbody>\n",
       "    <tr>\n",
       "      <th>28424</th>\n",
       "      <td>O60331_HAOEC</td>\n",
       "      <td>Q99755_HAOEC</td>\n",
       "    </tr>\n",
       "    <tr>\n",
       "      <th>35560</th>\n",
       "      <td>E9Q9E4_Mus_musculus_BMDC_lysate</td>\n",
       "      <td>P11802_HAOEC</td>\n",
       "    </tr>\n",
       "  </tbody>\n",
       "</table>\n",
       "</div>"
      ],
      "text/plain": [
       "                cluster_representative cluster_component\n",
       "28424                     O60331_HAOEC      Q99755_HAOEC\n",
       "35560  E9Q9E4_Mus_musculus_BMDC_lysate      P11802_HAOEC"
      ]
     },
     "execution_count": 25,
     "metadata": {},
     "output_type": "execute_result"
    }
   ],
   "source": [
    "sequence_clusters[sequence_clusters.duplicated(\"cluster_component\")]"
   ]
  },
  {
   "cell_type": "code",
   "execution_count": 26,
   "id": "d4f672d2",
   "metadata": {},
   "outputs": [
    {
     "name": "stdout",
     "output_type": "stream",
     "text": [
      "Theres 15666 cluster representatives and 84030 sequences in total.\n"
     ]
    }
   ],
   "source": [
    "cluster_representatives = sequence_clusters.cluster_representative.unique()\n",
    "cluster_components = sequence_clusters.cluster_component.unique()\n",
    "\n",
    "print(f\"Theres {len(cluster_representatives)} cluster representatives and \"\n",
    "      f\"{len(cluster_components)} sequences in total.\")"
   ]
  },
  {
   "cell_type": "code",
   "execution_count": 64,
   "id": "ac3cb37f",
   "metadata": {},
   "outputs": [],
   "source": [
    "train, test = train_test_split(cluster_representatives, test_size=0.2, random_state=11)\n",
    "train = set(train)\n",
    "test = set(test)"
   ]
  },
  {
   "cell_type": "code",
   "execution_count": 65,
   "id": "27d33309",
   "metadata": {},
   "outputs": [
    {
     "data": {
      "text/plain": [
       "12532"
      ]
     },
     "execution_count": 65,
     "metadata": {},
     "output_type": "execute_result"
    }
   ],
   "source": [
    "len(train)"
   ]
  },
  {
   "cell_type": "code",
   "execution_count": 66,
   "id": "c5164d61",
   "metadata": {},
   "outputs": [
    {
     "data": {
      "text/plain": [
       "3134"
      ]
     },
     "execution_count": 66,
     "metadata": {},
     "output_type": "execute_result"
    }
   ],
   "source": [
    "len(test)"
   ]
  },
  {
   "cell_type": "code",
   "execution_count": 67,
   "id": "b3c31135",
   "metadata": {},
   "outputs": [],
   "source": [
    "clustered_set = list()\n",
    "full_set = list()\n",
    "mixed_set = list()\n",
    "\n",
    "for protein in proteins:\n",
    "    if protein.get('sequence') \\\n",
    "    and protein.get('meltingPoint') \\\n",
    "    and not math.isnan(protein.get('meltingPoint'))\\\n",
    "    and protein.get('runName'):\n",
    "        \n",
    "        key = f\"{protein.get('uniprotAccession')}_{'_'.join(protein.get('runName').split(' '))}\"\n",
    "        \n",
    "        if key in possibilities:\n",
    "            hits = sequence_clusters[sequence_clusters.cluster_component == key].values\n",
    "            cluster_rep_key = hits[0][0]\n",
    "\n",
    "\n",
    "            if cluster_rep_key in train:\n",
    "                full_set.append({\n",
    "                    'sequence': protein.get('sequence'),\n",
    "                    'target': protein.get('meltingPoint'),\n",
    "                    'set': 'train'\n",
    "                })\n",
    "                \n",
    "                mixed_set.append({\n",
    "                    'sequence': protein.get('sequence'),\n",
    "                    'target': protein.get('meltingPoint'),\n",
    "                    'set': 'train'\n",
    "                })\n",
    "            elif cluster_rep_key in test:\n",
    "                full_set.append({\n",
    "                    'sequence': protein.get('sequence'),\n",
    "                    'target': protein.get('meltingPoint'),\n",
    "                    'set': 'test'\n",
    "                })\n",
    "\n",
    "            possibilities.remove(key)\n",
    "\n",
    "            if key in train:\n",
    "                clustered_set.append({\n",
    "                    'sequence': protein.get('sequence'),\n",
    "                    'target': protein.get('meltingPoint'),\n",
    "                    'set': 'train'\n",
    "                })\n",
    "                train.remove(key)\n",
    "            elif key in test:\n",
    "                clustered_set.append({\n",
    "                    'sequence': protein.get('sequence'),\n",
    "                    'target': protein.get('meltingPoint'),\n",
    "                    'set': 'test'\n",
    "                })\n",
    "                \n",
    "                mixed_set.append({\n",
    "                    'sequence': protein.get('sequence'),\n",
    "                    'target': protein.get('meltingPoint'),\n",
    "                    'set': 'test'\n",
    "                })\n",
    "                test.remove(key)"
   ]
  },
  {
   "cell_type": "code",
   "execution_count": 69,
   "id": "e138c2e6",
   "metadata": {},
   "outputs": [
    {
     "data": {
      "text/plain": [
       "15666"
      ]
     },
     "execution_count": 69,
     "metadata": {},
     "output_type": "execute_result"
    },
    {
     "data": {
      "image/png": "[encoded data removed]",
      "text/plain": [
       "<Figure size 432x288 with 1 Axes>"
      ]
     },
     "metadata": {
      "needs_background": "light"
     },
     "output_type": "display_data"
    },
    {
     "data": {
      "image/png": "[encoded data removed]",
      "text/plain": [
       "<Figure size 432x288 with 1 Axes>"
      ]
     },
     "metadata": {
      "needs_background": "light"
     },
     "output_type": "display_data"
    }
   ],
   "source": [
    "# 2021.08.26\n",
    "# Numerically, there is little difference between the three splits. As such: we only keep the mixed split.\n",
    "\n",
    "# clustered_set_df = DataFrame.from_records(clustered_set)\n",
    "# clustered_set_df[clustered_set_df.set == \"train\"].hist()\n",
    "# clustered_set_df[clustered_set_df.set == \"test\"].hist()\n",
    "# len(clustered_set_df)"
   ]
  },
  {
   "cell_type": "code",
   "execution_count": 71,
   "id": "17877f8c",
   "metadata": {},
   "outputs": [
    {
     "data": {
      "text/plain": [
       "31123"
      ]
     },
     "execution_count": 71,
     "metadata": {},
     "output_type": "execute_result"
    },
    {
     "data": {
      "image/png": "[encoded data removed]",
      "text/plain": [
       "<Figure size 432x288 with 1 Axes>"
      ]
     },
     "metadata": {
      "needs_background": "light"
     },
     "output_type": "display_data"
    },
    {
     "data": {
      "image/png": "[encoded data removed]",
      "text/plain": [
       "<Figure size 432x288 with 1 Axes>"
      ]
     },
     "metadata": {
      "needs_background": "light"
     },
     "output_type": "display_data"
    }
   ],
   "source": [
    "# 2021.08.26\n",
    "# Numerically, there is little difference between the three splits. As such: we only keep the mixed split.\n",
    "\n",
    "# full_set_df = DataFrame.from_records(full_set)\n",
    "# full_set_df[full_set_df.set == \"train\"].hist()\n",
    "# full_set_df[full_set_df.set == \"test\"].hist()\n",
    "# len(full_set_df)"
   ]
  },
  {
   "cell_type": "code",
   "execution_count": 73,
   "id": "53a8e564",
   "metadata": {},
   "outputs": [
    {
     "data": {
      "text/plain": [
       "27951"
      ]
     },
     "execution_count": 73,
     "metadata": {},
     "output_type": "execute_result"
    },
    {
     "data": {
      "image/png": "[encoded data removed]",
      "text/plain": [
       "<Figure size 432x288 with 1 Axes>"
      ]
     },
     "metadata": {
      "needs_background": "light"
     },
     "output_type": "display_data"
    },
    {
     "data": {
      "image/png": "[encoded data removed]",
      "text/plain": [
       "<Figure size 432x288 with 1 Axes>"
      ]
     },
     "metadata": {
      "needs_background": "light"
     },
     "output_type": "display_data"
    }
   ],
   "source": [
    "mixed_set_df = DataFrame.from_records(mixed_set)\n",
    "mixed_set_df[mixed_set_df.set == \"train\"].hist()\n",
    "mixed_set_df[mixed_set_df.set == \"test\"].hist()\n",
    "len(mixed_set_df)"
   ]
  },
  {
   "cell_type": "code",
   "execution_count": 75,
   "id": "b26f5dc4",
   "metadata": {},
   "outputs": [],
   "source": [
    "# 2021.08.26\n",
    "# Numerically, there is little difference between the three splits. As such: we only keep the mixed split.\n",
    "\n",
    "# clustered_set_df.to_csv(split_path / 'splits' / 'clustered_split.csv', index=False)\n",
    "# full_set_df.to_csv(split_path / 'splits' / 'full_split.csv', index=False)\n",
    "\n",
    "mixed_set_df.to_csv(split_path / 'splits' / 'mixed_split.csv', index=False)"
   ]
  }
 ],
 "metadata": {
  "kernelspec": {
   "display_name": "Python 3",
   "language": "python",
   "name": "python3"
  },
  "language_info": {
   "codemirror_mode": {
    "name": "ipython",
    "version": 3
   },
   "file_extension": ".py",
   "mimetype": "text/x-python",
   "name": "python",
   "nbconvert_exporter": "python",
   "pygments_lexer": "ipython3",
   "version": "3.8.10"
  }
 },
 "nbformat": 4,
 "nbformat_minor": 5
}