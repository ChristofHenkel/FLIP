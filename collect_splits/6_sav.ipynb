{
 "cells": [
  {
   "cell_type": "markdown",
   "id": "7486d5fd",
   "metadata": {},
   "source": [
    "# Notes"
   ]
  },
  {
   "cell_type": "markdown",
   "id": "d48b7f44",
   "metadata": {},
   "source": []
  },
  {
   "cell_type": "markdown",
   "id": "b51d52cd",
   "metadata": {},
   "source": [
    "# Configs & Imports"
   ]
  },
  {
   "cell_type": "code",
   "execution_count": 12,
   "id": "2ecc8ff5",
   "metadata": {},
   "outputs": [
    {
     "name": "stdout",
     "output_type": "stream",
     "text": [
      "The autoreload extension is already loaded. To reload it, use:\n",
      "  %reload_ext autoreload\n"
     ]
    }
   ],
   "source": [
    "from os import path\n",
    "from pathlib import Path\n",
    "\n",
    "from pandas import DataFrame, read_csv\n",
    "from numpy import NaN\n",
    "\n",
    "from Bio import SeqIO\n",
    "\n",
    "from IPython.display import display\n",
    "\n",
    "from tqdm import tqdm\n",
    "\n",
    "%load_ext autoreload\n",
    "%autoreload 2"
   ]
  },
  {
   "cell_type": "code",
   "execution_count": 2,
   "id": "adb2065f",
   "metadata": {},
   "outputs": [],
   "source": [
    "# Where the raw data is stored and where processed data will be deposited\n",
    "data_path = Path('') / '..' / 'data' / 'sav'\n",
    "\n",
    "neutral_path = data_path / 'labels' / 'neutral'\n",
    "neutral_files = neutral_path.rglob('*.effect')\n",
    "\n",
    "effect_path = data_path / 'labels' / 'effect'\n",
    "effect_files = effect_path.rglob('*.effect')\n",
    "\n",
    "split_path = Path('') / '..' / 'splits' / 'sav'"
   ]
  },
  {
   "cell_type": "markdown",
   "id": "2241657b",
   "metadata": {},
   "source": [
    "# Obtain original datasets"
   ]
  },
  {
   "cell_type": "code",
   "execution_count": 3,
   "id": "a26dd704",
   "metadata": {},
   "outputs": [],
   "source": [
    "# Function to encapsulate the fasta data files\n",
    "def getProteinsFromFASTAFile(filePath):\n",
    "    columns = [\"id\", \"sequence\", \"neutral\", \"effect\"]\n",
    "    dataset = DataFrame(columns = columns)\n",
    "    \n",
    "    for protein in tqdm(SeqIO.parse(filePath, \"fasta\")):\n",
    "        dataset = dataset.append({\"id\": protein.id,\n",
    "                                  \"sequence\": str(protein.seq)}, ignore_index=True)\n",
    "    \n",
    "    return dataset"
   ]
  },
  {
   "cell_type": "code",
   "execution_count": 4,
   "id": "7906bc61",
   "metadata": {},
   "outputs": [
    {
     "name": "stderr",
     "output_type": "stream",
     "text": [
      "9660it [07:36, 21.18it/s]\n"
     ]
    }
   ],
   "source": [
    "# If available we use the FASTA file converted to CSV because\n",
    "# processing this FASTA file takes too long.\n",
    "if path.exists(split_path / 'sequences_dataframe.csv'):\n",
    "    data = read_csv(split_path / 'sequences_dataframe.csv')\n",
    "else:\n",
    "    data = getProteinsFromFASTAFile(data_path / \"sequences.fasta\")\n",
    "    data.to_csv(split_path / 'sequences_dataframe.csv', index=False)"
   ]
  },
  {
   "cell_type": "code",
   "execution_count": 5,
   "id": "499e390c",
   "metadata": {},
   "outputs": [
    {
     "name": "stderr",
     "output_type": "stream",
     "text": [
      "4233it [01:22, 51.28it/s] \n"
     ]
    }
   ],
   "source": [
    "# Get the neutral SAVs\n",
    "neutral_sav = dict()\n",
    "for path in tqdm(neutral_files):\n",
    "    name = str(path).split('/')[5]\n",
    "    protein_name = name.split('@')[0]\n",
    "    \n",
    "    with open(path, 'r') as f:\n",
    "        variations = f.read().splitlines()\n",
    "        neutral_sav[protein_name] = list(map(lambda x: x.split(' ')[0], variations))"
   ]
  },
  {
   "cell_type": "code",
   "execution_count": 6,
   "id": "bb8ec341",
   "metadata": {},
   "outputs": [
    {
     "name": "stderr",
     "output_type": "stream",
     "text": [
      "7387it [01:24, 87.29it/s] \n"
     ]
    }
   ],
   "source": [
    "# Get the effect SAVs\n",
    "effect_sav = dict()\n",
    "for path in tqdm(effect_files):\n",
    "    name = str(path).split('/')[5]\n",
    "    protein_name = name.split('@')[0]\n",
    "    \n",
    "    with open(path, 'r') as f:\n",
    "        variations = f.read().splitlines()\n",
    "        effect_sav[protein_name] = list(map(lambda x: x.split(' ')[0], variations))"
   ]
  },
  {
   "cell_type": "code",
   "execution_count": 8,
   "id": "a39f02a1",
   "metadata": {},
   "outputs": [
    {
     "name": "stderr",
     "output_type": "stream",
     "text": [
      "100%|██████████████████████████████████████| 9660/9660 [00:55<00:00, 175.07it/s]\n"
     ]
    }
   ],
   "source": [
    "# Modify the ID of the proteins and add effect and neutral SAV\n",
    "for i in tqdm(range(len(data))):\n",
    "    id = data.iloc[i][\"id\"].split('@')[0]\n",
    "    data[\"id\"].iloc[i] = id\n",
    "    \n",
    "    if id in set(neutral_sav.keys()):\n",
    "        data[\"neutral\"].iloc[i] = neutral_sav[id]\n",
    "    \n",
    "    if id in set(effect_sav.keys()):\n",
    "        data[\"effect\"].iloc[i] = effect_sav[id]"
   ]
  },
  {
   "cell_type": "code",
   "execution_count": 9,
   "id": "1dbe9062",
   "metadata": {},
   "outputs": [
    {
     "data": {
      "text/html": [
       "<div>\n",
       "<style scoped>\n",
       "    .dataframe tbody tr th:only-of-type {\n",
       "        vertical-align: middle;\n",
       "    }\n",
       "\n",
       "    .dataframe tbody tr th {\n",
       "        vertical-align: top;\n",
       "    }\n",
       "\n",
       "    .dataframe thead th {\n",
       "        text-align: right;\n",
       "    }\n",
       "</style>\n",
       "<table border=\"1\" class=\"dataframe\">\n",
       "  <thead>\n",
       "    <tr style=\"text-align: right;\">\n",
       "      <th></th>\n",
       "      <th>id</th>\n",
       "      <th>sequence</th>\n",
       "      <th>neutral</th>\n",
       "      <th>effect</th>\n",
       "    </tr>\n",
       "  </thead>\n",
       "  <tbody>\n",
       "    <tr>\n",
       "      <th>0</th>\n",
       "      <td>A40493</td>\n",
       "      <td>MEVSPLQPVNENMQVNKIKKNEDAKKRLSVERIYQKKTQLEHILLR...</td>\n",
       "      <td>NaN</td>\n",
       "      <td>[R449Q, R486K]</td>\n",
       "    </tr>\n",
       "    <tr>\n",
       "      <th>1</th>\n",
       "      <td>S17875</td>\n",
       "      <td>MPFPVTTQGSQQTQPPQKHYGITSPISLAAPKETDCLLTQKLVETL...</td>\n",
       "      <td>[K96H]</td>\n",
       "      <td>[D125A, D125S, D128A, F100A, F100I, F98N, F98S...</td>\n",
       "    </tr>\n",
       "    <tr>\n",
       "      <th>2</th>\n",
       "      <td>S37460</td>\n",
       "      <td>MRRNSRARLGVSLLLVAGALGLGAAPSTAADTPPAAPSAIPAPSAY...</td>\n",
       "      <td>NaN</td>\n",
       "      <td>[H315V, H340A, S328A, S328G]</td>\n",
       "    </tr>\n",
       "    <tr>\n",
       "      <th>3</th>\n",
       "      <td>DCLBHP</td>\n",
       "      <td>MSELDAKLNKLGVDRIAISPYKQWTRGYMEPGNIGNGYVTGLKVDA...</td>\n",
       "      <td>NaN</td>\n",
       "      <td>[D199N, D54N, D64N, G59D, I60A, I60V, Y63F]</td>\n",
       "    </tr>\n",
       "    <tr>\n",
       "      <th>4</th>\n",
       "      <td>AJECDS</td>\n",
       "      <td>MGNNVVVLGTQWGDEGKGKIVDLLTERAKYVVRYQGGHNAGHTLVI...</td>\n",
       "      <td>NaN</td>\n",
       "      <td>[D334E, D334N, D334Q, G13V, G16V, G18V, I20T, ...</td>\n",
       "    </tr>\n",
       "    <tr>\n",
       "      <th>...</th>\n",
       "      <td>...</td>\n",
       "      <td>...</td>\n",
       "      <td>...</td>\n",
       "      <td>...</td>\n",
       "    </tr>\n",
       "    <tr>\n",
       "      <th>9655</th>\n",
       "      <td>A940612</td>\n",
       "      <td>RVTLSSKPQALATPNKEEHGKRKKKGKGLGKKRDPCLRKYKDFCIH...</td>\n",
       "      <td>[K16A, K21A, K23A, K24A, K25A, K27A, K53A, R22...</td>\n",
       "      <td>NaN</td>\n",
       "    </tr>\n",
       "    <tr>\n",
       "      <th>9656</th>\n",
       "      <td>A984244</td>\n",
       "      <td>NTSSSPQPKKKPLDGEYFTLQIRGRERFEMFRELNEALELKDAQAG...</td>\n",
       "      <td>[A37E, D42A, E16A, E26A, E29A, E33A, E36A, E39...</td>\n",
       "      <td>NaN</td>\n",
       "    </tr>\n",
       "    <tr>\n",
       "      <th>9657</th>\n",
       "      <td>A000292</td>\n",
       "      <td>MAQTPAFDKPKVELHVHLDGSIKPETILYYGRRRGIALPANTAEGL...</td>\n",
       "      <td>[A131D, D143A, E128D, G134N]</td>\n",
       "      <td>NaN</td>\n",
       "    </tr>\n",
       "    <tr>\n",
       "      <th>9658</th>\n",
       "      <td>A983849</td>\n",
       "      <td>MPEISLRHVVSGSSQDSTHCAENLLKADTYRKWRAATAGEKTISVV...</td>\n",
       "      <td>[Q221L]</td>\n",
       "      <td>NaN</td>\n",
       "    </tr>\n",
       "    <tr>\n",
       "      <th>9659</th>\n",
       "      <td>A010069</td>\n",
       "      <td>PGTQQGSPGWSQAGAEGAAYTPPPVSPRFSFPGTTGSLAAAAAAAA...</td>\n",
       "      <td>[T145E]</td>\n",
       "      <td>NaN</td>\n",
       "    </tr>\n",
       "  </tbody>\n",
       "</table>\n",
       "<p>9660 rows × 4 columns</p>\n",
       "</div>"
      ],
      "text/plain": [
       "           id                                           sequence  \\\n",
       "0      A40493  MEVSPLQPVNENMQVNKIKKNEDAKKRLSVERIYQKKTQLEHILLR...   \n",
       "1      S17875  MPFPVTTQGSQQTQPPQKHYGITSPISLAAPKETDCLLTQKLVETL...   \n",
       "2      S37460  MRRNSRARLGVSLLLVAGALGLGAAPSTAADTPPAAPSAIPAPSAY...   \n",
       "3      DCLBHP  MSELDAKLNKLGVDRIAISPYKQWTRGYMEPGNIGNGYVTGLKVDA...   \n",
       "4      AJECDS  MGNNVVVLGTQWGDEGKGKIVDLLTERAKYVVRYQGGHNAGHTLVI...   \n",
       "...       ...                                                ...   \n",
       "9655  A940612  RVTLSSKPQALATPNKEEHGKRKKKGKGLGKKRDPCLRKYKDFCIH...   \n",
       "9656  A984244  NTSSSPQPKKKPLDGEYFTLQIRGRERFEMFRELNEALELKDAQAG...   \n",
       "9657  A000292  MAQTPAFDKPKVELHVHLDGSIKPETILYYGRRRGIALPANTAEGL...   \n",
       "9658  A983849  MPEISLRHVVSGSSQDSTHCAENLLKADTYRKWRAATAGEKTISVV...   \n",
       "9659  A010069  PGTQQGSPGWSQAGAEGAAYTPPPVSPRFSFPGTTGSLAAAAAAAA...   \n",
       "\n",
       "                                                neutral  \\\n",
       "0                                                   NaN   \n",
       "1                                                [K96H]   \n",
       "2                                                   NaN   \n",
       "3                                                   NaN   \n",
       "4                                                   NaN   \n",
       "...                                                 ...   \n",
       "9655  [K16A, K21A, K23A, K24A, K25A, K27A, K53A, R22...   \n",
       "9656  [A37E, D42A, E16A, E26A, E29A, E33A, E36A, E39...   \n",
       "9657                       [A131D, D143A, E128D, G134N]   \n",
       "9658                                            [Q221L]   \n",
       "9659                                            [T145E]   \n",
       "\n",
       "                                                 effect  \n",
       "0                                        [R449Q, R486K]  \n",
       "1     [D125A, D125S, D128A, F100A, F100I, F98N, F98S...  \n",
       "2                          [H315V, H340A, S328A, S328G]  \n",
       "3           [D199N, D54N, D64N, G59D, I60A, I60V, Y63F]  \n",
       "4     [D334E, D334N, D334Q, G13V, G16V, G18V, I20T, ...  \n",
       "...                                                 ...  \n",
       "9655                                                NaN  \n",
       "9656                                                NaN  \n",
       "9657                                                NaN  \n",
       "9658                                                NaN  \n",
       "9659                                                NaN  \n",
       "\n",
       "[9660 rows x 4 columns]"
      ]
     },
     "execution_count": 9,
     "metadata": {},
     "output_type": "execute_result"
    }
   ],
   "source": [
    "# Check the dataset\n",
    "data"
   ]
  },
  {
   "cell_type": "markdown",
   "id": "1a6929fd",
   "metadata": {},
   "source": [
    "# Statistics"
   ]
  },
  {
   "cell_type": "code",
   "execution_count": 26,
   "id": "4f453fec",
   "metadata": {},
   "outputs": [
    {
     "data": {
      "text/plain": [
       "'Number of proteins with neutral SAVs: 4299'"
      ]
     },
     "metadata": {},
     "output_type": "display_data"
    },
    {
     "data": {
      "text/plain": [
       "'Number of proteins with effect SAVs: 7491'"
      ]
     },
     "metadata": {},
     "output_type": "display_data"
    },
    {
     "data": {
      "text/plain": [
       "'Number of proteins with only neutral SAVs: 2169'"
      ]
     },
     "metadata": {},
     "output_type": "display_data"
    },
    {
     "data": {
      "text/plain": [
       "'Number of proteins with only effect SAVs: 5361'"
      ]
     },
     "metadata": {},
     "output_type": "display_data"
    },
    {
     "data": {
      "text/plain": [
       "'Number of proteins with neutral and effect SAVs: 2130'"
      ]
     },
     "metadata": {},
     "output_type": "display_data"
    }
   ],
   "source": [
    "# Number of proteins with neutral and/or effect SAVs\n",
    "count_neutral_proteins = len(data.loc[data[\"neutral\"].notnull()])\n",
    "count_effect_proteins = len(data.loc[data[\"effect\"].notnull()])\n",
    "count_only_neutral_proteins = len(data.loc[data[\"neutral\"].notnull() & data[\"effect\"].isnull()])\n",
    "count_only_effect_proteins = len(data.loc[data[\"neutral\"].isnull() & data[\"effect\"].notnull()])\n",
    "count_neutral_and_effect_proteins = len(data.loc[data[\"neutral\"].notnull() & data[\"effect\"].notnull()])\n",
    "\n",
    "\n",
    "display(\"Number of proteins with neutral SAVs: \" + str(count_neutral_proteins))\n",
    "display(\"Number of proteins with effect SAVs: \" + str(count_effect_proteins))\n",
    "display(\"Number of proteins with only neutral SAVs: \" + str(count_only_neutral_proteins))\n",
    "display(\"Number of proteins with only effect SAVs: \" + str(count_only_effect_proteins))\n",
    "display(\"Number of proteins with neutral and effect SAVs: \" + str(count_neutral_and_effect_proteins))"
   ]
  },
  {
   "cell_type": "code",
   "execution_count": 63,
   "id": "0127ba80",
   "metadata": {},
   "outputs": [
    {
     "data": {
      "text/plain": [
       "'Total number of AAs: 4983949'"
      ]
     },
     "metadata": {},
     "output_type": "display_data"
    },
    {
     "data": {
      "text/plain": [
       "'Size of the smallest protein: 28'"
      ]
     },
     "metadata": {},
     "output_type": "display_data"
    },
    {
     "data": {
      "text/plain": [
       "'Size of the largest protein: 4967'"
      ]
     },
     "metadata": {},
     "output_type": "display_data"
    },
    {
     "data": {
      "text/plain": [
       "'Number of neutral SAVs: 40418'"
      ]
     },
     "metadata": {},
     "output_type": "display_data"
    },
    {
     "data": {
      "text/plain": [
       "'Number of effect SAVs: 62124'"
      ]
     },
     "metadata": {},
     "output_type": "display_data"
    }
   ],
   "source": [
    "# Number of residues and number of residues with neutral or effect SAV\n",
    "count_aa = [len(data.iloc[i].sequence) for i in range(len(data))]\n",
    "neutral_savs = [data[\"neutral\"].iloc[i] for i in range(len(data)) if data[\"neutral\"].iloc[i] is not NaN]\n",
    "effect_savs = [data[\"effect\"].iloc[i] for i in range(len(data)) if data[\"effect\"].iloc[i] is not NaN]\n",
    "\n",
    "display(\"Total number of AAs: \" + str(sum(count_aa)))\n",
    "display(\"Size of the smallest protein: \" + str(min(count_aa)))\n",
    "display(\"Size of the largest protein: \" + str(max(count_aa)))\n",
    "display(\"Number of neutral SAVs: \" + str(sum([len(protein_neutral_savs) for protein_neutral_savs in neutral_savs])))\n",
    "display(\"Number of effect SAVs: \" + str(sum([len(protein_effect_savs) for protein_effect_savs in effect_savs])))"
   ]
  },
  {
   "cell_type": "code",
   "execution_count": null,
   "id": "01905722",
   "metadata": {},
   "outputs": [],
   "source": []
  },
  {
   "cell_type": "code",
   "execution_count": null,
   "id": "f857dc57",
   "metadata": {},
   "outputs": [],
   "source": []
  },
  {
   "cell_type": "code",
   "execution_count": null,
   "id": "19f83ed0",
   "metadata": {},
   "outputs": [],
   "source": []
  },
  {
   "cell_type": "code",
   "execution_count": null,
   "id": "38d08d90",
   "metadata": {},
   "outputs": [],
   "source": []
  },
  {
   "cell_type": "code",
   "execution_count": null,
   "id": "6279ee82",
   "metadata": {},
   "outputs": [],
   "source": []
  }
 ],
 "metadata": {
  "kernelspec": {
   "display_name": "Python 3 (ipykernel)",
   "language": "python",
   "name": "python3"
  },
  "language_info": {
   "codemirror_mode": {
    "name": "ipython",
    "version": 3
   },
   "file_extension": ".py",
   "mimetype": "text/x-python",
   "name": "python",
   "nbconvert_exporter": "python",
   "pygments_lexer": "ipython3",
   "version": "3.8.13"
  }
 },
 "nbformat": 4,
 "nbformat_minor": 5
}
