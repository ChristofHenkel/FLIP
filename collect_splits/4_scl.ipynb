{
 "cells": [
  {
   "cell_type": "markdown",
   "id": "2bae72e2-7b1e-459e-8d80-759efd336f43",
   "metadata": {
    "tags": []
   },
   "source": [
    "# Notes"
   ]
  },
  {
   "cell_type": "markdown",
   "id": "b138dc8d-0349-4b4e-ae09-746f00375881",
   "metadata": {},
   "source": [
    "Used data (setDeepLoc and setHARD) from paper \"Light Attention Predicts Protein Location from the Language of Life\" by Stärk et al. available at: https://github.com/HannesStark/protein-localization/tree/master/data_files\n",
    "\n",
    "Original data from http://www.cbs.dtu.dk/services/DeepLoc/data.php.\n",
    "\n",
    "**Data explanation**:\n",
    "- setDeepLoc:\n",
    "    - Train: 9503 proteins\n",
    "    - Validation: 1158 proteins redundance reduced (<= 30% PIDE (pairwise sequence identity))\n",
    "    - Test: 2768 proteins redundance reduce to the training set (<= 30% PIDE & E-values <= 10^-6)\n",
    "- setHARD:\n",
    "    - Test: 490 proteins representative of clusters at >= 20% PIDE of proteins from SwissProt (only eukaryote, no fragments, >= 40 residues and proteins deleting with >= 20% PIDE to all sets)\n",
    "\n",
    "\n",
    "**Proposed splits**:\n",
    "- From the original Stärk et al. paper data:\n",
    "    - `mixed_soft`: deepLoc train + deepLoc validation + deepLoc test ---> Ready!\n",
    "    - `mixed_hard`: deepLoc train + deepLoc validation + testHARD test ---> Ready!\n",
    "- From the original Thumuluri et al. DeepLoc 2.0 paper data:\n",
    "    - `mixed_vs_human_2`: deepLoc 2 train (mixed) + deepLoc 2 validation (mixed) + deepLoc 2 test (human) ---> Que hacer cuando mas de una clase?????\n",
    "- New proposals:\n",
    "    - `human_soft`: deepLoc train + deepLoc validation + deepLoc test (only human proteins) ---> Ready!\n",
    "    - `human_hard`: deepLoc train + deepLoc validation + testHARD test (only human proteins) ---> Ready!\n",
    "    - `mixed_balanced`: TODO\n",
    "    - `human_balanced`: TODO"
   ]
  },
  {
   "cell_type": "markdown",
   "id": "b3f90f54-ea0d-41cc-a8d4-6a8ce6858c91",
   "metadata": {
    "tags": []
   },
   "source": [
    "# Configs & Imports"
   ]
  },
  {
   "cell_type": "code",
   "execution_count": 1,
   "id": "16243936-b104-4474-87e9-b118c67ca57b",
   "metadata": {},
   "outputs": [],
   "source": [
    "import re\n",
    "\n",
    "from pathlib import Path\n",
    "\n",
    "from pandas import DataFrame, read_csv\n",
    "import numpy as np\n",
    "from matplotlib import pyplot as plt\n",
    "\n",
    "from Bio import SeqIO"
   ]
  },
  {
   "cell_type": "code",
   "execution_count": 2,
   "id": "e46deea7-473b-4a0d-9897-58e3b18d48fb",
   "metadata": {},
   "outputs": [],
   "source": [
    "# Where the raw data is stored and where processed data will be deposited\n",
    "data_path = Path('') / '..' / 'data' / 'subcellular_localization'\n",
    "split_path = Path('') / '..' / 'splits' / 'scl'\n",
    "\n",
    "# There are 4 datasets: TODO: CHANGE\n",
    "# From original the original deepLoc: one for training, one for validation and one for test\n",
    "# From Stärk et al. paper: one for test\n",
    "train_data_path = data_path / 'deeploc_our_train_set.fasta'\n",
    "validation_data_path = data_path / 'deeploc_our_val_set.fasta'\n",
    "test_data_path = data_path / 'deeploc_test_set.fasta'\n",
    "final_test_data_path = data_path / 'setHARD.fasta'\n",
    "deepLoc2_train_and_val_data_path = data_path / 'Swissprot_Train_Validation_dataset.csv'\n",
    "deepLoc2_test_data_path = data_path / 'hpa_testset.csv'\n",
    "\n",
    "# For the human data, we need to map gene names to UniProt accessions\n",
    "# Then we use a TSV export from UniProt to map the sequence to the gene name # TODO\n",
    "human_sequences_path = data_path / 'human_sequences.tsv'"
   ]
  },
  {
   "cell_type": "markdown",
   "id": "afaea6f6-9e35-4538-a1c5-9d7b2901d16d",
   "metadata": {
    "tags": []
   },
   "source": [
    "# Obtain original datasets"
   ]
  },
  {
   "cell_type": "code",
   "execution_count": 3,
   "id": "7655f781-44c5-404f-b120-b29fa707d8e9",
   "metadata": {},
   "outputs": [],
   "source": [
    "# Function to encapsulate the reading of the four data files\n",
    "def getProteinsFromFASTAFile(filePath):\n",
    "    columns = [\"id\", \"name\", \"location\", \"sequence\"]\n",
    "    dataset = DataFrame(columns = columns)\n",
    "    \n",
    "    for protein in SeqIO.parse(filePath, \"fasta\"):\n",
    "        dataset = dataset.append({\"id\": protein.id,\n",
    "                                            \"name\": protein.name,\n",
    "                                            \"location\": protein.description.split(\" \")[1],\n",
    "                                            #\"Location\": re.search(r'[a-zA-Z]*\\.([a-zA-Z]*)-[a-zA-Z]*', record.description).group(1), \n",
    "                                            \"sequence\": str(protein.seq)}, ignore_index=True)\n",
    "    \n",
    "    return dataset"
   ]
  },
  {
   "cell_type": "code",
   "execution_count": 4,
   "id": "1861a07c-7578-4513-afad-ce4ef1a0f7e4",
   "metadata": {},
   "outputs": [],
   "source": [
    "# Obtain data from sets\n",
    "train_set_full = getProteinsFromFASTAFile(train_data_path)\n",
    "validation_set_full = getProteinsFromFASTAFile(validation_data_path)\n",
    "test_set_full = getProteinsFromFASTAFile(test_data_path)\n",
    "test_set_hard = getProteinsFromFASTAFile(final_test_data_path)\n",
    "deepLoc2_train_and_val = read_csv(deepLoc2_train_and_val_data_path)\n",
    "deepLoc2_test = read_csv(deepLoc2_test_data_path)\n",
    "\n",
    "# Obtain human data\n",
    "human_sequences_data = read_csv(human_sequences_path, sep='\\t')"
   ]
  },
  {
   "cell_type": "code",
   "execution_count": 5,
   "id": "a98b57c8-db13-4429-a239-4de53c9fc4c2",
   "metadata": {},
   "outputs": [],
   "source": [
    "# Simplificate classes (e.g. Nucleus-S and Nucleus-M to Nucleus)\n",
    "modification = lambda row : row[\"location\"].split(\"-\")[0].replace(\".\", \" \")\n",
    "\n",
    "train_set_full[\"location\"] = train_set_full.apply(modification, axis = 1)\n",
    "validation_set_full[\"location\"] = validation_set_full.apply(modification, axis = 1)\n",
    "test_set_full[\"location\"] = test_set_full.apply(modification, axis = 1)\n",
    "test_set_hard[\"location\"] = test_set_hard.apply(modification, axis = 1)"
   ]
  },
  {
   "cell_type": "markdown",
   "id": "5ace2b89-9031-405f-8fa4-40cf98eb5530",
   "metadata": {
    "tags": []
   },
   "source": [
    "# From original paper data"
   ]
  },
  {
   "cell_type": "markdown",
   "id": "8a0cab5d-0f68-47db-904d-b4931635ab7a",
   "metadata": {
    "jp-MarkdownHeadingCollapsed": true,
    "tags": []
   },
   "source": [
    "## mixed_soft (deepLoc train + deepLoc validation + deepLoc test)"
   ]
  },
  {
   "cell_type": "code",
   "execution_count": 5,
   "id": "4c217006-eaf4-41d8-a069-f5cd8d173b63",
   "metadata": {},
   "outputs": [
    {
     "name": "stderr",
     "output_type": "stream",
     "text": [
      "/Users/joaquimgomez/opt/anaconda3/envs/rostlab/lib/python3.8/site-packages/pandas/core/frame.py:5034: SettingWithCopyWarning: \n",
      "A value is trying to be set on a copy of a slice from a DataFrame\n",
      "\n",
      "See the caveats in the documentation: https://pandas.pydata.org/pandas-docs/stable/user_guide/indexing.html#returning-a-view-versus-a-copy\n",
      "  return super().rename(\n"
     ]
    }
   ],
   "source": [
    "mixed_soft = DataFrame(columns = [\"sequence\", \"target\", \"set\", \"validation\"])\n",
    "\n",
    "# Add train set (deepLoc)\n",
    "tmp = train_set_full[[\"sequence\", \"location\"]]\n",
    "tmp.rename(columns = {\"location\": \"target\"}, inplace = True)\n",
    "tmp.insert(2, \"set\", [\"train\"]*len(train_set_full))\n",
    "mixed_soft = mixed_soft.append(tmp)\n",
    "\n",
    "# Add validation set (deepLoc)\n",
    "tmp = validation_set_full[[\"sequence\", \"location\"]]\n",
    "tmp.rename(columns = {\"location\": \"target\"}, inplace = True)\n",
    "tmp.insert(2, \"set\", [\"train\"]*len(validation_set_full))\n",
    "tmp.insert(2, \"validation\", [True]*len(validation_set_full))\n",
    "mixed_soft = mixed_soft.append(tmp)\n",
    "\n",
    "# Add test set (deepLoc)\n",
    "tmp = test_set_full[[\"sequence\", \"location\"]]\n",
    "tmp.rename(columns = {\"location\": \"target\"}, inplace = True)\n",
    "tmp.insert(2, \"set\", [\"test\"]*len(test_set_full))\n",
    "mixed_soft = mixed_soft.append(tmp)\n",
    "\n",
    "mixed_soft = mixed_soft.reset_index(drop = True)"
   ]
  },
  {
   "cell_type": "code",
   "execution_count": 8,
   "id": "08348ff1-de64-48aa-9251-dc38b5dd9bde",
   "metadata": {},
   "outputs": [],
   "source": [
    "mixed_soft.to_csv(split_path / 'splits' / 'mixed_soft.csv', index = False)"
   ]
  },
  {
   "cell_type": "markdown",
   "id": "ddf68ff5-d26b-42e7-9a0b-457f64fe389f",
   "metadata": {
    "jp-MarkdownHeadingCollapsed": true,
    "tags": []
   },
   "source": [
    "## mixed_hard (deepLoc train + deepLoc validation + testHARD test)"
   ]
  },
  {
   "cell_type": "code",
   "execution_count": 9,
   "id": "d98c0bca-e59b-4dd7-b41c-94e50578487f",
   "metadata": {},
   "outputs": [],
   "source": [
    "mixed_hard = DataFrame(columns = [\"sequence\", \"target\", \"set\", \"validation\"])\n",
    "\n",
    "# Add train set (deepLoc)\n",
    "tmp = train_set_full[[\"sequence\", \"location\"]]\n",
    "tmp.rename(columns = {\"location\": \"target\"}, inplace = True)\n",
    "tmp.insert(2, \"set\", [\"train\"]*len(train_set_full))\n",
    "mixed_hard = mixed_hard.append(tmp)\n",
    "\n",
    "# Add validation set (deepLoc)\n",
    "tmp = validation_set_full[[\"sequence\", \"location\"]]\n",
    "tmp.rename(columns = {\"location\": \"target\"}, inplace = True)\n",
    "tmp.insert(2, \"set\", [\"train\"]*len(validation_set_full))\n",
    "tmp.insert(2, \"validation\", [True]*len(validation_set_full))\n",
    "mixed_hard = mixed_hard.append(tmp)\n",
    "\n",
    "# Add test set (setHARD)\n",
    "tmp = test_set_hard[[\"sequence\", \"location\"]]\n",
    "tmp.rename(columns = {\"location\": \"target\"}, inplace = True)\n",
    "tmp.insert(2, \"set\", [\"test\"]*len(test_set_hard))\n",
    "mixed_hard = mixed_hard.append(tmp)\n",
    "\n",
    "mixed_hard = mixed_hard.reset_index(drop = True)"
   ]
  },
  {
   "cell_type": "code",
   "execution_count": 10,
   "id": "f2b73337-fc5f-4dd8-ac67-be007fc88f04",
   "metadata": {},
   "outputs": [],
   "source": [
    "mixed_hard.to_csv(split_path / 'splits' / 'mixed_hard.csv', index = False)"
   ]
  },
  {
   "cell_type": "markdown",
   "id": "02509260-7e1c-4d3a-9acc-a153038d5fb9",
   "metadata": {
    "jp-MarkdownHeadingCollapsed": true,
    "tags": []
   },
   "source": [
    "## mixed_vs_human_2 (deepLoc 2 train (mixed) + deepLoc 2 validation (mixed) + deepLoc 2 test (human))"
   ]
  },
  {
   "cell_type": "code",
   "execution_count": 5,
   "id": "3c46b59f-94e4-4ef2-8a92-15be60e1e1de",
   "metadata": {
    "tags": []
   },
   "outputs": [],
   "source": [
    "# Simplificate the training/validation dataset\n",
    "deepLoc2_train_and_val = deepLoc2_train_and_val.drop(deepLoc2_train_and_val.columns[0], axis=1)\n",
    "deepLoc2_train_and_val = deepLoc2_train_and_val.drop('Kingdom', axis=1)\n",
    "deepLoc2_train_and_val = deepLoc2_train_and_val.drop('Membrane', axis=1)\n",
    "\n",
    "# Simplificate the test dataset\n",
    "deepLoc2_test = deepLoc2_test.drop('sid', axis=1)\n",
    "deepLoc2_test = deepLoc2_test.drop('Lengths', axis=1)"
   ]
  },
  {
   "cell_type": "code",
   "execution_count": 6,
   "id": "fda6946e-7cb1-4e30-90ee-3fa07e6ddcd3",
   "metadata": {},
   "outputs": [],
   "source": [
    "classes_columns_names = ['Cytoplasm', 'Nucleus', 'Cell membrane', 'Mitochondrion', 'Endoplasmic reticulum', 'Lysosome/Vacuole', 'Golgi apparatus', 'Peroxisome', 'Extracellular', 'Plastid']\n",
    "# Delete instances with more than one class from train/val set (6684 instances from a total amount of 28303)\n",
    "to_delete = []\n",
    "for index, row in deepLoc2_train_and_val.iterrows():\n",
    "    if row[classes_columns_names].sum() > 1:\n",
    "        to_delete.append(index)\n",
    "deepLoc2_train_and_val = deepLoc2_train_and_val.drop(labels=to_delete, axis=0)\n",
    "\n",
    "# Delete instances with more than one class from test set (350 instances from a total amount of 1717)\n",
    "to_delete = []\n",
    "for index, row in deepLoc2_test.iterrows():\n",
    "    if row[classes_columns_names[:-2]].sum() > 1: # Except extracellular and plastid. There are no instances of these classes in the test set\n",
    "        to_delete.append(index)\n",
    "deepLoc2_test = deepLoc2_test.drop(labels=to_delete, axis=0)"
   ]
  },
  {
   "cell_type": "code",
   "execution_count": 7,
   "id": "e2aa2a91-1a98-42ca-bf7d-88dd0ba598f9",
   "metadata": {},
   "outputs": [],
   "source": [
    "# Transform multicolumn classes to a single column class\n",
    "deepLoc2_train_and_val['Class'] = deepLoc2_train_and_val[classes_columns_names].idxmax(1).where(deepLoc2_train_and_val.any(1))\n",
    "deepLoc2_test['Class'] = deepLoc2_test[classes_columns_names[:-2]].idxmax(1).where(deepLoc2_test.any(1))"
   ]
  },
  {
   "cell_type": "code",
   "execution_count": 8,
   "id": "9fbc4b57-36c5-46e3-a269-261820478d00",
   "metadata": {},
   "outputs": [],
   "source": [
    "# Delete multicolumn classes\n",
    "deepLoc2_train_and_val = deepLoc2_train_and_val.drop(classes_columns_names, axis=1)\n",
    "deepLoc2_test = deepLoc2_test.drop(classes_columns_names[:-2], axis=1)"
   ]
  },
  {
   "cell_type": "code",
   "execution_count": 9,
   "id": "2e893243-0746-41ee-abf4-531ec4ab688a",
   "metadata": {
    "tags": []
   },
   "outputs": [
    {
     "data": {
      "text/plain": [
       "<AxesSubplot:>"
      ]
     },
     "execution_count": 9,
     "metadata": {},
     "output_type": "execute_result"
    },
    {
     "data": {
      "image/png": "[encoded data removed]",
      "text/plain": [
       "<Figure size 1440x360 with 5 Axes>"
      ]
     },
     "metadata": {
      "needs_background": "light"
     },
     "output_type": "display_data"
    }
   ],
   "source": [
    "fig, axes = plt.subplots(figsize=(20,5), nrows=1, ncols=5)\n",
    "\n",
    "partition0 = deepLoc2_train_and_val.loc[deepLoc2_train_and_val['Partition'] == 0]\n",
    "partition1 = deepLoc2_train_and_val.loc[deepLoc2_train_and_val['Partition'] == 1]\n",
    "partition2 = deepLoc2_train_and_val.loc[deepLoc2_train_and_val['Partition'] == 1]\n",
    "partition3 = deepLoc2_train_and_val.loc[deepLoc2_train_and_val['Partition'] == 3]\n",
    "partition4 = deepLoc2_train_and_val.loc[deepLoc2_train_and_val['Partition'] == 4]\n",
    "\n",
    "\n",
    "partition1['Class'].value_counts().reindex(classes_columns_names).plot(kind='bar', ax=axes[0])\n",
    "partition1['Class'].value_counts().reindex(classes_columns_names).plot(kind='bar', ax=axes[1])\n",
    "partition1['Class'].value_counts().reindex(classes_columns_names).plot(kind='bar', ax=axes[2])\n",
    "partition1['Class'].value_counts().reindex(classes_columns_names).plot(kind='bar', ax=axes[3])\n",
    "partition1['Class'].value_counts().reindex(classes_columns_names).plot(kind='bar', ax=axes[4])"
   ]
  },
  {
   "cell_type": "code",
   "execution_count": 10,
   "id": "e5091f40-50ef-4e22-b3c1-133ad46a7105",
   "metadata": {},
   "outputs": [
    {
     "name": "stdout",
     "output_type": "stream",
     "text": [
      "4122 4122 4356 4268\n"
     ]
    }
   ],
   "source": [
    "# Length of each partition\n",
    "print(str(len(partition1)) + \" \" + str(len(partition2)) + \" \" + str(len(partition3)) + \" \" + str(len(partition4)))"
   ]
  },
  {
   "cell_type": "code",
   "execution_count": 11,
   "id": "f7d9ebd1-9d0f-4e6f-a584-fbc002b18972",
   "metadata": {
    "tags": []
   },
   "outputs": [],
   "source": [
    "# All partitions looks equally so we can simply ignore the column\n",
    "deepLoc2_train_and_val = deepLoc2_train_and_val.drop('Partition', axis=1)\n",
    "\n",
    "# Sample instances for the validation set over the 10% of the total amount of sequences\n",
    "deepLoc2_validation = deepLoc2_train_and_val.sample(frac=0.1, random_state=1234)"
   ]
  },
  {
   "cell_type": "code",
   "execution_count": 12,
   "id": "23e26321-29e6-4c20-81e2-fcb598ad4fb8",
   "metadata": {
    "tags": []
   },
   "outputs": [
    {
     "data": {
      "text/plain": [
       "<AxesSubplot:>"
      ]
     },
     "execution_count": 12,
     "metadata": {},
     "output_type": "execute_result"
    },
    {
     "data": {
      "image/png": "[encoded data removed]",
      "text/plain": [
       "<Figure size 432x288 with 1 Axes>"
      ]
     },
     "metadata": {
      "needs_background": "light"
     },
     "output_type": "display_data"
    }
   ],
   "source": [
    "# Check if the validation set preserves the data distribution\n",
    "deepLoc2_validation['Class'].value_counts().reindex(classes_columns_names).plot(kind='bar')"
   ]
  },
  {
   "cell_type": "code",
   "execution_count": 13,
   "id": "b5822699-85ec-4efc-9f5b-35b03784e59a",
   "metadata": {},
   "outputs": [],
   "source": [
    "# Delete from the test set the instances for the validation set\n",
    "deepLoc2_train = deepLoc2_train_and_val.drop(deepLoc2_validation.index, axis=0)"
   ]
  },
  {
   "cell_type": "code",
   "execution_count": 18,
   "id": "ec1adfce-288e-4f6d-b9b4-5185f62242a0",
   "metadata": {
    "tags": []
   },
   "outputs": [
    {
     "name": "stderr",
     "output_type": "stream",
     "text": [
      "/Users/joaquimgomez/opt/anaconda3/envs/rostlab/lib/python3.8/site-packages/pandas/core/frame.py:5034: SettingWithCopyWarning: \n",
      "A value is trying to be set on a copy of a slice from a DataFrame\n",
      "\n",
      "See the caveats in the documentation: https://pandas.pydata.org/pandas-docs/stable/user_guide/indexing.html#returning-a-view-versus-a-copy\n",
      "  return super().rename(\n"
     ]
    }
   ],
   "source": [
    "mixed_vs_human_2 = DataFrame(columns = [\"sequence\", \"target\", \"set\", \"validation\"])\n",
    "\n",
    "# Add train set (deepLoc 2 train (mixed))\n",
    "tmp = deepLoc2_train[[\"Sequence\", \"Class\"]]\n",
    "tmp.rename(columns = {\"Sequence\": \"sequence\", \"Class\": \"target\"}, inplace = True)\n",
    "tmp.insert(2, \"set\", [\"train\"]*len(deepLoc2_train))\n",
    "mixed_vs_human_2 = mixed_vs_human_2.append(tmp)\n",
    "\n",
    "# Add validation set (deepLoc)\n",
    "tmp = deepLoc2_validation[[\"Sequence\", \"Class\"]]\n",
    "tmp.rename(columns = {\"Sequence\": \"sequence\", \"Class\": \"target\"}, inplace = True)\n",
    "tmp.insert(2, \"set\", [\"train\"]*len(deepLoc2_validation))\n",
    "tmp.insert(2, \"validation\", [True]*len(deepLoc2_validation))\n",
    "mixed_vs_human_2 = mixed_vs_human_2.append(tmp)\n",
    "\n",
    "# Add test set (deepLoc 2 test (human))\n",
    "tmp = deepLoc2_test[[\"fasta\", \"Class\"]]\n",
    "tmp.rename(columns = {\"fasta\": \"sequence\", \"Class\": \"target\"}, inplace = True)\n",
    "tmp.insert(2, \"set\", [\"test\"]*len(deepLoc2_test))\n",
    "mixed_vs_human_2 = mixed_vs_human_2.append(tmp)\n",
    "\n",
    "mixed_vs_human_2 = mixed_vs_human_2.reset_index(drop = True)"
   ]
  },
  {
   "cell_type": "code",
   "execution_count": null,
   "id": "ae715aa8-9ef6-4dfc-91b8-accb6886ff3b",
   "metadata": {},
   "outputs": [],
   "source": [
    "mixed_vs_human_2.to_csv(split_path / 'splits' / 'mixed_vs_human_2.csv', index = False)"
   ]
  },
  {
   "cell_type": "markdown",
   "id": "4c8b5d5d-3cb6-40a2-92c6-6709b430d819",
   "metadata": {},
   "source": [
    "# New proposals"
   ]
  },
  {
   "cell_type": "markdown",
   "id": "eee6e53d-8ce9-4ada-b41a-f1429590ba1c",
   "metadata": {
    "jp-MarkdownHeadingCollapsed": true,
    "tags": []
   },
   "source": [
    "## human_soft (deepLoc train + deepLoc validation + deepLoc test (only human proteins))"
   ]
  },
  {
   "cell_type": "code",
   "execution_count": 11,
   "id": "54f2148e-93d8-4d0f-b7c9-f64251ca711f",
   "metadata": {},
   "outputs": [],
   "source": [
    "human_soft = DataFrame(columns = [\"sequence\", \"target\", \"set\", \"validation\"])\n",
    "\n",
    "# Add train set (deepLoc)\n",
    "tmp = train_set_full[[\"sequence\", \"location\"]]\n",
    "tmp.rename(columns = {\"location\": \"target\"}, inplace = True)\n",
    "tmp.insert(2, \"set\", [\"train\"]*len(train_set_full))\n",
    "human_soft = human_soft.append(tmp)\n",
    "\n",
    "# Add validation set (deepLoc)\n",
    "tmp = validation_set_full[[\"sequence\", \"location\"]]\n",
    "tmp.rename(columns = {\"location\": \"target\"}, inplace = True)\n",
    "tmp.insert(2, \"set\", [\"train\"]*len(validation_set_full))\n",
    "tmp.insert(2, \"validation\", [True]*len(validation_set_full))\n",
    "human_soft = human_soft.append(tmp)"
   ]
  },
  {
   "cell_type": "code",
   "execution_count": 19,
   "id": "2b4b23ff-3d2e-4c0b-97b9-00cf9a19f0b9",
   "metadata": {},
   "outputs": [],
   "source": [
    "# Get human protein names\n",
    "human_protein_names = set(human_sequences_data['Entry'])\n",
    "\n",
    "# Get human proteins from test_set_full if human proteins\n",
    "human_in_test_set_full = test_set_full.loc[test_set_full['name'].isin(human_protein_names)]"
   ]
  },
  {
   "cell_type": "code",
   "execution_count": 20,
   "id": "1849cb3f-c480-4a30-ab1a-ae527b6085a8",
   "metadata": {},
   "outputs": [
    {
     "name": "stderr",
     "output_type": "stream",
     "text": [
      "/Users/joaquimgomez/opt/anaconda3/envs/rostlab/lib/python3.8/site-packages/pandas/core/frame.py:5034: SettingWithCopyWarning: \n",
      "A value is trying to be set on a copy of a slice from a DataFrame\n",
      "\n",
      "See the caveats in the documentation: https://pandas.pydata.org/pandas-docs/stable/user_guide/indexing.html#returning-a-view-versus-a-copy\n",
      "  return super().rename(\n"
     ]
    }
   ],
   "source": [
    "# Add test set (deepLoc)\n",
    "tmp = human_in_test_set_full[[\"sequence\", \"location\"]]\n",
    "tmp.rename(columns = {\"location\": \"target\"}, inplace = True)\n",
    "tmp.insert(2, \"set\", [\"test\"]*len(human_in_test_set_full))\n",
    "human_soft = human_soft.append(tmp)\n",
    "\n",
    "human_soft = human_soft.reset_index(drop = True)"
   ]
  },
  {
   "cell_type": "code",
   "execution_count": 22,
   "id": "a118d1e6-c1ca-43b6-965e-c2c1f2fff761",
   "metadata": {},
   "outputs": [],
   "source": [
    "human_soft.to_csv(split_path / 'splits' / 'human_soft.csv', index = False)"
   ]
  },
  {
   "cell_type": "markdown",
   "id": "74b5f510-9aa4-4e37-be38-d14ed5cf36f1",
   "metadata": {
    "jp-MarkdownHeadingCollapsed": true,
    "tags": []
   },
   "source": [
    "## human_hard (deepLoc train + deepLoc validation + testHARD test (only human proteins))"
   ]
  },
  {
   "cell_type": "code",
   "execution_count": 23,
   "id": "6c61209b-d3f5-4a9f-b362-f50c1b64002d",
   "metadata": {},
   "outputs": [],
   "source": [
    "human_hard = DataFrame(columns = [\"sequence\", \"target\", \"set\", \"validation\"])\n",
    "\n",
    "# Add train set (deepLoc)\n",
    "tmp = train_set_full[[\"sequence\", \"location\"]]\n",
    "tmp.rename(columns = {\"location\": \"target\"}, inplace = True)\n",
    "tmp.insert(2, \"set\", [\"train\"]*len(train_set_full))\n",
    "human_hard = human_hard.append(tmp)\n",
    "\n",
    "# Add validation set (deepLoc)\n",
    "tmp = validation_set_full[[\"sequence\", \"location\"]]\n",
    "tmp.rename(columns = {\"location\": \"target\"}, inplace = True)\n",
    "tmp.insert(2, \"set\", [\"train\"]*len(validation_set_full))\n",
    "tmp.insert(2, \"validation\", [True]*len(validation_set_full))\n",
    "human_hard = human_hard.append(tmp)"
   ]
  },
  {
   "cell_type": "code",
   "execution_count": 24,
   "id": "e52135f5-fcea-4395-991c-c1c0c7936448",
   "metadata": {},
   "outputs": [],
   "source": [
    "# Get human proteins from test_set_hard if human proteins\n",
    "human_in_test_set_hard = test_set_hard.loc[test_set_hard['name'].isin(human_protein_names)]"
   ]
  },
  {
   "cell_type": "code",
   "execution_count": 25,
   "id": "b169826b-f4fa-4d2e-b631-8c2515999313",
   "metadata": {},
   "outputs": [],
   "source": [
    "# Add test set (setHARD)\n",
    "tmp = human_in_test_set_hard[[\"sequence\", \"location\"]]\n",
    "tmp.rename(columns = {\"location\": \"target\"}, inplace = True)\n",
    "tmp.insert(2, \"set\", [\"test\"]*len(human_in_test_set_hard))\n",
    "human_hard = human_hard.append(tmp)\n",
    "\n",
    "human_hard = human_hard.reset_index(drop = True)"
   ]
  },
  {
   "cell_type": "code",
   "execution_count": 26,
   "id": "427442c7-c0b0-46e9-86f0-fb36fb102b56",
   "metadata": {},
   "outputs": [],
   "source": [
    "human_hard.to_csv(split_path / 'splits' / 'human_hard.csv', index = False)"
   ]
  },
  {
   "cell_type": "markdown",
   "id": "4ac24dfd-0278-4d72-9ba8-41a672f5ab39",
   "metadata": {
    "jupyter": {
     "outputs_hidden": true
    },
    "tags": []
   },
   "source": [
    "## balanced"
   ]
  },
  {
   "cell_type": "code",
   "execution_count": 21,
   "id": "fc44d96c-d0ff-442d-8a21-3224bf8ee723",
   "metadata": {},
   "outputs": [
    {
     "data": {
      "text/plain": [
       "<AxesSubplot:>"
      ]
     },
     "execution_count": 21,
     "metadata": {},
     "output_type": "execute_result"
    },
    {
     "data": {
      "image/png": "[encoded data removed]",
      "text/plain": [
       "<Figure size 1440x360 with 1 Axes>"
      ]
     },
     "metadata": {
      "needs_background": "light"
     },
     "output_type": "display_data"
    }
   ],
   "source": [
    "# Let's take a look at the distribution of train_set_full and test_set hard used for mixed_hard\n",
    "fig = plt.figure(figsize = (20,5))\n",
    "ax = fig.gca()\n",
    "\n",
    "classes_columns_names = ['Cytoplasm', 'Nucleus', 'Cell membrane', 'Mitochondrion', 'Endoplasmic reticulum', 'Lysosome/Vacuole', 'Golgi apparatus', 'Peroxisome', 'Extracellular', 'Plastid']\n",
    "train_set_full['location'].value_counts().reindex(classes_columns_names).plot(kind='bar', ax=ax)"
   ]
  },
  {
   "cell_type": "code",
   "execution_count": 22,
   "id": "46500417-f2ee-41f2-ab5f-bccbec915275",
   "metadata": {
    "tags": []
   },
   "outputs": [
    {
     "data": {
      "text/plain": [
       "<AxesSubplot:>"
      ]
     },
     "execution_count": 22,
     "metadata": {},
     "output_type": "execute_result"
    },
    {
     "data": {
      "image/png": "[encoded data removed]",
      "text/plain": [
       "<Figure size 1440x360 with 1 Axes>"
      ]
     },
     "metadata": {
      "needs_background": "light"
     },
     "output_type": "display_data"
    }
   ],
   "source": [
    "fig = plt.figure(figsize = (20,5))\n",
    "ax = fig.gca()\n",
    "\n",
    "test_set_hard['location'].value_counts().reindex(classes_columns_names).plot(kind='bar', ax=ax)"
   ]
  },
  {
   "cell_type": "code",
   "execution_count": null,
   "id": "e9070f39-41e7-4ea8-9316-fd720cdafe9b",
   "metadata": {},
   "outputs": [],
   "source": [
    "# Let's perform a "
   ]
  },
  {
   "cell_type": "code",
   "execution_count": null,
   "id": "ed72524c-b926-4776-8504-69ee20de10f3",
   "metadata": {},
   "outputs": [],
   "source": []
  },
  {
   "cell_type": "code",
   "execution_count": null,
   "id": "ea3613db-f120-40d3-a24e-77e16ddd3b78",
   "metadata": {},
   "outputs": [],
   "source": []
  },
  {
   "cell_type": "code",
   "execution_count": null,
   "id": "236abfe7-b094-4fdf-a6a2-7f081b807448",
   "metadata": {},
   "outputs": [],
   "source": []
  },
  {
   "cell_type": "code",
   "execution_count": null,
   "id": "10b55f4e-a54b-4b07-bffb-74d6d82eec60",
   "metadata": {},
   "outputs": [],
   "source": []
  },
  {
   "cell_type": "code",
   "execution_count": null,
   "id": "40add520-3066-49ea-ae36-e7158a61c056",
   "metadata": {},
   "outputs": [],
   "source": []
  }
 ],
 "metadata": {
  "kernelspec": {
   "display_name": "Python 3 (ipykernel)",
   "language": "python",
   "name": "python3"
  },
  "language_info": {
   "codemirror_mode": {
    "name": "ipython",
    "version": 3
   },
   "file_extension": ".py",
   "mimetype": "text/x-python",
   "name": "python",
   "nbconvert_exporter": "python",
   "pygments_lexer": "ipython3",
   "version": "3.8.13"
  }
 },
 "nbformat": 4,
 "nbformat_minor": 5
}
