{
 "cells": [
  {
   "cell_type": "markdown",
   "id": "2bae72e2-7b1e-459e-8d80-759efd336f43",
   "metadata": {
    "tags": []
   },
   "source": [
    "# Notes"
   ]
  },
  {
   "cell_type": "markdown",
   "id": "b138dc8d-0349-4b4e-ae09-746f00375881",
   "metadata": {},
   "source": [
    "Used data (setDeepLoc and setHARD) from paper \"Light Attention Predicts Protein Location from the Language of Life\" by Stärk et al. available at: https://github.com/HannesStark/protein-localization/tree/master/data_files\n",
    "\n",
    "Original data from http://www.cbs.dtu.dk/services/DeepLoc/data.php.\n",
    "\n",
    "**Data explanation**:\n",
    "- setDeepLoc:\n",
    "    - Train: 9503 proteins\n",
    "    - Validation: 1158 proteins redundance reduced (<= 30% PIDE (pairwise sequence identity))\n",
    "    - Test: 2768 proteins redundance reduce to the training set (<= 30% PIDE & E-values <= 10^-6)\n",
    "- setHARD:\n",
    "    - Test: 490 proteins representative of clusters at >= 20% PIDE of proteins from SwissProt (only eukaryote, no fragments, >= 40 residues and proteins deleting with >= 20% PIDE to all sets)\n",
    "\n",
    "\n",
    "**Proposed splits**:\n",
    "- From original paper data:\n",
    "    - `mixed_soft`: deepLoc train + deepLoc validation + deepLoc test ---> Ready!\n",
    "    - `mixed_hard`: deepLoc train + deepLoc validation + testHARD test ---> Ready!\n",
    "- New proposals:\n",
    "    - `human_soft`: deepLoc train + deepLoc validation + deepLoc test (only human proteins) ---> Ready!\n",
    "    - `human_hard`: deepLoc train + deepLoc validation + testHARD test (only human proteins) ---> Ready!\n",
    "    - `mixed_balanced`: TODO\n",
    "    - `human_balanced`: TODO"
   ]
  },
  {
   "cell_type": "markdown",
   "id": "b3f90f54-ea0d-41cc-a8d4-6a8ce6858c91",
   "metadata": {
    "tags": []
   },
   "source": [
    "# Configs & Imports"
   ]
  },
  {
   "cell_type": "code",
   "execution_count": 1,
   "id": "16243936-b104-4474-87e9-b118c67ca57b",
   "metadata": {},
   "outputs": [],
   "source": [
    "import re\n",
    "\n",
    "from pathlib import Path\n",
    "\n",
    "from pandas import DataFrame, read_csv\n",
    "\n",
    "import numpy as np\n",
    "\n",
    "from Bio import SeqIO"
   ]
  },
  {
   "cell_type": "code",
   "execution_count": 39,
   "id": "e46deea7-473b-4a0d-9897-58e3b18d48fb",
   "metadata": {},
   "outputs": [],
   "source": [
    "# Where the raw data is stored and where processed data will be deposited\n",
    "data_path = Path('') / '..' / 'data' / 'subcellular_localization'\n",
    "split_path = Path('') / '..' / 'splits' / 'scl'\n",
    "\n",
    "# There are 4 datasets:\n",
    "# From original the original deepLoc: one for training, one for validation and one for test\n",
    "# From Stärk et al. paper: one for test\n",
    "train_data_path = data_path / 'deeploc_our_train_set.fasta'\n",
    "validation_data_path = data_path / 'deeploc_our_val_set.fasta'\n",
    "test_data_path = data_path / 'deeploc_test_set.fasta'\n",
    "final_test_data_path = data_path / 'setHARD.fasta'\n",
    "\n",
    "# For the human data, we need to map gene names to UniProt accessions\n",
    "# Then we use a TSV export from UniProt to map the sequence to the gene name # TODO\n",
    "human_sequences_path = data_path / 'human_sequences.tsv'"
   ]
  },
  {
   "cell_type": "markdown",
   "id": "afaea6f6-9e35-4538-a1c5-9d7b2901d16d",
   "metadata": {
    "tags": []
   },
   "source": [
    "# Obtain original datasets"
   ]
  },
  {
   "cell_type": "code",
   "execution_count": 40,
   "id": "7655f781-44c5-404f-b120-b29fa707d8e9",
   "metadata": {},
   "outputs": [],
   "source": [
    "# Function to encapsulate the reading of the four data files\n",
    "def getProteinsFromFile(filePath):\n",
    "    columns = [\"id\", \"name\", \"location\", \"sequence\"]\n",
    "    dataset = DataFrame(columns = columns)\n",
    "    \n",
    "    for protein in SeqIO.parse(filePath, \"fasta\"):\n",
    "        dataset = dataset.append({\"id\": protein.id,\n",
    "                                            \"name\": protein.name,\n",
    "                                            \"location\": protein.description.split(\" \")[1],\n",
    "                                            #\"Location\": re.search(r'[a-zA-Z]*\\.([a-zA-Z]*)-[a-zA-Z]*', record.description).group(1), \n",
    "                                            \"sequence\": str(protein.seq)}, ignore_index=True)\n",
    "    \n",
    "    return dataset"
   ]
  },
  {
   "cell_type": "code",
   "execution_count": 41,
   "id": "1861a07c-7578-4513-afad-ce4ef1a0f7e4",
   "metadata": {},
   "outputs": [],
   "source": [
    "# Obtain data from sets\n",
    "train_set_full = getProteinsFromFile(train_data_path)\n",
    "validation_set_full = getProteinsFromFile(validation_data_path)\n",
    "test_set_full = getProteinsFromFile(test_data_path)\n",
    "test_set_hard = getProteinsFromFile(final_test_data_path)\n",
    "\n",
    "# Obtain human data\n",
    "human_sequences_data = read_csv(human_sequences_path, sep='\\t')"
   ]
  },
  {
   "cell_type": "code",
   "execution_count": 42,
   "id": "a98b57c8-db13-4429-a239-4de53c9fc4c2",
   "metadata": {},
   "outputs": [],
   "source": [
    "# Simplificate classes (e.g. Nucleus-S and Nucleus-M to Nucleus)\n",
    "modification = lambda row : row[\"location\"].split(\"-\")[0].replace(\".\", \" \")\n",
    "\n",
    "train_set_full[\"location\"] = train_set_full.apply(modification, axis = 1)\n",
    "validation_set_full[\"location\"] = validation_set_full.apply(modification, axis = 1)\n",
    "test_set_full[\"location\"] = test_set_full.apply(modification, axis = 1)\n",
    "test_set_hard[\"location\"] = test_set_hard.apply(modification, axis = 1)"
   ]
  },
  {
   "cell_type": "markdown",
   "id": "5ace2b89-9031-405f-8fa4-40cf98eb5530",
   "metadata": {
    "tags": []
   },
   "source": [
    "# From original paper data"
   ]
  },
  {
   "cell_type": "markdown",
   "id": "8a0cab5d-0f68-47db-904d-b4931635ab7a",
   "metadata": {
    "jp-MarkdownHeadingCollapsed": true,
    "tags": []
   },
   "source": [
    "## mixed_soft (deepLoc train + deepLoc validation + deepLoc test)"
   ]
  },
  {
   "cell_type": "code",
   "execution_count": 5,
   "id": "4c217006-eaf4-41d8-a069-f5cd8d173b63",
   "metadata": {},
   "outputs": [
    {
     "name": "stderr",
     "output_type": "stream",
     "text": [
      "/Users/joaquimgomez/opt/anaconda3/envs/rostlab/lib/python3.8/site-packages/pandas/core/frame.py:5034: SettingWithCopyWarning: \n",
      "A value is trying to be set on a copy of a slice from a DataFrame\n",
      "\n",
      "See the caveats in the documentation: https://pandas.pydata.org/pandas-docs/stable/user_guide/indexing.html#returning-a-view-versus-a-copy\n",
      "  return super().rename(\n"
     ]
    }
   ],
   "source": [
    "mixed_soft = DataFrame(columns = [\"sequence\", \"target\", \"set\", \"validation\"])\n",
    "\n",
    "# Add train set (deepLoc)\n",
    "tmp = train_set_full[[\"sequence\", \"location\"]]\n",
    "tmp.rename(columns = {\"location\": \"target\"}, inplace = True)\n",
    "tmp.insert(2, \"set\", [\"train\"]*len(train_set_full))\n",
    "mixed_soft = mixed_soft.append(tmp)\n",
    "\n",
    "# Add validation set (deepLoc)\n",
    "tmp = validation_set_full[[\"sequence\", \"location\"]]\n",
    "tmp.rename(columns = {\"location\": \"target\"}, inplace = True)\n",
    "tmp.insert(2, \"set\", [\"train\"]*len(validation_set_full))\n",
    "tmp.insert(2, \"validation\", [True]*len(validation_set_full))\n",
    "mixed_soft = mixed_soft.append(tmp)\n",
    "\n",
    "# Add test set (deepLoc)\n",
    "tmp = test_set_full[[\"sequence\", \"location\"]]\n",
    "tmp.rename(columns = {\"location\": \"target\"}, inplace = True)\n",
    "tmp.insert(2, \"set\", [\"test\"]*len(test_set_full))\n",
    "mixed_soft = mixed_soft.append(tmp)\n",
    "\n",
    "mixed_soft = mixed_soft.reset_index(drop = True)"
   ]
  },
  {
   "cell_type": "code",
   "execution_count": 8,
   "id": "08348ff1-de64-48aa-9251-dc38b5dd9bde",
   "metadata": {},
   "outputs": [],
   "source": [
    "mixed_soft.to_csv(split_path / 'splits' / 'mixed_soft.cvs', index = False)"
   ]
  },
  {
   "cell_type": "markdown",
   "id": "ddf68ff5-d26b-42e7-9a0b-457f64fe389f",
   "metadata": {
    "jp-MarkdownHeadingCollapsed": true,
    "tags": []
   },
   "source": [
    "## mixed_hard (deepLoc train + deepLoc validation + testHARD test)"
   ]
  },
  {
   "cell_type": "code",
   "execution_count": 9,
   "id": "d98c0bca-e59b-4dd7-b41c-94e50578487f",
   "metadata": {},
   "outputs": [],
   "source": [
    "mixed_hard = DataFrame(columns = [\"sequence\", \"target\", \"set\", \"validation\"])\n",
    "\n",
    "# Add train set (deepLoc)\n",
    "tmp = train_set_full[[\"sequence\", \"location\"]]\n",
    "tmp.rename(columns = {\"location\": \"target\"}, inplace = True)\n",
    "tmp.insert(2, \"set\", [\"train\"]*len(train_set_full))\n",
    "mixed_hard = mixed_hard.append(tmp)\n",
    "\n",
    "# Add validation set (deepLoc)\n",
    "tmp = validation_set_full[[\"sequence\", \"location\"]]\n",
    "tmp.rename(columns = {\"location\": \"target\"}, inplace = True)\n",
    "tmp.insert(2, \"set\", [\"train\"]*len(validation_set_full))\n",
    "tmp.insert(2, \"validation\", [True]*len(validation_set_full))\n",
    "mixed_hard = mixed_hard.append(tmp)\n",
    "\n",
    "# Add test set (setHARD)\n",
    "tmp = test_set_hard[[\"sequence\", \"location\"]]\n",
    "tmp.rename(columns = {\"location\": \"target\"}, inplace = True)\n",
    "tmp.insert(2, \"set\", [\"test\"]*len(test_set_hard))\n",
    "mixed_hard = mixed_hard.append(tmp)\n",
    "\n",
    "mixed_hard = mixed_hard.reset_index(drop = True)"
   ]
  },
  {
   "cell_type": "code",
   "execution_count": 10,
   "id": "f2b73337-fc5f-4dd8-ac67-be007fc88f04",
   "metadata": {},
   "outputs": [],
   "source": [
    "mixed_hard.to_csv(split_path / 'splits' / 'mixed_hard.cvs', index = False)"
   ]
  },
  {
   "cell_type": "markdown",
   "id": "4c8b5d5d-3cb6-40a2-92c6-6709b430d819",
   "metadata": {},
   "source": [
    "# New proposals"
   ]
  },
  {
   "cell_type": "markdown",
   "id": "eee6e53d-8ce9-4ada-b41a-f1429590ba1c",
   "metadata": {
    "jp-MarkdownHeadingCollapsed": true,
    "tags": []
   },
   "source": [
    "## human_soft (deepLoc train + deepLoc validation + deepLoc test (only human proteins))"
   ]
  },
  {
   "cell_type": "code",
   "execution_count": 11,
   "id": "54f2148e-93d8-4d0f-b7c9-f64251ca711f",
   "metadata": {},
   "outputs": [],
   "source": [
    "human_soft = DataFrame(columns = [\"sequence\", \"target\", \"set\", \"validation\"])\n",
    "\n",
    "# Add train set (deepLoc)\n",
    "tmp = train_set_full[[\"sequence\", \"location\"]]\n",
    "tmp.rename(columns = {\"location\": \"target\"}, inplace = True)\n",
    "tmp.insert(2, \"set\", [\"train\"]*len(train_set_full))\n",
    "human_soft = human_soft.append(tmp)\n",
    "\n",
    "# Add validation set (deepLoc)\n",
    "tmp = validation_set_full[[\"sequence\", \"location\"]]\n",
    "tmp.rename(columns = {\"location\": \"target\"}, inplace = True)\n",
    "tmp.insert(2, \"set\", [\"train\"]*len(validation_set_full))\n",
    "tmp.insert(2, \"validation\", [True]*len(validation_set_full))\n",
    "human_soft = human_soft.append(tmp)"
   ]
  },
  {
   "cell_type": "code",
   "execution_count": 19,
   "id": "2b4b23ff-3d2e-4c0b-97b9-00cf9a19f0b9",
   "metadata": {},
   "outputs": [],
   "source": [
    "# Get human protein names\n",
    "human_protein_names = set(human_sequences_data['Entry'])\n",
    "\n",
    "# Get human proteins from test_set_full if human proteins\n",
    "human_in_test_set_full = test_set_full.loc[test_set_full['name'].isin(human_protein_names)]"
   ]
  },
  {
   "cell_type": "code",
   "execution_count": 20,
   "id": "1849cb3f-c480-4a30-ab1a-ae527b6085a8",
   "metadata": {},
   "outputs": [
    {
     "name": "stderr",
     "output_type": "stream",
     "text": [
      "/Users/joaquimgomez/opt/anaconda3/envs/rostlab/lib/python3.8/site-packages/pandas/core/frame.py:5034: SettingWithCopyWarning: \n",
      "A value is trying to be set on a copy of a slice from a DataFrame\n",
      "\n",
      "See the caveats in the documentation: https://pandas.pydata.org/pandas-docs/stable/user_guide/indexing.html#returning-a-view-versus-a-copy\n",
      "  return super().rename(\n"
     ]
    }
   ],
   "source": [
    "# Add test set (deepLoc)\n",
    "tmp = human_in_test_set_full[[\"sequence\", \"location\"]]\n",
    "tmp.rename(columns = {\"location\": \"target\"}, inplace = True)\n",
    "tmp.insert(2, \"set\", [\"test\"]*len(human_in_test_set_full))\n",
    "human_soft = human_soft.append(tmp)\n",
    "\n",
    "human_soft = human_soft.reset_index(drop = True)"
   ]
  },
  {
   "cell_type": "code",
   "execution_count": 22,
   "id": "a118d1e6-c1ca-43b6-965e-c2c1f2fff761",
   "metadata": {},
   "outputs": [],
   "source": [
    "human_soft.to_csv(split_path / 'splits' / 'human_soft.cvs', index = False)"
   ]
  },
  {
   "cell_type": "markdown",
   "id": "74b5f510-9aa4-4e37-be38-d14ed5cf36f1",
   "metadata": {
    "jp-MarkdownHeadingCollapsed": true,
    "tags": []
   },
   "source": [
    "## human_hard (deepLoc train + deepLoc validation + testHARD test (only human proteins))"
   ]
  },
  {
   "cell_type": "code",
   "execution_count": 23,
   "id": "6c61209b-d3f5-4a9f-b362-f50c1b64002d",
   "metadata": {},
   "outputs": [],
   "source": [
    "human_hard = DataFrame(columns = [\"sequence\", \"target\", \"set\", \"validation\"])\n",
    "\n",
    "# Add train set (deepLoc)\n",
    "tmp = train_set_full[[\"sequence\", \"location\"]]\n",
    "tmp.rename(columns = {\"location\": \"target\"}, inplace = True)\n",
    "tmp.insert(2, \"set\", [\"train\"]*len(train_set_full))\n",
    "human_hard = human_hard.append(tmp)\n",
    "\n",
    "# Add validation set (deepLoc)\n",
    "tmp = validation_set_full[[\"sequence\", \"location\"]]\n",
    "tmp.rename(columns = {\"location\": \"target\"}, inplace = True)\n",
    "tmp.insert(2, \"set\", [\"train\"]*len(validation_set_full))\n",
    "tmp.insert(2, \"validation\", [True]*len(validation_set_full))\n",
    "human_hard = human_hard.append(tmp)"
   ]
  },
  {
   "cell_type": "code",
   "execution_count": 24,
   "id": "e52135f5-fcea-4395-991c-c1c0c7936448",
   "metadata": {},
   "outputs": [],
   "source": [
    "# Get human proteins from test_set_hard if human proteins\n",
    "human_in_test_set_hard = test_set_hard.loc[test_set_hard['name'].isin(human_protein_names)]"
   ]
  },
  {
   "cell_type": "code",
   "execution_count": 25,
   "id": "b169826b-f4fa-4d2e-b631-8c2515999313",
   "metadata": {},
   "outputs": [],
   "source": [
    "# Add test set (setHARD)\n",
    "tmp = human_in_test_set_hard[[\"sequence\", \"location\"]]\n",
    "tmp.rename(columns = {\"location\": \"target\"}, inplace = True)\n",
    "tmp.insert(2, \"set\", [\"test\"]*len(human_in_test_set_hard))\n",
    "human_hard = human_hard.append(tmp)\n",
    "\n",
    "human_hard = human_hard.reset_index(drop = True)"
   ]
  },
  {
   "cell_type": "code",
   "execution_count": 26,
   "id": "427442c7-c0b0-46e9-86f0-fb36fb102b56",
   "metadata": {},
   "outputs": [],
   "source": [
    "human_hard.to_csv(split_path / 'splits' / 'human_hard.cvs', index = False)"
   ]
  },
  {
   "cell_type": "markdown",
   "id": "4ac24dfd-0278-4d72-9ba8-41a672f5ab39",
   "metadata": {
    "jupyter": {
     "outputs_hidden": true
    },
    "tags": []
   },
   "source": [
    "## balanced"
   ]
  },
  {
   "cell_type": "code",
   "execution_count": 49,
   "id": "fc44d96c-d0ff-442d-8a21-3224bf8ee723",
   "metadata": {},
   "outputs": [
    {
     "data": {
      "text/plain": [
       "Nucleus                  2752\n",
       "Cytoplasm                1862\n",
       "Extracellular            1322\n",
       "Mitochondrion            1003\n",
       "Cell membrane             906\n",
       "Endoplasmic reticulum     594\n",
       "Plastid                   511\n",
       "Golgi apparatus           238\n",
       "Lysosome/Vacuole          214\n",
       "Peroxisome                101\n",
       "Name: location, dtype: int64"
      ]
     },
     "execution_count": 49,
     "metadata": {},
     "output_type": "execute_result"
    }
   ],
   "source": [
    "# Let's take a look at the value counts for the classes in train_set_full (other sets are proportionals)\n",
    "train_set_full['location'].value_counts()"
   ]
  },
  {
   "cell_type": "code",
   "execution_count": null,
   "id": "46500417-f2ee-41f2-ab5f-bccbec915275",
   "metadata": {
    "tags": []
   },
   "outputs": [],
   "source": []
  }
 ],
 "metadata": {
  "kernelspec": {
   "display_name": "Python 3 (ipykernel)",
   "language": "python",
   "name": "python3"
  },
  "language_info": {
   "codemirror_mode": {
    "name": "ipython",
    "version": 3
   },
   "file_extension": ".py",
   "mimetype": "text/x-python",
   "name": "python",
   "nbconvert_exporter": "python",
   "pygments_lexer": "ipython3",
   "version": "3.8.13"
  }
 },
 "nbformat": 4,
 "nbformat_minor": 5
}
