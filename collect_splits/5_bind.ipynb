{
 "cells": [
  {
   "cell_type": "markdown",
   "id": "2bae72e2-7b1e-459e-8d80-759efd336f43",
   "metadata": {
    "tags": []
   },
   "source": [
    "# Notes"
   ]
  },
  {
   "cell_type": "markdown",
   "id": "b138dc8d-0349-4b4e-ae09-746f00375881",
   "metadata": {},
   "source": [
    "Used data from:\n",
    "- Paper \"Protein embeddings and deep learning predict binding residues for various ligand classes\" by Littmann et al. available at: https://github.com/Rostlab/bindPredict\n",
    "\n",
    "**Data explanation**:\n",
    "- Development set\n",
    "    - DevSet1014: 1014 proteins (13.999 binding residues + 156.684 non-binding residues)\n",
    "        - Metal ions: 455 proteins (2.374 binding residues + 77.404 non-binding residues)\n",
    "        - Nucleic acids: 108 proteins (2.689 binding residues + 15.582 non-binding residues)\n",
    "        - Small molecules: 606 proteins (9.281 binding residues + 94.119 non-binding residues)\n",
    "    - TestSet300: 300 proteins (5.869 binding residues + 56.820 non-binding residues)\n",
    "        - Metal ions: 122 proteins (881 binding residues + 26.763 non-binding residues)\n",
    "        - Nucleic acids: 66 proteins (1.470 binding residues + 14.698 non-binding residues)\n",
    "        - Small molecules: 220 proteins (3.906 binding residues + 42.629 non-binding residues)\n",
    "- Independent set\n",
    "    - TestSetNew46: 46 proteins (575 binding residues + 6.652 non-binding residues)\n",
    "        - Metal ions: 15 proteins (77 binding residues + 2.198 non-binding residues)\n",
    "        - Nucleic acids: 10 proteins (77 binding residues + 874 non-binding residues)\n",
    "        - Small molecules: 25 proteins (425 binding residues + 3.259 non-binding residues)\n",
    "\n",
    "**Proposed splits**:\n",
    "- `one_vs_many`: train on proteins with only 1 type of ligand, test on proteins with 2 and 3 types of ligands\n",
    "- `two_vs_many`: train on proteins with 1 or 2 types of ligand, test on proteins with 3 types of ligand\n",
    "- `three_vs_many`: train on proteins with 1 or 2 types of ligand from original training set, test on original test sets TestSet300 and TestSetNew46 mixed."
   ]
  },
  {
   "cell_type": "markdown",
   "id": "b3f90f54-ea0d-41cc-a8d4-6a8ce6858c91",
   "metadata": {
    "tags": []
   },
   "source": [
    "# Configs & Imports"
   ]
  },
  {
   "cell_type": "code",
   "execution_count": 53,
   "id": "b9cdad12",
   "metadata": {},
   "outputs": [
    {
     "name": "stdout",
     "output_type": "stream",
     "text": [
      "The autoreload extension is already loaded. To reload it, use:\n",
      "  %reload_ext autoreload\n"
     ]
    }
   ],
   "source": [
    "from pathlib import Path\n",
    "\n",
    "from pandas import DataFrame, read_csv\n",
    "from matplotlib import pyplot as plt\n",
    "from numpy import NaN\n",
    "\n",
    "from Bio import SeqIO\n",
    "\n",
    "%load_ext autoreload\n",
    "%autoreload 2"
   ]
  },
  {
   "cell_type": "code",
   "execution_count": 2,
   "id": "f40e8175",
   "metadata": {},
   "outputs": [],
   "source": [
    "# Where the raw data is stored and where processed data will be deposited\n",
    "data_path = Path('') / '..' / 'data' / 'bind'\n",
    "split_path = Path('') / '..' / 'splits' / 'bind'\n",
    "\n",
    "# Development set (DevSet1014 & estSet300)\n",
    "sequences_path = data_path / 'development_set' / 'all.fasta'\n",
    "binding_residues_metal_path = data_path / 'development_set' / 'binding_residues_2.5_metal.txt'\n",
    "binding_residues_nuclear_path = data_path / 'development_set' / 'binding_residues_2.5_nuclear.txt'\n",
    "binding_residues_small_path = data_path / 'development_set' / 'binding_residues_2.5_small.txt'\n",
    "test_set_path = data_path / 'development_set' / 'uniprot_test.txt'\n",
    "\n",
    "# Independent (test) set (TestSetNew46)\n",
    "independent_sequences_path = data_path / 'independent_set' / 'indep_set.fasta'\n",
    "independent_binding_residues_metal_path = data_path / 'independent_set' / 'binding_residues_metal.txt'\n",
    "independent_binding_residues_nuclear_path = data_path / 'independent_set' / 'binding_residues_nuclear.txt'\n",
    "independent_binding_residues_small_path = data_path / 'independent_set' / 'binding_residues_small.txt'\n",
    "independent_set_path = data_path / 'independent_set' / 'indep_set.txt'"
   ]
  },
  {
   "cell_type": "markdown",
   "id": "c73462a0",
   "metadata": {},
   "source": [
    "# Obtain original datasets"
   ]
  },
  {
   "cell_type": "code",
   "execution_count": 3,
   "id": "fa8c26f9",
   "metadata": {},
   "outputs": [],
   "source": [
    "# Function to encapsulate reading from fasta files\n",
    "def getProteinsFromFASTAFile(filePath):\n",
    "    columns = [\"id\", \"sequence\"]\n",
    "    dataset = DataFrame(columns = columns)\n",
    "    \n",
    "    for protein in SeqIO.parse(filePath, \"fasta\"):\n",
    "        dataset = dataset.append({\"id\": protein.id,\n",
    "                                  \"sequence\": str(protein.seq)}, ignore_index=True)\n",
    "    \n",
    "    return dataset"
   ]
  },
  {
   "cell_type": "code",
   "execution_count": 4,
   "id": "6d7cf53c",
   "metadata": {},
   "outputs": [],
   "source": [
    "# Obtain data from sets\n",
    "sequences = getProteinsFromFASTAFile(sequences_path)\n",
    "binding_residues_metal = read_csv(binding_residues_metal_path, sep=\"\t\", names=[\"id\", \"binding residues\"])\n",
    "binding_residues_nuclear = read_csv(binding_residues_nuclear_path, sep=\"\t\", names=[\"id\", \"binding residues\"])\n",
    "binding_residues_small = read_csv(binding_residues_small_path, sep=\"\t\", names=[\"id\", \"binding residues\"])\n",
    "test_set = read_csv(test_set_path, names=[\"id\"])\n",
    "\n",
    "independent_sequences = getProteinsFromFASTAFile(independent_sequences_path)\n",
    "independent_binding_residues_metal = read_csv(independent_binding_residues_metal_path, sep=\"\t\", names=[\"id\", \"binding residues\"])\n",
    "independent_binding_residues_nuclear = read_csv(independent_binding_residues_nuclear_path, sep=\"\t\", names=[\"id\", \"binding residues\"])\n",
    "independent_binding_residues_small = read_csv(independent_binding_residues_small_path, sep=\"\t\", names=[\"id\", \"binding residues\"])\n",
    "independent_set = read_csv(independent_set_path, names=[\"id\"])"
   ]
  },
  {
   "cell_type": "code",
   "execution_count": 5,
   "id": "516d0285",
   "metadata": {},
   "outputs": [],
   "source": [
    "# Let's construct a single development dataset with all the information together\n",
    "sequences_with_binding_info = DataFrame(columns = [\"id\", \"sequence\", \"metal\", \"nuclear\", \"small\", \"set\"])\n",
    "\n",
    "for index, row in sequences.iterrows():\n",
    "    # Determine the binding type and the binding residues\n",
    "    metal, nuclear, small = NaN, NaN, NaN\n",
    "    if row[\"id\"] in list(binding_residues_metal[\"id\"]):\n",
    "        metal = binding_residues_metal.iloc[list(binding_residues_metal[\"id\"]).index(row[\"id\"])][\"binding residues\"]\n",
    "    \n",
    "    if row[\"id\"] in list(binding_residues_nuclear[\"id\"]):\n",
    "        nuclear = binding_residues_nuclear.iloc[list(binding_residues_nuclear[\"id\"]).index(row[\"id\"])][\"binding residues\"]\n",
    "    \n",
    "    if row[\"id\"] in list(binding_residues_small[\"id\"]):\n",
    "        small = binding_residues_small.iloc[list(binding_residues_small[\"id\"]).index(row[\"id\"])][\"binding residues\"]\n",
    "    \n",
    "    # Train/validation or test\n",
    "    train_or_test = \"train\"\n",
    "    if row[\"id\"] in list(test_set[\"id\"]):\n",
    "        train_or_test = \"test\"\n",
    "    \n",
    "    new_sequence = {\"id\": row[\"id\"], \n",
    "                    \"sequence\": row[\"sequence\"], \n",
    "                    \"metal\": metal,\n",
    "                    \"nuclear\": nuclear,\n",
    "                    \"small\": small,\n",
    "                    \"set\": train_or_test}\n",
    "    sequences_with_binding_info = sequences_with_binding_info.append(new_sequence, ignore_index = True)"
   ]
  },
  {
   "cell_type": "code",
   "execution_count": 16,
   "id": "d8ff8fa9",
   "metadata": {
    "scrolled": true
   },
   "outputs": [],
   "source": [
    "# Let's construct a single development dataset with all the information together\n",
    "independent_sequences_with_binding_info = DataFrame(columns = [\"id\", \"sequence\", \"metal\", \"nuclear\", \"small\", \"set\"])\n",
    "\n",
    "for index, row in independent_sequences.iterrows():\n",
    "    # Determine the binding type and the binding residues\n",
    "    metal, nuclear, small = NaN, NaN, NaN\n",
    "    if row[\"id\"] in list(independent_binding_residues_metal[\"id\"]):\n",
    "        metal = independent_binding_residues_metal.iloc[list(independent_binding_residues_metal[\"id\"]).index(row[\"id\"])][\"binding residues\"]\n",
    "    \n",
    "    if row[\"id\"] in list(independent_binding_residues_nuclear[\"id\"]):\n",
    "        nuclear = independent_binding_residues_nuclear.iloc[list(independent_binding_residues_nuclear[\"id\"]).index(row[\"id\"])][\"binding residues\"]\n",
    "    \n",
    "    if row[\"id\"] in list(independent_binding_residues_small[\"id\"]):\n",
    "        small = independent_binding_residues_small.iloc[list(independent_binding_residues_small[\"id\"]).index(row[\"id\"])][\"binding residues\"]\n",
    "    \n",
    "    # Train/validation or test\n",
    "    train_or_test = \"train\"\n",
    "    if row[\"id\"] in list(test_set[\"id\"]):\n",
    "        train_or_test = \"test\"\n",
    "    \n",
    "    new_sequence = {\"id\": row[\"id\"], \n",
    "                    \"sequence\": row[\"sequence\"], \n",
    "                    \"metal\": metal,\n",
    "                    \"nuclear\": nuclear,\n",
    "                    \"small\": small,\n",
    "                    \"set\": train_or_test}\n",
    "    independent_sequences_with_binding_info = independent_sequences_with_binding_info.append(new_sequence, ignore_index = True)"
   ]
  },
  {
   "cell_type": "code",
   "execution_count": 20,
   "id": "9509e8f1",
   "metadata": {},
   "outputs": [
    {
     "data": {
      "text/html": [
       "<div>\n",
       "<style scoped>\n",
       "    .dataframe tbody tr th:only-of-type {\n",
       "        vertical-align: middle;\n",
       "    }\n",
       "\n",
       "    .dataframe tbody tr th {\n",
       "        vertical-align: top;\n",
       "    }\n",
       "\n",
       "    .dataframe thead th {\n",
       "        text-align: right;\n",
       "    }\n",
       "</style>\n",
       "<table border=\"1\" class=\"dataframe\">\n",
       "  <thead>\n",
       "    <tr style=\"text-align: right;\">\n",
       "      <th></th>\n",
       "      <th>id</th>\n",
       "      <th>sequence</th>\n",
       "      <th>metal</th>\n",
       "      <th>nuclear</th>\n",
       "      <th>small</th>\n",
       "      <th>set</th>\n",
       "    </tr>\n",
       "  </thead>\n",
       "  <tbody>\n",
       "    <tr>\n",
       "      <th>0</th>\n",
       "      <td>Q5LL55</td>\n",
       "      <td>MSETWLPTLVTATPQEGFDLAVKLSRIAVKKTQPDAQVRDTLRAVY...</td>\n",
       "      <td>NaN</td>\n",
       "      <td>NaN</td>\n",
       "      <td>53,46,32,42,25,60,56,43,57,31,54,22,34,40,26,2...</td>\n",
       "      <td>train</td>\n",
       "    </tr>\n",
       "    <tr>\n",
       "      <th>1</th>\n",
       "      <td>H9L4N9</td>\n",
       "      <td>MQINIQGHHIDLTDSMQDYVHSKFDKLERFFDHINHVQVILRVEKL...</td>\n",
       "      <td>51,62,42,60,55,64</td>\n",
       "      <td>NaN</td>\n",
       "      <td>NaN</td>\n",
       "      <td>train</td>\n",
       "    </tr>\n",
       "    <tr>\n",
       "      <th>2</th>\n",
       "      <td>O34738</td>\n",
       "      <td>MKSWKVKEIVIMSVISIVFAVVYLLFTHFGNVLAGMFGPIAYEPIY...</td>\n",
       "      <td>NaN</td>\n",
       "      <td>NaN</td>\n",
       "      <td>100,46,104,88,63,42,77,135,91,108,27,101,134,1...</td>\n",
       "      <td>train</td>\n",
       "    </tr>\n",
       "    <tr>\n",
       "      <th>3</th>\n",
       "      <td>P39579</td>\n",
       "      <td>MDFKQEVLDVLAEVCQDDIVKENPDIEIFEEGLLDSFGTVELLLAI...</td>\n",
       "      <td>NaN</td>\n",
       "      <td>NaN</td>\n",
       "      <td>37,36,40,61</td>\n",
       "      <td>train</td>\n",
       "    </tr>\n",
       "    <tr>\n",
       "      <th>4</th>\n",
       "      <td>P01887</td>\n",
       "      <td>MARSVTLVFLVLVSLTGLYAIQKTPQIQVYSRHPPENGKPNILNCY...</td>\n",
       "      <td>83,77</td>\n",
       "      <td>NaN</td>\n",
       "      <td>30,117,118,116</td>\n",
       "      <td>train</td>\n",
       "    </tr>\n",
       "    <tr>\n",
       "      <th>...</th>\n",
       "      <td>...</td>\n",
       "      <td>...</td>\n",
       "      <td>...</td>\n",
       "      <td>...</td>\n",
       "      <td>...</td>\n",
       "      <td>...</td>\n",
       "    </tr>\n",
       "    <tr>\n",
       "      <th>41</th>\n",
       "      <td>Q9KDJ7</td>\n",
       "      <td>MSDEKKILGEERRSLLIKWLKASDTPLTGAELAKRTNVSRQVIVQD...</td>\n",
       "      <td>150,152,91</td>\n",
       "      <td>NaN</td>\n",
       "      <td>130,134,105,141,142,83,150,88,91,92,152</td>\n",
       "      <td>train</td>\n",
       "    </tr>\n",
       "    <tr>\n",
       "      <th>42</th>\n",
       "      <td>Q9LFM3</td>\n",
       "      <td>MGAGREVSVSLDGVRDKNLMQLKILNTVLFPVRYNDKYYADAIAAG...</td>\n",
       "      <td>NaN</td>\n",
       "      <td>NaN</td>\n",
       "      <td>129,79,80,81,82,83,88,89,90,91,92,93,94,114,11...</td>\n",
       "      <td>train</td>\n",
       "    </tr>\n",
       "    <tr>\n",
       "      <th>43</th>\n",
       "      <td>Q9SJ89</td>\n",
       "      <td>MNLQAVSCSFGFLSSPLGVTPRTSFRRFVIRAKTEPSEKSVEIMRK...</td>\n",
       "      <td>NaN</td>\n",
       "      <td>NaN</td>\n",
       "      <td>69,85,86,104,106,109,115,116,117,119,120</td>\n",
       "      <td>train</td>\n",
       "    </tr>\n",
       "    <tr>\n",
       "      <th>44</th>\n",
       "      <td>U2EQ00</td>\n",
       "      <td>MAWLILIIAGIFEVVWAIALKYSNGFTRLIPSMITLIGMLISFYLL...</td>\n",
       "      <td>NaN</td>\n",
       "      <td>NaN</td>\n",
       "      <td>64,65,68,13,16,25,26,27,29,33,98,36,39,40,43,4...</td>\n",
       "      <td>train</td>\n",
       "    </tr>\n",
       "    <tr>\n",
       "      <th>45</th>\n",
       "      <td>X2D812</td>\n",
       "      <td>MTSERRPADPEIVEGLPIPLAVAGHHQPAPFYLTADMFGGLPVQLA...</td>\n",
       "      <td>64,68,107,62</td>\n",
       "      <td>NaN</td>\n",
       "      <td>NaN</td>\n",
       "      <td>train</td>\n",
       "    </tr>\n",
       "  </tbody>\n",
       "</table>\n",
       "<p>1360 rows × 6 columns</p>\n",
       "</div>"
      ],
      "text/plain": [
       "        id                                           sequence  \\\n",
       "0   Q5LL55  MSETWLPTLVTATPQEGFDLAVKLSRIAVKKTQPDAQVRDTLRAVY...   \n",
       "1   H9L4N9  MQINIQGHHIDLTDSMQDYVHSKFDKLERFFDHINHVQVILRVEKL...   \n",
       "2   O34738  MKSWKVKEIVIMSVISIVFAVVYLLFTHFGNVLAGMFGPIAYEPIY...   \n",
       "3   P39579  MDFKQEVLDVLAEVCQDDIVKENPDIEIFEEGLLDSFGTVELLLAI...   \n",
       "4   P01887  MARSVTLVFLVLVSLTGLYAIQKTPQIQVYSRHPPENGKPNILNCY...   \n",
       "..     ...                                                ...   \n",
       "41  Q9KDJ7  MSDEKKILGEERRSLLIKWLKASDTPLTGAELAKRTNVSRQVIVQD...   \n",
       "42  Q9LFM3  MGAGREVSVSLDGVRDKNLMQLKILNTVLFPVRYNDKYYADAIAAG...   \n",
       "43  Q9SJ89  MNLQAVSCSFGFLSSPLGVTPRTSFRRFVIRAKTEPSEKSVEIMRK...   \n",
       "44  U2EQ00  MAWLILIIAGIFEVVWAIALKYSNGFTRLIPSMITLIGMLISFYLL...   \n",
       "45  X2D812  MTSERRPADPEIVEGLPIPLAVAGHHQPAPFYLTADMFGGLPVQLA...   \n",
       "\n",
       "                metal nuclear  \\\n",
       "0                 NaN     NaN   \n",
       "1   51,62,42,60,55,64     NaN   \n",
       "2                 NaN     NaN   \n",
       "3                 NaN     NaN   \n",
       "4               83,77     NaN   \n",
       "..                ...     ...   \n",
       "41         150,152,91     NaN   \n",
       "42                NaN     NaN   \n",
       "43                NaN     NaN   \n",
       "44                NaN     NaN   \n",
       "45       64,68,107,62     NaN   \n",
       "\n",
       "                                                small    set  \n",
       "0   53,46,32,42,25,60,56,43,57,31,54,22,34,40,26,2...  train  \n",
       "1                                                 NaN  train  \n",
       "2   100,46,104,88,63,42,77,135,91,108,27,101,134,1...  train  \n",
       "3                                         37,36,40,61  train  \n",
       "4                                      30,117,118,116  train  \n",
       "..                                                ...    ...  \n",
       "41            130,134,105,141,142,83,150,88,91,92,152  train  \n",
       "42  129,79,80,81,82,83,88,89,90,91,92,93,94,114,11...  train  \n",
       "43           69,85,86,104,106,109,115,116,117,119,120  train  \n",
       "44  64,65,68,13,16,25,26,27,29,33,98,36,39,40,43,4...  train  \n",
       "45                                                NaN  train  \n",
       "\n",
       "[1360 rows x 6 columns]"
      ]
     },
     "execution_count": 20,
     "metadata": {},
     "output_type": "execute_result"
    }
   ],
   "source": [
    "# Let's mix both test set to acquire a bigger test set since the unique difference is the acquisition moment\n",
    "full_set = sequences_with_binding_info.append(independent_sequences_with_binding_info)\n",
    "full_set"
   ]
  },
  {
   "cell_type": "code",
   "execution_count": 21,
   "id": "531ffafa",
   "metadata": {},
   "outputs": [],
   "source": [
    "# Get proteins with only 1, with 2 and with 3 type of ligand\n",
    "one_ligand = DataFrame([row for index, row in full_set.iterrows() if row.isna().sum() == 2])\n",
    "two_ligand = DataFrame([row for index, row in full_set.iterrows() if row.isna().sum() == 1])\n",
    "three_ligand = DataFrame([row for index, row in full_set.iterrows() if row.isna().sum() == 0])"
   ]
  },
  {
   "cell_type": "markdown",
   "id": "41b3a35c",
   "metadata": {},
   "source": [
    "# one_vs_many"
   ]
  },
  {
   "cell_type": "code",
   "execution_count": 65,
   "id": "04be5957",
   "metadata": {},
   "outputs": [
    {
     "name": "stderr",
     "output_type": "stream",
     "text": [
      "/Users/joaquimgomez/opt/anaconda3/envs/rostlab/lib/python3.8/site-packages/pandas/core/frame.py:5034: SettingWithCopyWarning: \n",
      "A value is trying to be set on a copy of a slice from a DataFrame\n",
      "\n",
      "See the caveats in the documentation: https://pandas.pydata.org/pandas-docs/stable/user_guide/indexing.html#returning-a-view-versus-a-copy\n",
      "  return super().rename(\n"
     ]
    }
   ],
   "source": [
    "one_vs_many = DataFrame(columns = [\"sequence\", \n",
    "                                   \"target metal binding residues\", \n",
    "                                   \"target nuclear binding residues\",\n",
    "                                   \"target small binding residues\", \n",
    "                                   \"set\",\n",
    "                                   \"validation\"])\n",
    "\n",
    "# Training set\n",
    "tmp = one_ligand[[\"sequence\", \"metal\", \"nuclear\", \"small\"]]\n",
    "tmp.rename(columns = {\"metal\": \"target metal binding residues\", \n",
    "                      \"nuclear\": \"target nuclear binding residues\", \n",
    "                      \"small\": \"target small binding residues\"}, inplace = True)\n",
    "tmp.insert(2, \"set\", [\"train\"]*len(one_ligand))\n",
    "one_vs_many = one_vs_many.append(tmp)\n",
    "\n",
    "\n",
    "# Validation set\n",
    "val_sample_indexs = list(one_vs_many.sample(frac=0.1, random_state=1234).index)\n",
    "validation = [True if i in val_sample_indexs else NaN for i in range(len(one_vs_many))]\n",
    "one_vs_many.validation = validation\n",
    "\n",
    "\n",
    "# Test set\n",
    "tmp = two_ligand.append(three_ligand)[[\"sequence\", \"metal\", \"nuclear\", \"small\"]]\n",
    "tmp.rename(columns = {\"metal\": \"target metal binding residues\", \n",
    "                      \"nuclear\": \"target nuclear binding residues\", \n",
    "                      \"small\": \"target small binding residues\"}, inplace = True)\n",
    "tmp.insert(2, \"set\", [\"test\"]*len(tmp))\n",
    "one_vs_many = one_vs_many.append(tmp)"
   ]
  },
  {
   "cell_type": "code",
   "execution_count": null,
   "id": "de56dda2",
   "metadata": {},
   "outputs": [],
   "source": [
    "# Let's plot some statistics\n",
    "\n"
   ]
  },
  {
   "cell_type": "code",
   "execution_count": null,
   "id": "212c3eac",
   "metadata": {},
   "outputs": [],
   "source": [
    "one_vs_many.to_csv(split_path / 'splits' / 'one_vs_many.csv', index = False)"
   ]
  },
  {
   "cell_type": "markdown",
   "id": "647b7f5a",
   "metadata": {},
   "source": [
    "# two_vs_many"
   ]
  },
  {
   "cell_type": "code",
   "execution_count": 90,
   "id": "22cce399",
   "metadata": {},
   "outputs": [],
   "source": [
    "two_vs_many = DataFrame(columns = [\"sequence\", \n",
    "                                   \"target metal binding residues\", \n",
    "                                   \"target nuclear binding residues\",\n",
    "                                   \"target small binding residues\", \n",
    "                                   \"set\",\n",
    "                                   \"validation\"])\n",
    "\n",
    "# Training set\n",
    "tmp = one_ligand[[\"sequence\", \"metal\", \"nuclear\", \"small\"]]\n",
    "tmp.rename(columns = {\"metal\": \"target metal binding residues\", \n",
    "                      \"nuclear\": \"target nuclear binding residues\", \n",
    "                      \"small\": \"target small binding residues\"}, inplace = True)\n",
    "tmp.insert(2, \"set\", [\"train\"]*len(one_ligand))\n",
    "two_vs_many = two_vs_many.append(tmp)\n",
    "\n",
    "tmp = two_ligand[[\"sequence\", \"metal\", \"nuclear\", \"small\"]]\n",
    "tmp.rename(columns = {\"metal\": \"target metal binding residues\", \n",
    "                      \"nuclear\": \"target nuclear binding residues\", \n",
    "                      \"small\": \"target small binding residues\"}, inplace = True)\n",
    "tmp.insert(2, \"set\", [\"train\"]*len(two_ligand))\n",
    "two_vs_many = two_vs_many.append(tmp)\n",
    "\n",
    "\n",
    "# Validation set\n",
    "val_sample_indexs = list(two_vs_many.sample(frac=0.1, random_state=1234).index)\n",
    "validation = [True if i in val_sample_indexs else NaN for i in range(len(two_vs_many))]\n",
    "two_vs_many.validation = validation\n",
    "\n",
    "\n",
    "# Test set\n",
    "tmp = three_ligand[[\"sequence\", \"metal\", \"nuclear\", \"small\"]]\n",
    "tmp.rename(columns = {\"metal\": \"target metal binding residues\", \n",
    "                      \"nuclear\": \"target nuclear binding residues\", \n",
    "                      \"small\": \"target small binding residues\"}, inplace = True)\n",
    "tmp.insert(2, \"set\", [\"test\"]*len(tmp))\n",
    "two_vs_many = two_vs_many.append(tmp)"
   ]
  },
  {
   "cell_type": "code",
   "execution_count": null,
   "id": "071bc772",
   "metadata": {},
   "outputs": [],
   "source": [
    "# Let's plot some statistics\n",
    "\n"
   ]
  },
  {
   "cell_type": "code",
   "execution_count": null,
   "id": "85db2f7f",
   "metadata": {},
   "outputs": [],
   "source": [
    "two_vs_many.to_csv(split_path / 'splits' / 'two_vs_many.csv', index = False)"
   ]
  },
  {
   "cell_type": "markdown",
   "id": "fee22ab5",
   "metadata": {},
   "source": [
    "# three_vs_many"
   ]
  },
  {
   "cell_type": "code",
   "execution_count": 86,
   "id": "22625e97",
   "metadata": {},
   "outputs": [],
   "source": [
    "three_vs_many = full_set\n",
    "\n",
    "three_vs_many.rename(columns = {\"metal\": \"target metal binding residues\", \n",
    "                      \"nuclear\": \"target nuclear binding residues\", \n",
    "                      \"small\": \"target small binding residues\"}, inplace = True)\n",
    "\n",
    "# Let's specify validation set\n",
    "val_sample_indexs = list(three_vs_many.query(\"set == 'train'\").sample(frac=0.1, random_state=1234).index)\n",
    "validation = [True if i in val_sample_indexs else NaN for i in range(len(three_vs_many))]\n",
    "three_vs_many.insert(2, \"validation\", validation)"
   ]
  },
  {
   "cell_type": "code",
   "execution_count": null,
   "id": "b2605dc6",
   "metadata": {},
   "outputs": [],
   "source": [
    "# Let's plot some statistics\n",
    "\n"
   ]
  },
  {
   "cell_type": "code",
   "execution_count": null,
   "id": "64efb863",
   "metadata": {},
   "outputs": [],
   "source": [
    "three_vs_many.to_csv(split_path / 'splits' / 'three_vs_many.csv', index = False)"
   ]
  }
 ],
 "metadata": {
  "kernelspec": {
   "display_name": "Python 3 (ipykernel)",
   "language": "python",
   "name": "python3"
  },
  "language_info": {
   "codemirror_mode": {
    "name": "ipython",
    "version": 3
   },
   "file_extension": ".py",
   "mimetype": "text/x-python",
   "name": "python",
   "nbconvert_exporter": "python",
   "pygments_lexer": "ipython3",
   "version": "3.8.13"
  }
 },
 "nbformat": 4,
 "nbformat_minor": 5
}
