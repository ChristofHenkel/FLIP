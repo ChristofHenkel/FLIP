{
 "cells": [
  {
   "cell_type": "markdown",
   "metadata": {},
   "source": [
    "# Notes\n",
    "\n",
    "- Data taken from here: https://github.com/alibashir/aav (File: allseqs_20191230.csv.zip)\n",
    "- Just sequence (AA) data exists as well here: https://www.dropbox.com/sh/lmd8wmgibz24r2h/AADmgvc_0Q5mylwgGf97cTC-a/ML_and_Analysis/model_and_dataset_analysis/allseqs_20191230.csv.zip?dl=0\n",
    "- [This notebook](https://github.com/churchlab/Deep_diversification_AAV/blob/main/Parsing_pipeline/Step3_compute_selection_scores.ipynb) suggest that the \"target\" column is `GAS1_virus_S` in the CSV file\n",
    "- [This repository](https://github.com/google-research/google-research/tree/master/aav/model_training) suggest that the wild type AA sequence is 28 residues and is `DEEEIRTTNPVATEQYGSVSTNLQRGNR`\n",
    "- Cutoff via gaussian mixture copied from: https://colab.research.google.com/github/google-research/google-research/blob/master/aav/model_and_dataset_analysis/data_prep.ipynb\n",
    "- The UniProt sequence is here: https://www.uniprot.org/uniprot/P03135\n",
    "- In UniProt notation (sequence starts at 1), the region on P03135 where the sequence mutates is `[561, 588]`"
   ]
  },
  {
   "cell_type": "code",
   "execution_count": 1,
   "metadata": {},
   "outputs": [
    {
     "name": "stdout",
     "output_type": "stream",
     "text": [
      "Requirement already satisfied: biopython in /Users/chdallago/miniconda3/envs/bio-benchmarks/lib/python3.8/site-packages (1.78)\n",
      "Requirement already satisfied: numpy in /Users/chdallago/miniconda3/envs/bio-benchmarks/lib/python3.8/site-packages (from biopython) (1.20.2)\n",
      "Requirement already satisfied: pandas in /Users/chdallago/miniconda3/envs/bio-benchmarks/lib/python3.8/site-packages (1.2.4)\n",
      "Requirement already satisfied: python-dateutil>=2.7.3 in /Users/chdallago/miniconda3/envs/bio-benchmarks/lib/python3.8/site-packages (from pandas) (2.8.1)\n",
      "Requirement already satisfied: pytz>=2017.3 in /Users/chdallago/miniconda3/envs/bio-benchmarks/lib/python3.8/site-packages (from pandas) (2021.1)\n",
      "Requirement already satisfied: numpy>=1.16.5 in /Users/chdallago/miniconda3/envs/bio-benchmarks/lib/python3.8/site-packages (from pandas) (1.20.2)\n",
      "Requirement already satisfied: six>=1.5 in /Users/chdallago/miniconda3/envs/bio-benchmarks/lib/python3.8/site-packages (from python-dateutil>=2.7.3->pandas) (1.16.0)\n",
      "Requirement already satisfied: matplotlib in /Users/chdallago/miniconda3/envs/bio-benchmarks/lib/python3.8/site-packages (3.4.2)\n",
      "Requirement already satisfied: pyparsing>=2.2.1 in /Users/chdallago/miniconda3/envs/bio-benchmarks/lib/python3.8/site-packages (from matplotlib) (2.4.7)\n",
      "Requirement already satisfied: cycler>=0.10 in /Users/chdallago/miniconda3/envs/bio-benchmarks/lib/python3.8/site-packages (from matplotlib) (0.10.0)\n",
      "Requirement already satisfied: python-dateutil>=2.7 in /Users/chdallago/miniconda3/envs/bio-benchmarks/lib/python3.8/site-packages (from matplotlib) (2.8.1)\n",
      "Requirement already satisfied: pillow>=6.2.0 in /Users/chdallago/miniconda3/envs/bio-benchmarks/lib/python3.8/site-packages (from matplotlib) (8.2.0)\n",
      "Requirement already satisfied: numpy>=1.16 in /Users/chdallago/miniconda3/envs/bio-benchmarks/lib/python3.8/site-packages (from matplotlib) (1.20.2)\n",
      "Requirement already satisfied: kiwisolver>=1.0.1 in /Users/chdallago/miniconda3/envs/bio-benchmarks/lib/python3.8/site-packages (from matplotlib) (1.3.1)\n",
      "Requirement already satisfied: six in /Users/chdallago/miniconda3/envs/bio-benchmarks/lib/python3.8/site-packages (from cycler>=0.10->matplotlib) (1.16.0)\n",
      "Requirement already satisfied: scikit-learn in /Users/chdallago/miniconda3/envs/bio-benchmarks/lib/python3.8/site-packages (0.24.2)\n",
      "Requirement already satisfied: threadpoolctl>=2.0.0 in /Users/chdallago/miniconda3/envs/bio-benchmarks/lib/python3.8/site-packages (from scikit-learn) (2.1.0)\n",
      "Requirement already satisfied: scipy>=0.19.1 in /Users/chdallago/miniconda3/envs/bio-benchmarks/lib/python3.8/site-packages (from scikit-learn) (1.6.3)\n",
      "Requirement already satisfied: numpy>=1.13.3 in /Users/chdallago/miniconda3/envs/bio-benchmarks/lib/python3.8/site-packages (from scikit-learn) (1.20.2)\n",
      "Requirement already satisfied: joblib>=0.11 in /Users/chdallago/miniconda3/envs/bio-benchmarks/lib/python3.8/site-packages (from scikit-learn) (1.0.1)\n",
      "Requirement already satisfied: python-Levenshtein in /Users/chdallago/miniconda3/envs/bio-benchmarks/lib/python3.8/site-packages (0.12.2)\n",
      "Requirement already satisfied: setuptools in /Users/chdallago/miniconda3/envs/bio-benchmarks/lib/python3.8/site-packages (from python-Levenshtein) (49.6.0.post20210108)\n"
     ]
    }
   ],
   "source": [
    "!pip install biopython\n",
    "!pip install pandas\n",
    "!pip install matplotlib\n",
    "!pip install scikit-learn"
   ]
  },
  {
   "cell_type": "code",
   "execution_count": 1,
   "metadata": {},
   "outputs": [],
   "source": [
    "import pandas\n",
    "import math\n",
    "import random\n",
    "import numpy\n",
    "\n",
    "from pathlib import Path\n",
    "from pandas import read_csv, DataFrame\n",
    "\n",
    "from helpers import read_fasta"
   ]
  },
  {
   "cell_type": "code",
   "execution_count": 2,
   "metadata": {},
   "outputs": [],
   "source": [
    "random.seed(11)"
   ]
  },
  {
   "cell_type": "code",
   "execution_count": 3,
   "metadata": {},
   "outputs": [],
   "source": [
    "pandas.set_option('display.max_rows', None)"
   ]
  },
  {
   "cell_type": "code",
   "execution_count": 5,
   "metadata": {},
   "outputs": [],
   "source": [
    "data_path = Path('') / '..' / 'data' / 'aav'\n",
    "aav_data_path = data_path / 'allseqs_20191230.csv'\n",
    "\n",
    "split_path = Path('') / '..' / 'splits' / 'aav'"
   ]
  },
  {
   "cell_type": "code",
   "execution_count": 29,
   "metadata": {},
   "outputs": [],
   "source": [
    "aav_data = read_csv(aav_data_path)\n",
    "\n",
    "P03135 = read_fasta(data_path / 'P03135.fasta')[0]\n",
    "region = (561,588)\n",
    "reference_region = \"DEEEIRTTNPVATEQYGSVSTNLQRGNR\""
   ]
  },
  {
   "cell_type": "code",
   "execution_count": 30,
   "metadata": {},
   "outputs": [
    {
     "data": {
      "text/plain": [
       "Index(['sequence', 'partition', 'mutation_sequence', 'num_mutations',\n",
       "       'num_edits', 'viral_selection', 'is_viable'],\n",
       "      dtype='object')"
      ]
     },
     "execution_count": 30,
     "metadata": {},
     "output_type": "execute_result"
    }
   ],
   "source": [
    "aav_data.columns"
   ]
  },
  {
   "cell_type": "code",
   "execution_count": 42,
   "metadata": {},
   "outputs": [
    {
     "name": "stdout",
     "output_type": "stream",
     "text": [
      "designed\n",
      "rand\n",
      "single\n",
      "stop\n",
      "cnn_designed_plus_rand_train_walked\n",
      "lr_rand_doubles_plus_single_walked\n",
      "cnn_rand_doubles_plus_single_seed\n",
      "cnn_standard_walked\n",
      "rnn_rand_doubles_plus_singles_seed\n",
      "lr_standard_walked\n",
      "lr_rand_doubles_plus_single_seed\n",
      "lr_designed_plus_rand_train_seed\n",
      "cnn_rand_doubles_plus_single_walked\n",
      "previous_chip_nonviable\n",
      "cnn_designed_plus_rand_train_seed\n",
      "lr_standard_seed\n",
      "rnn_designed_plus_rand_train_walked\n",
      "lr_designed_plus_rand_train_walked\n",
      "random_doubles\n",
      "rnn_standard_seed\n",
      "previous_chip_viable\n",
      "rnn_standard_walked\n",
      "rnn_designed_plus_rand_train_seed\n",
      "cnn_standard_seed\n",
      "rnn_rand_doubles_plus_singles_walked\n",
      "singles\n",
      "wild_type\n"
     ]
    }
   ],
   "source": [
    "for partition in aav_data['partition'].unique():\n",
    "    print(partition)"
   ]
  },
  {
   "cell_type": "code",
   "execution_count": 32,
   "metadata": {},
   "outputs": [],
   "source": [
    "# Get the wild type sequence from the data\n",
    "\n",
    "wt = aav_data[aav_data['partition'] == \"wild_type\"].to_dict(orient='records')[0]"
   ]
  },
  {
   "cell_type": "code",
   "execution_count": 33,
   "metadata": {},
   "outputs": [],
   "source": [
    "# Make sure that all assumptions on the wild type are correct\n",
    "\n",
    "assert(wt['sequence'] == reference_region)\n",
    "\n",
    "# Important: region[0] -1 because UniProt notation! (0 in Python == 1 in UniProt)\n",
    "assert(wt['sequence'] == str(P03135[region[0]-1 : region[1]].seq))\n",
    "\n",
    "# Make sure chopping the sequence works as expected:\n",
    "\n",
    "assert(\n",
    "    str(P03135.seq) ==\n",
    "    str(P03135[:region[0]-1].seq) + str(P03135[region[0]-1 : region[1]].seq) + str(P03135[region[1]:].seq)\n",
    ")"
   ]
  },
  {
   "cell_type": "code",
   "execution_count": 34,
   "metadata": {},
   "outputs": [],
   "source": [
    "# Remove data where scores are +/- inf\n",
    "\n",
    "aav_data.replace([math.inf, -math.inf], math.nan, inplace=True)\n",
    "aav_data.dropna(inplace=True)"
   ]
  },
  {
   "cell_type": "code",
   "execution_count": 57,
   "metadata": {},
   "outputs": [],
   "source": [
    "# We need to aggregate synonymous variants if operating on AA sequences\n",
    "# Take the score and devide by number of synonymous WT AA seuqneces!\n",
    "\n",
    "def aggregate_rows(dataframe_slice):\n",
    "    \n",
    "    first_element = dataframe_slice.iloc[0]\n",
    "    \n",
    "    return {\n",
    "        'mutation_mask': first_element.mutation_sequence,\n",
    "        'mutated_region': first_element.sequence,\n",
    "        'category': first_element.partition,\n",
    "        'number_of_mutations': first_element.num_mutations,\n",
    "        'levenshtein_distance': first_element.num_edits,\n",
    "        'binary_score': first_element.is_viable,\n",
    "        'score': dataframe_slice.viral_selection.mean()\n",
    "    }\n",
    "\n",
    "grouped_protein_data = aav_data.groupby(['sequence', 'partition']).apply(aggregate_rows).values\n",
    "\n",
    "protein_data = DataFrame.from_records(grouped_protein_data)"
   ]
  },
  {
   "cell_type": "code",
   "execution_count": 58,
   "metadata": {},
   "outputs": [],
   "source": [
    "def region_cut(new_sequence):\n",
    "    filtered_sequence = new_sequence.upper().replace('*','')\n",
    "    return str(P03135[:region[0]-1].seq) + filtered_sequence + str(P03135[region[1]:].seq)\n",
    "\n",
    "protein_data['full_aa_sequence'] = protein_data['mutated_region'].apply(region_cut)"
   ]
  },
  {
   "cell_type": "markdown",
   "metadata": {},
   "source": [
    "Based on the the manuscript:\n",
    " \n",
    "> To avoid overfitting to experimental noise, rather than predicting the quantitative production efficiency we used binary classification models to predict whether each sequence variant is viable (Supplementary Fig. 1), as defined by a threshold fit to best separate positive and negative controls (WT replicas, and variants containing stop codons, respectively).\n",
    "\n",
    "Apparently, by plotting `score` one should see a binomial. The cutoff is set somewhere beteen -2.5 and 0."
   ]
  },
  {
   "cell_type": "code",
   "execution_count": 59,
   "metadata": {},
   "outputs": [
    {
     "data": {
      "text/plain": [
       "<AxesSubplot:>"
      ]
     },
     "execution_count": 59,
     "metadata": {},
     "output_type": "execute_result"
    },
    {
     "data": {
      "image/png": "[encoded data removed]",
      "text/plain": [
       "<Figure size 432x288 with 1 Axes>"
      ]
     },
     "metadata": {
      "needs_background": "light"
     },
     "output_type": "display_data"
    }
   ],
   "source": [
    "protein_data['score'].hist(bins=20)"
   ]
  },
  {
   "cell_type": "code",
   "execution_count": 60,
   "metadata": {},
   "outputs": [
    {
     "data": {
      "text/plain": [
       "designed                                56326\n",
       "random_doubles                          25040\n",
       "rnn_standard_walked                     20838\n",
       "cnn_designed_plus_rand_train_walked     20759\n",
       "rnn_designed_plus_rand_train_walked     20731\n",
       "lr_standard_walked                      20456\n",
       "cnn_rand_doubles_plus_single_walked     20454\n",
       "cnn_standard_walked                     20395\n",
       "rnn_rand_doubles_plus_singles_walked    20154\n",
       "lr_rand_doubles_plus_single_walked      19999\n",
       "lr_designed_plus_rand_train_walked      19680\n",
       "rand                                     9857\n",
       "lr_rand_doubles_plus_single_seed         2071\n",
       "rnn_designed_plus_rand_train_seed        2065\n",
       "rnn_rand_doubles_plus_singles_seed       2045\n",
       "lr_designed_plus_rand_train_seed         2030\n",
       "cnn_rand_doubles_plus_single_seed        2022\n",
       "lr_standard_seed                         1989\n",
       "cnn_standard_seed                        1924\n",
       "rnn_standard_seed                        1916\n",
       "cnn_designed_plus_rand_train_seed        1898\n",
       "single                                   1112\n",
       "singles                                  1085\n",
       "previous_chip_nonviable                   998\n",
       "previous_chip_viable                      994\n",
       "stop                                       57\n",
       "wild_type                                   1\n",
       "Name: partition, dtype: int64"
      ]
     },
     "execution_count": 60,
     "metadata": {},
     "output_type": "execute_result"
    }
   ],
   "source": [
    "aav_data.partition.value_counts()"
   ]
  },
  {
   "cell_type": "code",
   "execution_count": 65,
   "metadata": {},
   "outputs": [],
   "source": [
    "import pandas as pd"
   ]
  },
  {
   "cell_type": "code",
   "execution_count": 68,
   "metadata": {},
   "outputs": [
    {
     "data": {
      "text/plain": [
       "4     9670\n",
       "3     9340\n",
       "5     9153\n",
       "6     8514\n",
       "2     5800\n",
       "7     1289\n",
       "8     1215\n",
       "9     1142\n",
       "10    1073\n",
       "11    1011\n",
       "12     965\n",
       "13     882\n",
       "14     816\n",
       "15     736\n",
       "16     653\n",
       "17     578\n",
       "18     526\n",
       "19     450\n",
       "20     393\n",
       "21     356\n",
       "22     289\n",
       "23     259\n",
       "24     211\n",
       "25     184\n",
       "26     148\n",
       "27     118\n",
       "28     103\n",
       "29      93\n",
       "30      85\n",
       "31      63\n",
       "32      50\n",
       "33      47\n",
       "34      41\n",
       "35      27\n",
       "36      17\n",
       "38      13\n",
       "37      13\n",
       "39       3\n",
       "Name: num_edits, dtype: int64"
      ]
     },
     "execution_count": 68,
     "metadata": {},
     "output_type": "execute_result"
    }
   ],
   "source": [
    "pd.value_counts(aav_data.query(\"partition == 'designed'\")['num_edits'])"
   ]
  },
  {
   "cell_type": "code",
   "execution_count": 61,
   "metadata": {},
   "outputs": [
    {
     "data": {
      "text/plain": [
       "designed                                56326\n",
       "random_doubles                          25040\n",
       "rnn_standard_walked                     20838\n",
       "cnn_designed_plus_rand_train_walked     20759\n",
       "rnn_designed_plus_rand_train_walked     20731\n",
       "lr_standard_walked                      20456\n",
       "cnn_rand_doubles_plus_single_walked     20454\n",
       "cnn_standard_walked                     20395\n",
       "rnn_rand_doubles_plus_singles_walked    20154\n",
       "lr_rand_doubles_plus_single_walked      19999\n",
       "lr_designed_plus_rand_train_walked      19680\n",
       "rand                                     9857\n",
       "lr_rand_doubles_plus_single_seed         2071\n",
       "rnn_designed_plus_rand_train_seed        2065\n",
       "rnn_rand_doubles_plus_singles_seed       2045\n",
       "lr_designed_plus_rand_train_seed         2030\n",
       "cnn_rand_doubles_plus_single_seed        2022\n",
       "lr_standard_seed                         1989\n",
       "cnn_standard_seed                        1924\n",
       "rnn_standard_seed                        1916\n",
       "cnn_designed_plus_rand_train_seed        1898\n",
       "single                                   1112\n",
       "singles                                  1085\n",
       "previous_chip_nonviable                   998\n",
       "previous_chip_viable                      994\n",
       "stop                                       57\n",
       "wild_type                                   1\n",
       "Name: category, dtype: int64"
      ]
     },
     "execution_count": 61,
     "metadata": {},
     "output_type": "execute_result"
    }
   ],
   "source": [
    "protein_data.category.value_counts()"
   ]
  },
  {
   "cell_type": "code",
   "execution_count": 62,
   "metadata": {},
   "outputs": [],
   "source": [
    "design_train = [\n",
    "    'previous_chip_viable',\n",
    "    'previous_chip_nonviable', \n",
    "    'stop',\n",
    "    'single',\n",
    "    'singles',\n",
    "    'wild_type',\n",
    "    'random_doubles'\n",
    "]\n",
    "\n",
    "design_test = [\n",
    "    'designed',\n",
    "    'cnn_designed_plus_rand_train_walked',\n",
    "    'lr_rand_doubles_plus_single_walked',\n",
    "    'cnn_rand_doubles_plus_single_seed',\n",
    "    'cnn_standard_walked',\n",
    "    'rnn_rand_doubles_plus_singles_seed',\n",
    "    'lr_standard_walked',\n",
    "    'lr_rand_doubles_plus_single_seed',\n",
    "    'lr_designed_plus_rand_train_seed',\n",
    "    'cnn_rand_doubles_plus_single_walked',\n",
    "    'cnn_designed_plus_rand_train_seed',\n",
    "    'lr_standard_seed',\n",
    "    'rnn_designed_plus_rand_train_walked',\n",
    "    'lr_designed_plus_rand_train_walked',\n",
    "    'rnn_standard_seed',\n",
    "    'rnn_standard_walked',\n",
    "    'rnn_designed_plus_rand_train_seed',\n",
    "    'cnn_standard_seed',\n",
    "    'rnn_rand_doubles_plus_singles_walked',\n",
    "]\n",
    "\n",
    "def design_split(category):\n",
    "    if category in design_train:\n",
    "        return \"train\"\n",
    "    elif category in design_test:\n",
    "        return \"test\"\n",
    "    else:\n",
    "        return \"unknown\"\n",
    "    \n",
    "def design_split_reversed(category):\n",
    "    if category in design_train:\n",
    "        return \"test\"\n",
    "    elif category in design_test:\n",
    "        return \"train\"\n",
    "    else:\n",
    "        return \"unknown\"\n",
    "\n",
    "protein_data['design_split'] = protein_data.category.apply(design_split)\n",
    "protein_data['design_split_reversed'] = protein_data.category.apply(design_split_reversed)"
   ]
  },
  {
   "cell_type": "code",
   "execution_count": 63,
   "metadata": {},
   "outputs": [
    {
     "name": "stdout",
     "output_type": "stream",
     "text": [
      "The test set will be 63.866471761155424% of the data.\n"
     ]
    }
   ],
   "source": [
    "natural_allowed = [\n",
    "    'previous_chip_viable',\n",
    "    'previous_chip_nonviable', \n",
    "    'stop',\n",
    "    'single',\n",
    "    'singles',\n",
    "    'wild_type',\n",
    "    'random_doubles'\n",
    "]\n",
    "\n",
    "# randomly pick a few, see distribution of mutations\n",
    "def natural_split_1(category):\n",
    "    if category in natural_allowed:\n",
    "        return random.choices(['train', 'test'], weights=[0.8, 0.2], k=1)[0]\n",
    "    else:\n",
    "        return \"unknown\"\n",
    "\n",
    "# from train, those w/ many mutations\n",
    "\n",
    "num_mutations_threshold = 7\n",
    "\n",
    "test_count = len(protein_data[protein_data.number_of_mutations > num_mutations_threshold])\n",
    "total = len(protein_data)\n",
    "\n",
    "test_percentage = (test_count*100)/total\n",
    "\n",
    "print(f'The test set will be {test_percentage}% of the data.')\n",
    "\n",
    "def natural_split_2(row):\n",
    "    if row.category in natural_allowed:\n",
    "        if row.number_of_mutations > num_mutations_threshold:\n",
    "            return \"test\"\n",
    "        else:\n",
    "            return \"train\"\n",
    "    else:\n",
    "        return \"unknown\"\n",
    "    \n",
    "\n",
    "protein_data['natural_split_1'] = protein_data.category.apply(natural_split_1)\n",
    "protein_data['natural_split_2'] = protein_data.apply(natural_split_2, axis=1)"
   ]
  },
  {
   "cell_type": "code",
   "execution_count": 19,
   "metadata": {},
   "outputs": [],
   "source": [
    "# Random sample n sequences from train k times for single shot learning approaches\n",
    "\n",
    "n = 96\n",
    "k = 100\n",
    "\n",
    "protein_data['natural_split_1_random_train_set'] = 'unassigned'\n",
    "protein_data['natural_split_2_random_train_set'] = 'unassigned'\n",
    "\n",
    "natural_split_1_train = protein_data.query('natural_split_1 == \"train\"')\n",
    "natural_split_1_train_index = list(natural_split_1_train.index)\n",
    "\n",
    "natural_split_1_kn_indexes = numpy.array(random.sample(natural_split_1_train_index, k=k*n)).reshape(k,n)\n",
    "\n",
    "for i, kn_index in enumerate(natural_split_1_kn_indexes):\n",
    "    protein_data.loc[kn_index, 'natural_split_1_random_train_set'] = f\"S{i+1}\"\n",
    "    \n",
    "natural_split_2_train = protein_data.query('natural_split_2 == \"train\"')\n",
    "natural_split_2_train_index = list(natural_split_2_train.index)\n",
    "\n",
    "natural_split_2_kn_indexes = numpy.array(random.sample(natural_split_2_train_index, k=k*n)).reshape(k,n)\n",
    "\n",
    "for i, kn_index in enumerate(natural_split_2_kn_indexes):\n",
    "    protein_data.loc[kn_index, 'natural_split_2_random_train_set'] = f\"S{i+1}\""
   ]
  },
  {
   "cell_type": "code",
   "execution_count": 64,
   "metadata": {},
   "outputs": [
    {
     "name": "stdout",
     "output_type": "stream",
     "text": [
      "\n",
      "    Set design_task has 29287 train and 257752 test sequences. 57% of test is positive.\n",
      "    \n",
      "\n",
      "    Set design_task_reversed has 257752 train and 29287 test sequences. 23% of test is positive.\n",
      "    \n",
      "\n",
      "    Set natural_task_1 has 23466 train and 5821 test sequences. 24% of test is positive.\n",
      "    \n",
      "\n",
      "    Set natural_task_2 has 28845 train and 442 test sequences. 22% of test is positive.\n",
      "    \n"
     ]
    }
   ],
   "source": [
    "# Check how much are in test/train for each set\n",
    "\n",
    "def get_stats(split_name):\n",
    "    return f\"\"\"\n",
    "    Set {split_name} has {\n",
    "      len(protein_data.query(f\"{split_name}=='train'\"))\n",
    "    } train and {\n",
    "      len(protein_data.query(f\"{split_name}=='test'\"))\n",
    "    } test sequences. {\n",
    "      round(len(protein_data.query(f\"{split_name}=='test' & binary_score==True\")) /\n",
    "      len(protein_data.query(f\"{split_name}=='test'\")) * 100)\n",
    "    }% of test is positive.\n",
    "    \"\"\"\n",
    "\n",
    "print(get_stats(\"design_split\"))\n",
    "print(get_stats(\"design_split_reversed\"))\n",
    "print(get_stats(\"natural_split_1\"))\n",
    "print(get_stats(\"natural_split_2\"))"
   ]
  },
  {
   "cell_type": "code",
   "execution_count": 21,
   "metadata": {},
   "outputs": [],
   "source": [
    "# Add reference region for completeness\n",
    "protein_data['reference_region'] = reference_region\n",
    "\n",
    "protein_data[\n",
    "    ['mutation_mask', 'mutated_region', 'category', 'number_of_mutations',\n",
    "    'levenshtein_distance', 'score', 'full_aa_sequence', 'binary_score', 'reference_region',\n",
    "    'design_split', 'design_split_reversed', 'natural_split_1', 'natural_split_2',\n",
    "    'natural_split_1_random_train_set', 'natural_split_2_random_train_set']\n",
    "].to_csv(split_path / \"full_data.csv\", index=False)"
   ]
  },
  {
   "cell_type": "code",
   "execution_count": 22,
   "metadata": {},
   "outputs": [],
   "source": [
    "ml_categories = ['train','test']\n",
    "\n",
    "# Design regression\n",
    "design_split_regression = protein_data[protein_data.design_split.isin(ml_categories)]\n",
    "design_split_regression = design_split_regression.rename({\n",
    "    'full_aa_sequence': 'sequence',\n",
    "    'score': 'target',\n",
    "    'design_split': 'set',\n",
    "}, axis=1)\n",
    "\n",
    "design_split_regression[\n",
    "    ['sequence', 'target', 'set']\n",
    "].to_csv(split_path / 'splits' / \"design_split_regression.csv\", index=False)\n",
    "\n",
    "del design_split_regression\n",
    "\n",
    "# Design reversed regression\n",
    "design_split_reversed_regression = protein_data[protein_data.design_split_reversed.isin(ml_categories)]\n",
    "design_split_reversed_regression = design_split_reversed_regression.rename({\n",
    "    'full_aa_sequence': 'sequence',\n",
    "    'score': 'target',\n",
    "    'design_split_reversed': 'set',\n",
    "}, axis=1)\n",
    "\n",
    "design_split_reversed_regression[\n",
    "    ['sequence', 'target', 'set']\n",
    "].to_csv(split_path / 'splits' / \"design_split_reversed_regression.csv\", index=False)\n",
    "\n",
    "del design_split_reversed_regression\n",
    "\n",
    "# Natural 1 regression\n",
    "natural_split_1_regression = protein_data[protein_data.natural_split_1.isin(ml_categories)]\n",
    "natural_split_1_regression = natural_split_1_regression.rename({\n",
    "    'full_aa_sequence': 'sequence',\n",
    "    'score': 'target',\n",
    "    'natural_split_1': 'set',\n",
    "    'natural_split_1_random_train_set': 'random_sample'\n",
    "}, axis=1)\n",
    "\n",
    "natural_split_1_regression[\n",
    "    ['sequence', 'target', 'set', 'random_sample']\n",
    "].to_csv(split_path / 'splits' / \"natural_split_1_regression.csv\", index=False)\n",
    "\n",
    "del natural_split_1_regression\n",
    "\n",
    "# Natural 2 regression\n",
    "natural_split_2_regression = protein_data[protein_data.natural_split_2.isin(ml_categories)]\n",
    "natural_split_2_regression = natural_split_2_regression.rename({\n",
    "    'full_aa_sequence': 'sequence',\n",
    "    'score': 'target',\n",
    "    'natural_split_2': 'set',\n",
    "    'natural_split_2_random_train_set': 'random_sample'\n",
    "}, axis=1)\n",
    "\n",
    "natural_split_2_regression[\n",
    "    ['sequence', 'target', 'set', 'random_sample']\n",
    "].to_csv(split_path / 'splits' / \"natural_split_2_regression.csv\", index=False)\n",
    "\n",
    "del natural_split_2_regression"
   ]
  },
  {
   "cell_type": "code",
   "execution_count": null,
   "metadata": {},
   "outputs": [],
   "source": []
  }
 ],
 "metadata": {
  "kernelspec": {
   "display_name": "Python 3",
   "language": "python",
   "name": "python3"
  },
  "language_info": {
   "codemirror_mode": {
    "name": "ipython",
    "version": 3
   },
   "file_extension": ".py",
   "mimetype": "text/x-python",
   "name": "python",
   "nbconvert_exporter": "python",
   "pygments_lexer": "ipython3",
   "version": "3.8.10"
  }
 },
 "nbformat": 4,
 "nbformat_minor": 1
}