{
 "cells": [
  {
   "cell_type": "markdown",
   "metadata": {
    "collapsed": true
   },
   "source": [
    "# Notes\n",
    "\n",
    "- There are two sets for this, one from a [2014 publication](https://doi.org/10.1016/j.cub.2014.09.072), one from a [2016 publication](https://elifesciences.org/articles/16965)\n",
    "- The 2016 publication data contains 4 mutations at 3 subsequent and 1 \"far off\" sites (V39, D40, G41 and V54). Fittness is measured in terms of binding ability. Sequence length is supposed to be \"56 amino acids in total\")\n",
    "\n",
    "#### First idea\n",
    "- From the [2016 publication](https://elifesciences.org/articles/16965), an excel can be downloaded [from the supplement](https://doi.org/10.7554/eLife.16965.024). If the WT residues align to the WT PDB sequencce found through the 2014 paper (below), then we are a go.\n",
    "\n",
    "\n",
    "#### Second idea\n",
    "- For the 2014 publication, the data is in the supplements of the manuscript. At the time of writing this, the link was: https://www.cell.com/cms/10.1016/j.cub.2014.09.072/attachment/3a36211d-bddd-43e3-bf42-a6721f93a18b/mmc2.xlsx\n",
    "- The XLS contains one sheet with double, single and WT reads. Parsing the RAW excel in pandas ain't an option, so I copy pasted the relevant tables in separate sheets of the original excel file\n",
    "- In the excel, the fittness for single mutations is weirdly duplicated in the double mutations and not expressed in the single mutations counts. As such, I will extract all data from the double counts after some verification\n",
    "\n",
    "##### Third idea\n",
    "- After a brief sanity check, the data in the excel file was inconsistent. E.g., as possible amino acid positions, it listead floating point values:\n",
    "  ```\n",
    "  [in]  list(map(lambda x: print(x), doubles['Mut1 Position'].unique()))\n",
    "  \n",
    "  [out] 2\n",
    "        3\n",
    "        4\n",
    "        Mut1 Position\n",
    "        4.61002624942922\n",
    "        4.61020016743552\n",
    "        ...\n",
    "  ```\n",
    "- After doing some digging, it seems there's a repo available by the second author (first of the 2016 print): https://github.com/wchnicholas/DoubleMutFit2DDG\n",
    "- This repo is linked to another [2015 paper](https://onlinelibrary.wiley.com/doi/full/10.1002/pro.2840), which computes ΔΔG not as a function of a library.\n",
    "- After further digging, a csv-like formatted set of single and double mutations is available here: https://github.com/wchnicholas/DoubleMutFit2DDG/tree/master/result\n",
    "- From here, one has to compute the fittness scores by hand for singles and doubles.\n",
    "- Based on Fig 1 fitness is computed as `SelectionCount(WT) + SelectionCount(Mut) / InputCount(WT) + InputCount(Mut)`\n",
    "- WT counts are:\n",
    "  ```\n",
    "        InputCount    SelectionCount(SumOfTriplicates)\n",
    "    WT\t1759616\t      3041819\n",
    "  ```"
   ]
  },
  {
   "cell_type": "code",
   "execution_count": 1,
   "metadata": {},
   "outputs": [],
   "source": [
    "import matplotlib.pyplot as plt\n",
    "\n",
    "from copy import deepcopy\n",
    "from pathlib import Path\n",
    "\n",
    "from pandas import read_csv, read_excel"
   ]
  },
  {
   "cell_type": "code",
   "execution_count": 2,
   "metadata": {},
   "outputs": [],
   "source": [
    "data_path = Path('') / '..' / 'data' / 'gb1'\n",
    "task_path = Path('') / '..' / 'tasks' / 'gb1'"
   ]
  },
  {
   "cell_type": "markdown",
   "metadata": {},
   "source": [
    "## 2014 publication"
   ]
  },
  {
   "cell_type": "code",
   "execution_count": 3,
   "metadata": {},
   "outputs": [],
   "source": [
    "singles_path = data_path / 'SingleSub.txt'\n",
    "doubles_path = data_path / 'DoubleSub.txt'"
   ]
  },
  {
   "cell_type": "code",
   "execution_count": 4,
   "metadata": {},
   "outputs": [],
   "source": [
    "singles = read_csv(singles_path, sep=\"\\t\")"
   ]
  },
  {
   "cell_type": "code",
   "execution_count": 5,
   "metadata": {},
   "outputs": [
    {
     "data": {
      "text/html": [
       "<div>\n",
       "<style scoped>\n",
       "    .dataframe tbody tr th:only-of-type {\n",
       "        vertical-align: middle;\n",
       "    }\n",
       "\n",
       "    .dataframe tbody tr th {\n",
       "        vertical-align: top;\n",
       "    }\n",
       "\n",
       "    .dataframe thead th {\n",
       "        text-align: right;\n",
       "    }\n",
       "</style>\n",
       "<table border=\"1\" class=\"dataframe\">\n",
       "  <thead>\n",
       "    <tr style=\"text-align: right;\">\n",
       "      <th></th>\n",
       "      <th>Substitution-WTaa</th>\n",
       "      <th>Substitution-Pos</th>\n",
       "      <th>Substitution-Mutaa</th>\n",
       "      <th>InputCount</th>\n",
       "      <th>SelectionCount(SumOfTriplicates)</th>\n",
       "    </tr>\n",
       "  </thead>\n",
       "  <tbody>\n",
       "    <tr>\n",
       "      <th>0</th>\n",
       "      <td>T</td>\n",
       "      <td>16</td>\n",
       "      <td>R</td>\n",
       "      <td>106367</td>\n",
       "      <td>184675</td>\n",
       "    </tr>\n",
       "    <tr>\n",
       "      <th>1</th>\n",
       "      <td>T</td>\n",
       "      <td>16</td>\n",
       "      <td>S</td>\n",
       "      <td>71248</td>\n",
       "      <td>69455</td>\n",
       "    </tr>\n",
       "    <tr>\n",
       "      <th>2</th>\n",
       "      <td>T</td>\n",
       "      <td>16</td>\n",
       "      <td>P</td>\n",
       "      <td>90794</td>\n",
       "      <td>66331</td>\n",
       "    </tr>\n",
       "  </tbody>\n",
       "</table>\n",
       "</div>"
      ],
      "text/plain": [
       "  Substitution-WTaa  Substitution-Pos Substitution-Mutaa  InputCount  \\\n",
       "0                 T                16                  R      106367   \n",
       "1                 T                16                  S       71248   \n",
       "2                 T                16                  P       90794   \n",
       "\n",
       "   SelectionCount(SumOfTriplicates)  \n",
       "0                            184675  \n",
       "1                             69455  \n",
       "2                             66331  "
      ]
     },
     "execution_count": 5,
     "metadata": {},
     "output_type": "execute_result"
    }
   ],
   "source": [
    "singles[:3]"
   ]
  },
  {
   "cell_type": "code",
   "execution_count": 6,
   "metadata": {},
   "outputs": [],
   "source": [
    "sequence_positions = singles[['Substitution-WTaa', 'Substitution-Pos']].drop_duplicates().sort_values(by=\"Substitution-Pos\")"
   ]
  },
  {
   "cell_type": "code",
   "execution_count": 7,
   "metadata": {},
   "outputs": [],
   "source": [
    "reference_region = \"\".join(sequence_positions[\"Substitution-WTaa\"].values)"
   ]
  },
  {
   "cell_type": "code",
   "execution_count": 8,
   "metadata": {},
   "outputs": [
    {
     "name": "stdout",
     "output_type": "stream",
     "text": [
      "QYKLILNGKTLKGETTTEAVDAATAEKVFKQYANDNGVDGEWTYDDATKTFTVTE\n"
     ]
    }
   ],
   "source": [
    "print(reference_region)"
   ]
  },
  {
   "cell_type": "markdown",
   "metadata": {},
   "source": [
    "This sequence has 100% identity and coverage to: https://www.ncbi.nlm.nih.gov/protein/5LDE_A?report=genbank&log$=protalign&blast_rank=1&RID=H7XZK6PV016, which is a PDB structure. It starts at UniProt pos 2 and ends at pos 56. As \"whole sequences\" are preferred (protein LMs trained on those, usually), I extract the FASTA:\n",
    "\n",
    "```\n",
    ">pdb|5LDE|A Chain A, Immunoglobulin G-binding protein G,Viral FLICE protein\n",
    "MQYKLILNGKTLKGETTTEAVDAATAEKVFKQYANDNGVDGEWTYDDATKTFTVTELEVLFQGPLDPNSM\n",
    "ATYEVLCEVARKLGTDDREVVLFLLNVFIPQPTLAQLIGALRALKEEGRLTFPLLAECLFRAGRRDLLRD\n",
    "LLHLDPRFLERHLAGTMSYFSPYQLTVLHVDGELCARDIRSLIFLSKDTIGSRSTPQTFLHWVYCMENLD\n",
    "LLGPTDVDALMSMLRSLSRVDLQRQVQTLMGLHLSGPSHSQHYRHTPLEHHHHHH\n",
    "```\n",
    "\n",
    "This further led to the discovery of [P06654](https://www.uniprot.org/uniprot/P06654/:\n",
    "\n",
    "```\n",
    ">sp|P06654|SPG1_STRSG Immunoglobulin G-binding protein G OS=Streptococcus sp. group G OX=1320 GN=spg PE=1 SV=1\n",
    "MEKEKKVKYFLRKSAFGLASVSAAFLVGSTVFAVDSPIEDTPIIRNGGELTNLLGNSETT\n",
    "LALRNEESATADLTAAAVADTVAAAAAENAGAAAWEAAAAADALAKAKADALKEFNKYGV\n",
    "SDYYKNLINNAKTVEGIKDLQAQVVESAKKARISEATDGLSDFLKSQTPAEDTVKSIELA\n",
    "EAKVLANRELDKYGVSDYHKNLINNAKTVEGVKELIDEILAALPKTDTYKLILNGKTLKG\n",
    "ETTTEAVDAATAEKVFKQYANDNGVDGEWTYDDATKTFTVTEKPEVIDASELTPAVTTYK\n",
    "LVINGKTLKGETTTKAVDAETAEKAFKQYANDNGVDGVWTYDDATKTFTVTEMVTEVPGD\n",
    "APTEPEKPEASIPLVPLTPATPIAKDDAKKDDTKKEDAKKPEAKKDDAKKAETLPTTGEG\n",
    "SNPFFTAAALAVMAGAGALAVASKRKED\n",
    "```\n",
    "\n",
    "However, in the UniProt sequence, the start (298) is a T instead of a Q. I'll thus pick the PDB sequence"
   ]
  },
  {
   "cell_type": "code",
   "execution_count": 9,
   "metadata": {},
   "outputs": [],
   "source": [
    "reference_sequence = \"\"\"\n",
    "MQYKLILNGKTLKGETTTEAVDAATAEKVFKQYANDNGVDGEWTYDDATKTFTVTELEVLFQGPLDPNSM\n",
    "ATYEVLCEVARKLGTDDREVVLFLLNVFIPQPTLAQLIGALRALKEEGRLTFPLLAECLFRAGRRDLLRD\n",
    "LLHLDPRFLERHLAGTMSYFSPYQLTVLHVDGELCARDIRSLIFLSKDTIGSRSTPQTFLHWVYCMENLD\n",
    "LLGPTDVDALMSMLRSLSRVDLQRQVQTLMGLHLSGPSHSQHYRHTPLEHHHHHH\n",
    "\"\"\".replace(\"\\n\", \"\")\n",
    "\n",
    "region = (2,56)"
   ]
  },
  {
   "cell_type": "code",
   "execution_count": 10,
   "metadata": {},
   "outputs": [],
   "source": [
    "assert(reference_sequence[region[0]-1:region[1]] == reference_region)"
   ]
  },
  {
   "cell_type": "code",
   "execution_count": 11,
   "metadata": {},
   "outputs": [],
   "source": [
    "# SelectionCount(WT) + SelectionCount(Mut) / InputCount(WT) + InputCount(Mut)\n",
    "\n",
    "WT = {\n",
    "    'input_count': 1759616,\n",
    "    'selection_count': 3041819\n",
    "}\n",
    "\n",
    "def get_fittness(row):\n",
    "    return (\n",
    "        (row['SelectionCount(SumOfTriplicates)'] + WT['selection_count']) / \n",
    "        (row['InputCount'] + WT['input_count'])\n",
    "    )"
   ]
  },
  {
   "cell_type": "code",
   "execution_count": 12,
   "metadata": {},
   "outputs": [],
   "source": [
    "singles['fittness'] = singles.apply(get_fittness, axis=1)"
   ]
  },
  {
   "cell_type": "code",
   "execution_count": 13,
   "metadata": {},
   "outputs": [
    {
     "data": {
      "text/plain": [
       "<AxesSubplot:>"
      ]
     },
     "execution_count": 13,
     "metadata": {},
     "output_type": "execute_result"
    },
    {
     "data": {
      "image/png": "[encoded data removed]",
      "text/plain": [
       "<Figure size 432x288 with 1 Axes>"
      ]
     },
     "metadata": {
      "needs_background": "light"
     },
     "output_type": "display_data"
    }
   ],
   "source": [
    "singles.fittness.hist()"
   ]
  },
  {
   "cell_type": "code",
   "execution_count": 14,
   "metadata": {},
   "outputs": [],
   "source": [
    "doubles = read_csv(doubles_path, sep=\"\\t\")"
   ]
  },
  {
   "cell_type": "code",
   "execution_count": 15,
   "metadata": {},
   "outputs": [
    {
     "data": {
      "text/html": [
       "<div>\n",
       "<style scoped>\n",
       "    .dataframe tbody tr th:only-of-type {\n",
       "        vertical-align: middle;\n",
       "    }\n",
       "\n",
       "    .dataframe tbody tr th {\n",
       "        vertical-align: top;\n",
       "    }\n",
       "\n",
       "    .dataframe thead th {\n",
       "        text-align: right;\n",
       "    }\n",
       "</style>\n",
       "<table border=\"1\" class=\"dataframe\">\n",
       "  <thead>\n",
       "    <tr style=\"text-align: right;\">\n",
       "      <th></th>\n",
       "      <th>Substitution1-WTaa</th>\n",
       "      <th>Substitution1-Pos</th>\n",
       "      <th>Substitution1-Mutaa</th>\n",
       "      <th>Substitution2-WTaa</th>\n",
       "      <th>Substitution2-Pos</th>\n",
       "      <th>Substitution2-Mutaa</th>\n",
       "      <th>InputCount</th>\n",
       "      <th>SelectionCount(SumOfTriplicates)</th>\n",
       "      <th>ExpectedFit</th>\n",
       "      <th>Sub1fit</th>\n",
       "      <th>Sub2fit</th>\n",
       "    </tr>\n",
       "  </thead>\n",
       "  <tbody>\n",
       "    <tr>\n",
       "      <th>0</th>\n",
       "      <td>K</td>\n",
       "      <td>31</td>\n",
       "      <td>R</td>\n",
       "      <td>T</td>\n",
       "      <td>53</td>\n",
       "      <td>K</td>\n",
       "      <td>566</td>\n",
       "      <td>190</td>\n",
       "      <td>0.223</td>\n",
       "      <td>0.234</td>\n",
       "      <td>0.953</td>\n",
       "    </tr>\n",
       "    <tr>\n",
       "      <th>1</th>\n",
       "      <td>K</td>\n",
       "      <td>31</td>\n",
       "      <td>R</td>\n",
       "      <td>T</td>\n",
       "      <td>53</td>\n",
       "      <td>I</td>\n",
       "      <td>167</td>\n",
       "      <td>47</td>\n",
       "      <td>0.177</td>\n",
       "      <td>0.234</td>\n",
       "      <td>0.759</td>\n",
       "    </tr>\n",
       "    <tr>\n",
       "      <th>2</th>\n",
       "      <td>K</td>\n",
       "      <td>31</td>\n",
       "      <td>R</td>\n",
       "      <td>T</td>\n",
       "      <td>53</td>\n",
       "      <td>H</td>\n",
       "      <td>345</td>\n",
       "      <td>72</td>\n",
       "      <td>0.158</td>\n",
       "      <td>0.234</td>\n",
       "      <td>0.678</td>\n",
       "    </tr>\n",
       "  </tbody>\n",
       "</table>\n",
       "</div>"
      ],
      "text/plain": [
       "  Substitution1-WTaa  Substitution1-Pos Substitution1-Mutaa  \\\n",
       "0                  K                 31                   R   \n",
       "1                  K                 31                   R   \n",
       "2                  K                 31                   R   \n",
       "\n",
       "  Substitution2-WTaa  Substitution2-Pos Substitution2-Mutaa  InputCount  \\\n",
       "0                  T                 53                   K         566   \n",
       "1                  T                 53                   I         167   \n",
       "2                  T                 53                   H         345   \n",
       "\n",
       "   SelectionCount(SumOfTriplicates)  ExpectedFit  Sub1fit  Sub2fit  \n",
       "0                               190        0.223    0.234    0.953  \n",
       "1                                47        0.177    0.234    0.759  \n",
       "2                                72        0.158    0.234    0.678  "
      ]
     },
     "execution_count": 15,
     "metadata": {},
     "output_type": "execute_result"
    }
   ],
   "source": [
    "doubles[:3]"
   ]
  },
  {
   "cell_type": "markdown",
   "metadata": {},
   "source": [
    "# 2016 publication"
   ]
  },
  {
   "cell_type": "code",
   "execution_count": 16,
   "metadata": {},
   "outputs": [
    {
     "name": "stderr",
     "output_type": "stream",
     "text": [
      "/Users/chdallago/miniconda3/envs/bio-benchmarks/lib/python3.8/site-packages/openpyxl/worksheet/_reader.py:312: UserWarning: Unknown extension is not supported and will be removed\n",
      "  warn(msg)\n"
     ]
    }
   ],
   "source": [
    "four_mutations_data = read_excel(data_path / \"elife-16965-supp1-v4.xlsx\")"
   ]
  },
  {
   "cell_type": "code",
   "execution_count": 17,
   "metadata": {},
   "outputs": [
    {
     "data": {
      "text/html": [
       "<div>\n",
       "<style scoped>\n",
       "    .dataframe tbody tr th:only-of-type {\n",
       "        vertical-align: middle;\n",
       "    }\n",
       "\n",
       "    .dataframe tbody tr th {\n",
       "        vertical-align: top;\n",
       "    }\n",
       "\n",
       "    .dataframe thead th {\n",
       "        text-align: right;\n",
       "    }\n",
       "</style>\n",
       "<table border=\"1\" class=\"dataframe\">\n",
       "  <thead>\n",
       "    <tr style=\"text-align: right;\">\n",
       "      <th></th>\n",
       "      <th>Variants</th>\n",
       "      <th>HD</th>\n",
       "      <th>Count input</th>\n",
       "      <th>Count selected</th>\n",
       "      <th>Fitness</th>\n",
       "    </tr>\n",
       "  </thead>\n",
       "  <tbody>\n",
       "    <tr>\n",
       "      <th>0</th>\n",
       "      <td>VDGV</td>\n",
       "      <td>0</td>\n",
       "      <td>92735</td>\n",
       "      <td>338346</td>\n",
       "      <td>1.000000</td>\n",
       "    </tr>\n",
       "    <tr>\n",
       "      <th>1</th>\n",
       "      <td>ADGV</td>\n",
       "      <td>1</td>\n",
       "      <td>34</td>\n",
       "      <td>43</td>\n",
       "      <td>0.061910</td>\n",
       "    </tr>\n",
       "    <tr>\n",
       "      <th>2</th>\n",
       "      <td>CDGV</td>\n",
       "      <td>1</td>\n",
       "      <td>850</td>\n",
       "      <td>641</td>\n",
       "      <td>0.242237</td>\n",
       "    </tr>\n",
       "  </tbody>\n",
       "</table>\n",
       "</div>"
      ],
      "text/plain": [
       "  Variants  HD  Count input  Count selected   Fitness\n",
       "0     VDGV   0        92735          338346  1.000000\n",
       "1     ADGV   1           34              43  0.061910\n",
       "2     CDGV   1          850             641  0.242237"
      ]
     },
     "execution_count": 17,
     "metadata": {},
     "output_type": "execute_result"
    }
   ],
   "source": [
    "four_mutations_data[:3]"
   ]
  },
  {
   "cell_type": "code",
   "execution_count": 18,
   "metadata": {},
   "outputs": [],
   "source": [
    "WT = four_mutations_data.iloc[0]"
   ]
  },
  {
   "cell_type": "code",
   "execution_count": 19,
   "metadata": {},
   "outputs": [
    {
     "data": {
      "text/plain": [
       "'VDGV'"
      ]
     },
     "execution_count": 19,
     "metadata": {},
     "output_type": "execute_result"
    }
   ],
   "source": [
    "# From the publication: V39, D40, G41 and V54\n",
    "WT.Variants"
   ]
  },
  {
   "cell_type": "code",
   "execution_count": 20,
   "metadata": {},
   "outputs": [],
   "source": [
    "assert(reference_sequence[39-1] == WT.Variants[0])\n",
    "assert(reference_sequence[40-1] == WT.Variants[1])\n",
    "assert(reference_sequence[41-1] == WT.Variants[2])\n",
    "assert(reference_sequence[54-1] == WT.Variants[3])"
   ]
  },
  {
   "cell_type": "code",
   "execution_count": 21,
   "metadata": {},
   "outputs": [],
   "source": [
    "def expand_sequence(variations):\n",
    "    var_sequence = list(reference_sequence)\n",
    "    \n",
    "    var_sequence[39-1] = variations[0]\n",
    "    var_sequence[40-1] = variations[1]\n",
    "    var_sequence[41-1] = variations[2]\n",
    "    var_sequence[54-1] = variations[3]\n",
    "    \n",
    "    return \"\".join(var_sequence)"
   ]
  },
  {
   "cell_type": "code",
   "execution_count": 22,
   "metadata": {},
   "outputs": [],
   "source": [
    "four_mutations_data['sequence'] = four_mutations_data.Variants.apply(expand_sequence)"
   ]
  },
  {
   "cell_type": "code",
   "execution_count": 23,
   "metadata": {},
   "outputs": [
    {
     "data": {
      "text/plain": [
       "<AxesSubplot:>"
      ]
     },
     "execution_count": 23,
     "metadata": {},
     "output_type": "execute_result"
    },
    {
     "data": {
      "image/png": "[encoded data removed]",
      "text/plain": [
       "<Figure size 576x576 with 4 Axes>"
      ]
     },
     "metadata": {
      "needs_background": "light"
     },
     "output_type": "display_data"
    }
   ],
   "source": [
    "# Task 1: train on single mutants (and WT), train on everything else\n",
    "four_mutations_data['task_1_set'] = four_mutations_data.HD.apply(lambda x: \"train\" if x <= 1 else \"test\")\n",
    "\n",
    "fig, ax = plt.subplots(nrows=2, ncols=2, figsize=(8, 8))\n",
    "four_mutations_data['task_1_set'].hist(ax=ax[0,0])\n",
    "four_mutations_data.query('task_1_set==\"train\"')['Fitness'].hist(ax=ax[1,0])\n",
    "four_mutations_data.query('task_1_set==\"test\"')['Fitness'].hist(ax=ax[1,1])"
   ]
  },
  {
   "cell_type": "code",
   "execution_count": 24,
   "metadata": {},
   "outputs": [
    {
     "data": {
      "text/plain": [
       "<AxesSubplot:>"
      ]
     },
     "execution_count": 24,
     "metadata": {},
     "output_type": "execute_result"
    },
    {
     "data": {
      "image/png": "[encoded data removed]",
      "text/plain": [
       "<Figure size 576x576 with 4 Axes>"
      ]
     },
     "metadata": {
      "needs_background": "light"
     },
     "output_type": "display_data"
    }
   ],
   "source": [
    "# Task 2: train on single & double mutants (and WT), train on everything else\n",
    "four_mutations_data['task_2_set'] = four_mutations_data.HD.apply(lambda x: \"train\" if x <= 2 else \"test\")\n",
    "\n",
    "fig, ax = plt.subplots(nrows=2, ncols=2, figsize=(8, 8))\n",
    "four_mutations_data['task_2_set'].hist(ax=ax[0,0])\n",
    "four_mutations_data.query('task_2_set==\"train\"')['Fitness'].hist(ax=ax[1,0])\n",
    "four_mutations_data.query('task_2_set==\"test\"')['Fitness'].hist(ax=ax[1,1])"
   ]
  },
  {
   "cell_type": "code",
   "execution_count": 25,
   "metadata": {},
   "outputs": [
    {
     "data": {
      "text/plain": [
       "<AxesSubplot:>"
      ]
     },
     "execution_count": 25,
     "metadata": {},
     "output_type": "execute_result"
    },
    {
     "data": {
      "image/png": "[encoded data removed]",
      "text/plain": [
       "<Figure size 576x576 with 4 Axes>"
      ]
     },
     "metadata": {
      "needs_background": "light"
     },
     "output_type": "display_data"
    }
   ],
   "source": [
    "# Task 3: train on single, double & triple mutants (and WT), train on everything else\n",
    "four_mutations_data['task_3_set'] = four_mutations_data.HD.apply(lambda x: \"train\" if x <= 3 else \"test\")\n",
    "\n",
    "fig, ax = plt.subplots(nrows=2, ncols=2, figsize=(8, 8))\n",
    "four_mutations_data['task_3_set'].hist(ax=ax[0,0])\n",
    "four_mutations_data.query('task_3_set==\"train\"')['Fitness'].hist(ax=ax[1,0])\n",
    "four_mutations_data.query('task_3_set==\"test\"')['Fitness'].hist(ax=ax[1,1])"
   ]
  },
  {
   "cell_type": "code",
   "execution_count": 26,
   "metadata": {},
   "outputs": [],
   "source": [
    "four_mutations_data.to_csv(task_path / \"four_mutations_full_data.csv\", index=False)"
   ]
  },
  {
   "cell_type": "code",
   "execution_count": 27,
   "metadata": {},
   "outputs": [],
   "source": [
    "# Task 1\n",
    "four_mutations_set_1 = four_mutations_data.rename({\n",
    "    'Fitness': 'target',\n",
    "    'task_1_set': 'set',\n",
    "}, axis=1)\n",
    "\n",
    "four_mutations_set_1[\n",
    "    ['sequence', 'target', 'set']\n",
    "].to_csv(task_path / 'tasks' / \"four_mutations_task_1.csv\", index=False)\n",
    "\n",
    "# Task 2\n",
    "four_mutations_set_2 = four_mutations_data.rename({\n",
    "    'Fitness': 'target',\n",
    "    'task_2_set': 'set',\n",
    "}, axis=1)\n",
    "\n",
    "four_mutations_set_2[\n",
    "    ['sequence', 'target', 'set']\n",
    "].to_csv(task_path / 'tasks' / \"four_mutations_task_2.csv\", index=False)\n",
    "\n",
    "# Task 3\n",
    "four_mutations_set_3 = four_mutations_data.rename({\n",
    "    'Fitness': 'target',\n",
    "    'task_3_set': 'set',\n",
    "}, axis=1)\n",
    "\n",
    "four_mutations_set_3[\n",
    "    ['sequence', 'target', 'set']\n",
    "].to_csv(task_path / 'tasks' / \"four_mutations_task_3.csv\", index=False)"
   ]
  },
  {
   "cell_type": "code",
   "execution_count": null,
   "metadata": {},
   "outputs": [],
   "source": []
  }
 ],
 "metadata": {
  "kernelspec": {
   "display_name": "Python 3",
   "language": "python",
   "name": "python3"
  },
  "language_info": {
   "codemirror_mode": {
    "name": "ipython",
    "version": 3
   },
   "file_extension": ".py",
   "mimetype": "text/x-python",
   "name": "python",
   "nbconvert_exporter": "python",
   "pygments_lexer": "ipython3",
   "version": "3.8.10"
  }
 },
 "nbformat": 4,
 "nbformat_minor": 1
}