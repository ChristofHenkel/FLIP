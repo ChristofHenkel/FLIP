{
 "cells": [
  {
   "cell_type": "markdown",
   "metadata": {},
   "source": [
    "# Notes\n",
    "\n",
    "- Data taken from here: https://github.com/churchlab/Deep_diversification_AAV/tree/main/Data\n",
    "- Just sequence (AA) data exists as well here: https://www.dropbox.com/sh/lmd8wmgibz24r2h/AADmgvc_0Q5mylwgGf97cTC-a/ML_and_Analysis/model_and_dataset_analysis/allseqs_20191230.csv.zip?dl=0\n",
    "- [This notebook](https://github.com/churchlab/Deep_diversification_AAV/blob/main/Parsing_pipeline/Step3_compute_selection_scores.ipynb) suggest that the \"target\" column is `GAS1_virus_S` in the CSV file\n",
    "- [This repository](https://github.com/google-research/google-research/tree/master/aav/model_training) suggest that the wild type AA sequence is 28 residues and is `DEEEIRTTNPVATEQYGSVSTNLQRGNR`\n",
    "- Cutoff via gaussian mixture copied from: https://colab.research.google.com/github/google-research/google-research/blob/master/aav/model_and_dataset_analysis/data_prep.ipynb\n",
    "- The UniProt sequence is here: https://www.uniprot.org/uniprot/P03135\n",
    "- In UniProt notation (sequence starts at 1), the region on P03135 where the sequence mutates is `[561, 588]`"
   ]
  },
  {
   "cell_type": "code",
   "execution_count": 1,
   "metadata": {},
   "outputs": [
    {
     "name": "stdout",
     "output_type": "stream",
     "text": [
      "Requirement already satisfied: biopython in /Users/chdallago/miniconda3/envs/bio-benchmarks/lib/python3.8/site-packages (1.78)\n",
      "Requirement already satisfied: numpy in /Users/chdallago/miniconda3/envs/bio-benchmarks/lib/python3.8/site-packages (from biopython) (1.20.2)\n",
      "Requirement already satisfied: pandas in /Users/chdallago/miniconda3/envs/bio-benchmarks/lib/python3.8/site-packages (1.2.4)\n",
      "Requirement already satisfied: python-dateutil>=2.7.3 in /Users/chdallago/miniconda3/envs/bio-benchmarks/lib/python3.8/site-packages (from pandas) (2.8.1)\n",
      "Requirement already satisfied: pytz>=2017.3 in /Users/chdallago/miniconda3/envs/bio-benchmarks/lib/python3.8/site-packages (from pandas) (2021.1)\n",
      "Requirement already satisfied: numpy>=1.16.5 in /Users/chdallago/miniconda3/envs/bio-benchmarks/lib/python3.8/site-packages (from pandas) (1.20.2)\n",
      "Requirement already satisfied: six>=1.5 in /Users/chdallago/miniconda3/envs/bio-benchmarks/lib/python3.8/site-packages (from python-dateutil>=2.7.3->pandas) (1.16.0)\n",
      "Requirement already satisfied: matplotlib in /Users/chdallago/miniconda3/envs/bio-benchmarks/lib/python3.8/site-packages (3.4.2)\n",
      "Requirement already satisfied: pyparsing>=2.2.1 in /Users/chdallago/miniconda3/envs/bio-benchmarks/lib/python3.8/site-packages (from matplotlib) (2.4.7)\n",
      "Requirement already satisfied: cycler>=0.10 in /Users/chdallago/miniconda3/envs/bio-benchmarks/lib/python3.8/site-packages (from matplotlib) (0.10.0)\n",
      "Requirement already satisfied: python-dateutil>=2.7 in /Users/chdallago/miniconda3/envs/bio-benchmarks/lib/python3.8/site-packages (from matplotlib) (2.8.1)\n",
      "Requirement already satisfied: pillow>=6.2.0 in /Users/chdallago/miniconda3/envs/bio-benchmarks/lib/python3.8/site-packages (from matplotlib) (8.2.0)\n",
      "Requirement already satisfied: numpy>=1.16 in /Users/chdallago/miniconda3/envs/bio-benchmarks/lib/python3.8/site-packages (from matplotlib) (1.20.2)\n",
      "Requirement already satisfied: kiwisolver>=1.0.1 in /Users/chdallago/miniconda3/envs/bio-benchmarks/lib/python3.8/site-packages (from matplotlib) (1.3.1)\n",
      "Requirement already satisfied: six in /Users/chdallago/miniconda3/envs/bio-benchmarks/lib/python3.8/site-packages (from cycler>=0.10->matplotlib) (1.16.0)\n",
      "Requirement already satisfied: scikit-learn in /Users/chdallago/miniconda3/envs/bio-benchmarks/lib/python3.8/site-packages (0.24.2)\n",
      "Requirement already satisfied: threadpoolctl>=2.0.0 in /Users/chdallago/miniconda3/envs/bio-benchmarks/lib/python3.8/site-packages (from scikit-learn) (2.1.0)\n",
      "Requirement already satisfied: scipy>=0.19.1 in /Users/chdallago/miniconda3/envs/bio-benchmarks/lib/python3.8/site-packages (from scikit-learn) (1.6.3)\n",
      "Requirement already satisfied: numpy>=1.13.3 in /Users/chdallago/miniconda3/envs/bio-benchmarks/lib/python3.8/site-packages (from scikit-learn) (1.20.2)\n",
      "Requirement already satisfied: joblib>=0.11 in /Users/chdallago/miniconda3/envs/bio-benchmarks/lib/python3.8/site-packages (from scikit-learn) (1.0.1)\n",
      "Requirement already satisfied: python-Levenshtein in /Users/chdallago/miniconda3/envs/bio-benchmarks/lib/python3.8/site-packages (0.12.2)\n",
      "Requirement already satisfied: setuptools in /Users/chdallago/miniconda3/envs/bio-benchmarks/lib/python3.8/site-packages (from python-Levenshtein) (49.6.0.post20210108)\n"
     ]
    }
   ],
   "source": [
    "!pip install biopython\n",
    "!pip install pandas\n",
    "!pip install matplotlib\n",
    "!pip install scikit-learn\n",
    "!pip install python-Levenshtein"
   ]
  },
  {
   "cell_type": "code",
   "execution_count": 2,
   "metadata": {},
   "outputs": [],
   "source": [
    "import pandas\n",
    "import math\n",
    "import random\n",
    "import Levenshtein\n",
    "import numpy\n",
    "\n",
    "from pathlib import Path\n",
    "from pandas import read_csv, DataFrame\n",
    "\n",
    "from helpers import read_fasta, TwoGaussianMixtureModelLabeler"
   ]
  },
  {
   "cell_type": "code",
   "execution_count": 3,
   "metadata": {},
   "outputs": [],
   "source": [
    "random.seed(11)"
   ]
  },
  {
   "cell_type": "code",
   "execution_count": 4,
   "metadata": {},
   "outputs": [],
   "source": [
    "pandas.set_option('display.max_rows', None)"
   ]
  },
  {
   "cell_type": "code",
   "execution_count": 5,
   "metadata": {},
   "outputs": [],
   "source": [
    "data_path = Path('') / '..' / 'data' / 'aav'\n",
    "aav_data_path = data_path / 'library_w_selection_scores.csv'\n",
    "\n",
    "task_path = Path('') / '..' / 'tasks' / 'aav'"
   ]
  },
  {
   "cell_type": "code",
   "execution_count": 6,
   "metadata": {},
   "outputs": [],
   "source": [
    "aav_data = read_csv(aav_data_path, index_col=0)\n",
    "\n",
    "P03135 = read_fasta(data_path / 'P03135.fasta')[0]\n",
    "region = (561,588)\n",
    "reference_region = \"DEEEIRTTNPVATEQYGSVSTNLQRGNR\""
   ]
  },
  {
   "cell_type": "code",
   "execution_count": 7,
   "metadata": {},
   "outputs": [
    {
     "data": {
      "text/plain": [
       "Index(['nt_seq', 'EK266_GAS1_p1_rep1a_plasmid', 'EK266_GAS1_p1_rep1b_plasmid',\n",
       "       'EK269_GAS1_p1_rep1a_plasmid_x', 'EK269_GAS1_p1_rep1b_plasmid_x',\n",
       "       'EK269_GAS1_p1_rep1c_plasmid_x', 'EK269_GAS1_p1_rep1d_plasmid_x',\n",
       "       'EK269_GAS1_v3_rep1a_virus_x', 'EK269_GAS1_v3_rep1b_virus_x',\n",
       "       'EK269_GAS1_v3_rep1c_virus_x', 'EK269_GAS1_v3_rep1d_virus_x',\n",
       "       'EK269_GAS1_v4_rep2a_virus_x', 'EK269_GAS1_v4_rep2b_virus_x',\n",
       "       'EK269_GAS1_v4_rep2c_virus_x', 'EK269_GAS1_v4_rep2d_virus_x',\n",
       "       'EK269_GAS1_v5_rep3a_virus_x', 'EK269_GAS1_v5_rep3b_virus_x',\n",
       "       'EK269_GAS1_v5_rep3c_virus', 'EK269_GAS1_v5_rep3d_virus', 'aa_x',\n",
       "       'category_x', 'chip_x', 'control_x', 'is_wt_aa_x', 'is_wt_nt_x',\n",
       "       'mask_x', 'mut_x', 'rep_i', 'rep_original_x', 'rep_total_x',\n",
       "       'EK269_GAS1_p1_rep1a_plasmid_y', 'EK269_GAS1_p1_rep1b_plasmid_y',\n",
       "       'EK269_GAS1_p1_rep1c_plasmid_y', 'EK269_GAS1_p1_rep1d_plasmid_y',\n",
       "       'EK269_GAS1_v3_rep1a_virus_y', 'EK269_GAS1_v3_rep1b_virus_y',\n",
       "       'EK269_GAS1_v3_rep1c_virus_y', 'EK269_GAS1_v3_rep1d_virus_y',\n",
       "       'EK269_GAS1_v4_rep2a_virus_y', 'EK269_GAS1_v4_rep2b_virus_y',\n",
       "       'EK269_GAS1_v4_rep2c_virus_y', 'EK269_GAS1_v4_rep2d_virus_y',\n",
       "       'EK269_GAS1_v5_rep3a_virus_y', 'EK269_GAS1_v5_rep3b_virus_y', 'aa_y',\n",
       "       'category_y', 'chip_y', 'control_y', 'is_wt_aa_y', 'is_wt_nt_y',\n",
       "       'mask_y', 'mut_y', 'rep_original_y', 'rep_total_y', 'GAS1_plasmid_N',\n",
       "       'GAS1_virus_N', 'GAS1_plasmid_F', 'GAS1_virus_F', 'GAS1_virus_S'],\n",
       "      dtype='object')"
      ]
     },
     "execution_count": 7,
     "metadata": {},
     "output_type": "execute_result"
    }
   ],
   "source": [
    "aav_data.columns"
   ]
  },
  {
   "cell_type": "code",
   "execution_count": 8,
   "metadata": {},
   "outputs": [
    {
     "data": {
      "text/plain": [
       "array(['rnn_designed_plus_rand_train_walked',\n",
       "       'rnn_designed_plus_rand_train_seed',\n",
       "       'rnn_rand_doubles_plus_singles_walked',\n",
       "       'rnn_rand_doubles_plus_singles_seed', 'rnn_standard_walked',\n",
       "       'rnn_standard_seed', 'cnn_designed_plus_rand_train_walked',\n",
       "       'cnn_designed_plus_rand_train_seed',\n",
       "       'cnn_rand_doubles_plus_single_walked',\n",
       "       'cnn_rand_doubles_plus_single_seed', 'cnn_standard_walked',\n",
       "       'cnn_standard_seed', 'lr_designed_plus_rand_train_walked',\n",
       "       'lr_designed_plus_rand_train_seed',\n",
       "       'lr_rand_doubles_plus_single_walked',\n",
       "       'lr_rand_doubles_plus_single_seed', 'lr_standard_walked',\n",
       "       'lr_standard_seed', 'previous_chip_viable',\n",
       "       'previous_chip_nonviable', 'stop', 'singles', 'wild_type',\n",
       "       'random_doubles'], dtype=object)"
      ]
     },
     "execution_count": 8,
     "metadata": {},
     "output_type": "execute_result"
    }
   ],
   "source": [
    "aav_data['category_x'].unique()"
   ]
  },
  {
   "cell_type": "code",
   "execution_count": 9,
   "metadata": {},
   "outputs": [],
   "source": [
    "# Get the wild type sequence from the data\n",
    "\n",
    "wt = aav_data[aav_data['is_wt_nt_x'] == 1].to_dict(orient='records')[0]"
   ]
  },
  {
   "cell_type": "code",
   "execution_count": 10,
   "metadata": {},
   "outputs": [],
   "source": [
    "# Make sure that all assumptions on the wild type are correct\n",
    "\n",
    "assert(wt['aa_x'] == reference_region)\n",
    "\n",
    "# Important: region[0] -1 because UniProt notation! (0 in Python == 1 in UniProt)\n",
    "assert(wt['aa_x'] == str(P03135[region[0]-1 : region[1]].seq))\n",
    "\n",
    "# Make sure chopping the sequence works as expected:\n",
    "\n",
    "assert(\n",
    "    str(P03135.seq) ==\n",
    "    str(P03135[:region[0]-1].seq) + str(P03135[region[0]-1 : region[1]].seq) + str(P03135[region[1]:].seq)\n",
    ")"
   ]
  },
  {
   "cell_type": "code",
   "execution_count": 11,
   "metadata": {},
   "outputs": [],
   "source": [
    "protein_data = aav_data[['aa_x', 'mask_x', 'GAS1_virus_S', 'category_x', 'mut_x']].copy()"
   ]
  },
  {
   "cell_type": "code",
   "execution_count": 12,
   "metadata": {},
   "outputs": [],
   "source": [
    "# Remove data where GAS1_virus_S is +/- inf\n",
    "#protein_data = protein_data[protein_data['GAS1_virus_S'] != math.inf]\n",
    "#protein_data = protein_data[protein_data['GAS1_virus_S'] != -math.inf]\n",
    "\n",
    "protein_data.replace([math.inf, -math.inf], math.nan, inplace=True)\n",
    "protein_data.dropna(inplace=True)"
   ]
  },
  {
   "cell_type": "code",
   "execution_count": 13,
   "metadata": {},
   "outputs": [],
   "source": [
    "# We need to aggregate synonymous variants if operating on AA sequences\n",
    "# Take the score and devide by number of synonymous WT AA seuqneces!\n",
    "\n",
    "def aggregate_rows(dataframe_slice):\n",
    "    \n",
    "    first_element = dataframe_slice.iloc[0]\n",
    "    \n",
    "    return {\n",
    "        'mutation_mask': first_element.mask_x,\n",
    "        'mutated_region': first_element.aa_x,\n",
    "        'category': first_element.category_x,\n",
    "        'number_of_mutations': first_element.mut_x,\n",
    "        'levenshtein_distance': Levenshtein.distance(first_element.aa_x, reference_region),\n",
    "        'score': dataframe_slice.GAS1_virus_S.mean()\n",
    "    }\n",
    "\n",
    "grouped_protein_data = protein_data.groupby(['aa_x']).apply(aggregate_rows).values\n",
    "\n",
    "protein_data = DataFrame.from_records(grouped_protein_data)"
   ]
  },
  {
   "cell_type": "code",
   "execution_count": 14,
   "metadata": {},
   "outputs": [],
   "source": [
    "def region_cut(new_sequence):\n",
    "    filtered_sequence = new_sequence.upper().replace('*','')\n",
    "    return str(P03135[:region[0]-1].seq) + filtered_sequence + str(P03135[region[1]:].seq)\n",
    "\n",
    "protein_data['full_aa_sequence'] = protein_data['mutated_region'].apply(region_cut)"
   ]
  },
  {
   "cell_type": "markdown",
   "metadata": {},
   "source": [
    "Based on the the manuscript:\n",
    " \n",
    "> To avoid overfitting to experimental noise, rather than predicting the quantitative production efficiency we used binary classification models to predict whether each sequence variant is viable (Supplementary Fig. 1), as defined by a threshold fit to best separate positive and negative controls (WT replicas, and variants containing stop codons, respectively).\n",
    "\n",
    "Apparently, by plotting `GAS1_virus_S` one should see a binomial. The cutoff is set somewhere beteen -2.5 and 0."
   ]
  },
  {
   "cell_type": "code",
   "execution_count": 15,
   "metadata": {},
   "outputs": [
    {
     "data": {
      "text/plain": [
       "<AxesSubplot:>"
      ]
     },
     "execution_count": 15,
     "metadata": {},
     "output_type": "execute_result"
    },
    {
     "data": {
      "image/png": "[encoded data removed]",
      "text/plain": [
       "<Figure size 432x288 with 1 Axes>"
      ]
     },
     "metadata": {
      "needs_background": "light"
     },
     "output_type": "display_data"
    }
   ],
   "source": [
    "protein_data['score'].hist(bins=20)"
   ]
  },
  {
   "cell_type": "markdown",
   "metadata": {},
   "source": [
    "Check that allseqs data is similar"
   ]
  },
  {
   "cell_type": "code",
   "execution_count": 16,
   "metadata": {},
   "outputs": [
    {
     "name": "stdout",
     "output_type": "stream",
     "text": [
      "selection coeff cutoff = -0.815\n",
      "0.49173347278185797\n"
     ]
    }
   ],
   "source": [
    "# Classify the selection coeff series after fitting to a GMM\n",
    "gmm_model = TwoGaussianMixtureModelLabeler(\n",
    "    protein_data[protein_data.category.isin(['stop', 'wild_type'])].score)\n",
    "\n",
    "protein_data['viral_selection_gmm'] = gmm_model.predict(protein_data.score)\n",
    "\n",
    "# Compute the threshold for the viable class from the GMM labels\n",
    "selection_coeff_threshold = protein_data.loc[protein_data.viral_selection_gmm == 2, 'score'].min()\n",
    "print('selection coeff cutoff = %.3f' % selection_coeff_threshold)\n",
    "\n",
    "# Add a label column\n",
    "def is_viable_mutant(mutant_data):\n",
    "    return mutant_data['score'] > selection_coeff_threshold\n",
    "\n",
    "protein_data['binary_score'] = protein_data.apply(is_viable_mutant, axis=1)\n",
    "\n",
    "print(protein_data.binary_score.mean())"
   ]
  },
  {
   "cell_type": "code",
   "execution_count": 17,
   "metadata": {},
   "outputs": [],
   "source": [
    "design_train = [\n",
    "    'previous_chip_viable', 'previous_chip_nonviable', \n",
    "    'stop', 'singles', 'wild_type', 'random_doubles'\n",
    "]\n",
    "\n",
    "design_test = [\n",
    "    'rnn_designed_plus_rand_train_walked',\n",
    "    'rnn_designed_plus_rand_train_seed',\n",
    "    'rnn_rand_doubles_plus_singles_walked',\n",
    "    'rnn_rand_doubles_plus_singles_seed', 'rnn_standard_walked',\n",
    "    'rnn_standard_seed', 'cnn_designed_plus_rand_train_walked',\n",
    "    'cnn_designed_plus_rand_train_seed',\n",
    "    'cnn_rand_doubles_plus_single_walked',\n",
    "    'cnn_rand_doubles_plus_single_seed', 'cnn_standard_walked',\n",
    "    'cnn_standard_seed', 'lr_designed_plus_rand_train_walked',\n",
    "    'lr_designed_plus_rand_train_seed',\n",
    "    'lr_rand_doubles_plus_single_walked',\n",
    "    'lr_rand_doubles_plus_single_seed', 'lr_standard_walked',\n",
    "    'lr_standard_seed'\n",
    "]\n",
    "\n",
    "def design_task(category):\n",
    "    if category in design_train:\n",
    "        return \"train\"\n",
    "    elif category in design_test:\n",
    "        return \"test\"\n",
    "    else:\n",
    "        return \"unknown\"\n",
    "    \n",
    "def design_task_reversed(category):\n",
    "    if category in design_train:\n",
    "        return \"test\"\n",
    "    elif category in design_test:\n",
    "        return \"train\"\n",
    "    else:\n",
    "        return \"unknown\"\n",
    "\n",
    "protein_data['design_task'] = protein_data.category.apply(design_task)\n",
    "protein_data['design_task_reversed'] = protein_data.category.apply(design_task_reversed)"
   ]
  },
  {
   "cell_type": "code",
   "execution_count": 18,
   "metadata": {},
   "outputs": [
    {
     "name": "stdout",
     "output_type": "stream",
     "text": [
      "The test set will be 75.2653179379672% of the data.\n"
     ]
    }
   ],
   "source": [
    "natural_allowed = [\n",
    "    'previous_chip_viable', 'previous_chip_nonviable', \n",
    "    'stop', 'singles', 'wild_type', 'random_doubles'\n",
    "]\n",
    "\n",
    "# randomly pick a few, see distribution of mutations\n",
    "def natural_task_1(category):\n",
    "    if category in natural_allowed:\n",
    "        return random.choices(['train', 'test'], weights=[0.8, 0.2], k=1)[0]\n",
    "    else:\n",
    "        return \"unknown\"\n",
    "\n",
    "# from train, those w/ many mutations\n",
    "\n",
    "num_mutations_threshold = 7\n",
    "\n",
    "test_count = len(protein_data[protein_data.number_of_mutations > num_mutations_threshold])\n",
    "total = len(protein_data)\n",
    "\n",
    "test_percentage = (test_count*100)/total\n",
    "\n",
    "print(f'The test set will be {test_percentage}% of the data.')\n",
    "\n",
    "def natural_task_2(row):\n",
    "    if row.category in natural_allowed:\n",
    "        if row.number_of_mutations > num_mutations_threshold:\n",
    "            return \"test\"\n",
    "        else:\n",
    "            return \"train\"\n",
    "    else:\n",
    "        return \"unknown\"\n",
    "    \n",
    "\n",
    "protein_data['natural_task_1'] = protein_data.category.apply(natural_task_1)\n",
    "protein_data['natural_task_2'] = protein_data.apply(natural_task_2, axis=1)"
   ]
  },
  {
   "cell_type": "code",
   "execution_count": 19,
   "metadata": {},
   "outputs": [],
   "source": [
    "# Random sample n sequences from train k times for single shot learning approaches\n",
    "\n",
    "n = 96\n",
    "k = 100\n",
    "\n",
    "protein_data['natural_task_1_random_train_set'] = 'unassigned'\n",
    "protein_data['natural_task_2_random_train_set'] = 'unassigned'\n",
    "\n",
    "natural_task_1_train = protein_data.query('natural_task_1 == \"train\"')\n",
    "natural_task_1_train_index = list(natural_task_1_train.index)\n",
    "\n",
    "natural_task_1_kn_indexes = numpy.array(random.sample(natural_task_1_train_index, k=k*n)).reshape(k,n)\n",
    "\n",
    "for i, kn_index in enumerate(natural_task_1_kn_indexes):\n",
    "    protein_data.loc[kn_index, 'natural_task_1_random_train_set'] = f\"S{i+1}\"\n",
    "    \n",
    "natural_task_2_train = protein_data.query('natural_task_2 == \"train\"')\n",
    "natural_task_2_train_index = list(natural_task_2_train.index)\n",
    "\n",
    "natural_task_2_kn_indexes = numpy.array(random.sample(natural_task_2_train_index, k=k*n)).reshape(k,n)\n",
    "\n",
    "for i, kn_index in enumerate(natural_task_2_kn_indexes):\n",
    "    protein_data.loc[kn_index, 'natural_task_2_random_train_set'] = f\"S{i+1}\""
   ]
  },
  {
   "cell_type": "code",
   "execution_count": 20,
   "metadata": {},
   "outputs": [
    {
     "name": "stdout",
     "output_type": "stream",
     "text": [
      "\n",
      "    Set design_task has 28102 train and 186075 test sequences. 55% of test is positive.\n",
      "    \n",
      "\n",
      "    Set design_task_reversed has 186075 train and 28102 test sequences. 12% of test is positive.\n",
      "    \n",
      "\n",
      "    Set natural_task_1 has 22497 train and 5605 test sequences. 12% of test is positive.\n",
      "    \n",
      "\n",
      "    Set natural_task_2 has 27661 train and 441 test sequences. 13% of test is positive.\n",
      "    \n"
     ]
    }
   ],
   "source": [
    "# Check how much are in test/train for each set\n",
    "\n",
    "def get_stats(task_name):\n",
    "    return f\"\"\"\n",
    "    Set {task_name} has {\n",
    "      len(protein_data.query(f\"{task_name}=='train'\"))\n",
    "    } train and {\n",
    "      len(protein_data.query(f\"{task_name}=='test'\"))\n",
    "    } test sequences. {\n",
    "      round(len(protein_data.query(f\"{task_name}=='test' & binary_score==True\")) / \n",
    "      len(protein_data.query(f\"{task_name}=='test'\")) * 100)\n",
    "    }% of test is positive.\n",
    "    \"\"\"\n",
    "\n",
    "print(get_stats(\"design_task\"))\n",
    "print(get_stats(\"design_task_reversed\"))\n",
    "print(get_stats(\"natural_task_1\"))\n",
    "print(get_stats(\"natural_task_2\"))"
   ]
  },
  {
   "cell_type": "code",
   "execution_count": 21,
   "metadata": {},
   "outputs": [],
   "source": [
    "# Add reference region for completeness\n",
    "protein_data['reference_region'] = reference_region\n",
    "\n",
    "protein_data[\n",
    "    ['mutation_mask', 'mutated_region', 'category', 'number_of_mutations',\n",
    "    'levenshtein_distance', 'score', 'full_aa_sequence', 'binary_score', 'reference_region',\n",
    "    'design_task', 'design_task_reversed', 'natural_task_1', 'natural_task_2',\n",
    "    'natural_task_1_random_train_set', 'natural_task_2_random_train_set']\n",
    "].to_csv(task_path / \"full_data.csv\", index=False)"
   ]
  },
  {
   "cell_type": "code",
   "execution_count": 22,
   "metadata": {},
   "outputs": [],
   "source": [
    "ml_categories = ['train','test']\n",
    "\n",
    "# Design regression\n",
    "design_task_regression = protein_data[protein_data.design_task.isin(ml_categories)]\n",
    "design_task_regression = design_task_regression.rename({\n",
    "    'full_aa_sequence': 'sequence',\n",
    "    'score': 'target',\n",
    "    'design_task': 'set',\n",
    "}, axis=1)\n",
    "\n",
    "design_task_regression[\n",
    "    ['sequence', 'target', 'set']\n",
    "].to_csv(task_path / 'tasks' / \"design_task_regression.csv\", index=False)\n",
    "\n",
    "del design_task_regression\n",
    "\n",
    "# Design binary\n",
    "design_task_binary = protein_data[protein_data.design_task.isin(ml_categories)]\n",
    "design_task_binary = design_task_binary.rename({\n",
    "    'full_aa_sequence': 'sequence',\n",
    "    'binary_score': 'target',\n",
    "    'design_task': 'set',\n",
    "}, axis=1)\n",
    "\n",
    "design_task_binary[\n",
    "    ['sequence', 'target', 'set']\n",
    "].to_csv(task_path / 'tasks' / \"design_task_binary.csv\", index=False)\n",
    "\n",
    "del design_task_binary\n",
    "\n",
    "# Design reversed regression\n",
    "design_task_reversed_regression = protein_data[protein_data.design_task_reversed.isin(ml_categories)]\n",
    "design_task_reversed_regression = design_task_reversed_regression.rename({\n",
    "    'full_aa_sequence': 'sequence',\n",
    "    'score': 'target',\n",
    "    'design_task_reversed': 'set',\n",
    "}, axis=1)\n",
    "\n",
    "design_task_reversed_regression[\n",
    "    ['sequence', 'target', 'set']\n",
    "].to_csv(task_path / 'tasks' / \"design_task_reversed_regression.csv\", index=False)\n",
    "\n",
    "del design_task_reversed_regression\n",
    "\n",
    "# Design reversed binary\n",
    "design_task_reversed_binary = protein_data[protein_data.design_task_reversed.isin(ml_categories)]\n",
    "design_task_reversed_binary = design_task_reversed_binary.rename({\n",
    "    'full_aa_sequence': 'sequence',\n",
    "    'binary_score': 'target',\n",
    "    'design_task_reversed': 'set',\n",
    "}, axis=1)\n",
    "\n",
    "design_task_reversed_binary[\n",
    "    ['sequence', 'target', 'set']\n",
    "].to_csv(task_path / 'tasks' / \"design_task_reversed_binary.csv\", index=False)\n",
    "\n",
    "del design_task_reversed_binary\n",
    "\n",
    "# Natural 1 regression\n",
    "natural_task_1_regression = protein_data[protein_data.natural_task_1.isin(ml_categories)]\n",
    "natural_task_1_regression = natural_task_1_regression.rename({\n",
    "    'full_aa_sequence': 'sequence',\n",
    "    'score': 'target',\n",
    "    'natural_task_1': 'set',\n",
    "    'natural_task_1_random_train_set': 'random_sample'\n",
    "}, axis=1)\n",
    "\n",
    "natural_task_1_regression[\n",
    "    ['sequence', 'target', 'set', 'random_sample']\n",
    "].to_csv(task_path / 'tasks' / \"natural_task_1_regression.csv\", index=False)\n",
    "\n",
    "del natural_task_1_regression\n",
    "\n",
    "# Natural 1 binary\n",
    "natural_task_1_binary = protein_data[protein_data.natural_task_1.isin(ml_categories)]\n",
    "natural_task_1_binary = natural_task_1_binary.rename({\n",
    "    'full_aa_sequence': 'sequence',\n",
    "    'binary_score': 'target',\n",
    "    'natural_task_1': 'set',\n",
    "    'natural_task_1_random_train_set': 'random_sample'\n",
    "}, axis=1)\n",
    "\n",
    "natural_task_1_binary[\n",
    "    ['sequence', 'target', 'set', 'random_sample']\n",
    "].to_csv(task_path / 'tasks' / \"natural_task_1_binary.csv\", index=False)\n",
    "\n",
    "del natural_task_1_binary\n",
    "\n",
    "# Natural 2 regression\n",
    "natural_task_2_regression = protein_data[protein_data.natural_task_2.isin(ml_categories)]\n",
    "natural_task_2_regression = natural_task_2_regression.rename({\n",
    "    'full_aa_sequence': 'sequence',\n",
    "    'score': 'target',\n",
    "    'natural_task_2': 'set',\n",
    "    'natural_task_2_random_train_set': 'random_sample'\n",
    "}, axis=1)\n",
    "\n",
    "natural_task_2_regression[\n",
    "    ['sequence', 'target', 'set', 'random_sample']\n",
    "].to_csv(task_path / 'tasks' / \"natural_task_2_regression.csv\", index=False)\n",
    "\n",
    "del natural_task_2_regression\n",
    "\n",
    "# Natural 2 binary\n",
    "natural_task_2_binary = protein_data[protein_data.natural_task_2.isin(ml_categories)]\n",
    "natural_task_2_binary = natural_task_2_binary.rename({\n",
    "    'full_aa_sequence': 'sequence',\n",
    "    'binary_score': 'target',\n",
    "    'natural_task_2': 'set',\n",
    "    'natural_task_2_random_train_set': 'random_sample'\n",
    "}, axis=1)\n",
    "\n",
    "natural_task_2_binary[\n",
    "    ['sequence', 'target', 'set', 'random_sample']\n",
    "].to_csv(task_path / 'tasks' / \"natural_task_2_binary.csv\", index=False)\n",
    "\n",
    "del natural_task_2_binary"
   ]
  },
  {
   "cell_type": "code",
   "execution_count": null,
   "metadata": {},
   "outputs": [],
   "source": []
  }
 ],
 "metadata": {
  "kernelspec": {
   "display_name": "Python 3",
   "language": "python",
   "name": "python3"
  },
  "language_info": {
   "codemirror_mode": {
    "name": "ipython",
    "version": 3
   },
   "file_extension": ".py",
   "mimetype": "text/x-python",
   "name": "python",
   "nbconvert_exporter": "python",
   "pygments_lexer": "ipython3",
   "version": "3.8.10"
  }
 },
 "nbformat": 4,
 "nbformat_minor": 1
}
