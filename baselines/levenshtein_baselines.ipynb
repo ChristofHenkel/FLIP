{
 "cells": [
  {
   "cell_type": "markdown",
   "id": "1facb144-cacf-486a-a7f5-1127c2d18c5d",
   "metadata": {},
   "source": [
    "Test to see how well the Levenshtein distance can be used as a predictor for relevant datasets:"
   ]
  },
  {
   "cell_type": "code",
   "execution_count": 1,
   "id": "6d74569a-b4e6-4315-a66c-b5aa4e1b5b27",
   "metadata": {},
   "outputs": [],
   "source": [
    "# Import required modules\n",
    "import os\n",
    "import numpy as np\n",
    "import pandas as pd\n",
    "import matplotlib.pyplot as plt\n",
    "import seaborn as sns\n",
    "from Bio import SeqIO\n",
    "from Levenshtein import distance as levenshtein_distance\n",
    "from scipy.stats import spearmanr"
   ]
  },
  {
   "cell_type": "markdown",
   "id": "54545b8b-5a4d-405e-a0f3-bdc0913d6bf3",
   "metadata": {},
   "source": [
    "# General Functions"
   ]
  },
  {
   "cell_type": "code",
   "execution_count": 2,
   "id": "fed3b6c5-fb1f-47f8-8a4d-d790763b73d3",
   "metadata": {},
   "outputs": [],
   "source": [
    "def evaluate_task(task_filename, reference_seq):\n",
    "    \n",
    "    # Load the task file and filter to just the test data\n",
    "    task_df = pd.read_csv(task_filename)\n",
    "    task_df = task_df.loc[task_df.set == \"test\"].copy()\n",
    "\n",
    "    # Calculate levenshtein distance between each sequence and the reference\n",
    "    levenshteins = np.array([levenshtein_distance(reference_seq, new_seq) \n",
    "                             for new_seq in task_df.sequence.values])\n",
    "\n",
    "    # Now get spearman rho and record. Negative levenshtein because we\n",
    "    # expect a smaller distance to be correlated to larger fitness.\n",
    "    rho, _ = spearmanr(-levenshteins, task_df.target.values)\n",
    "    \n",
    "    return rho    \n",
    "\n",
    "def evaluate_tasks(refseq_fileloc, taskfolder, task_to_file_dict):\n",
    "    \n",
    "    # Get the reference sequence\n",
    "    reference_seq = str(next(SeqIO.parse(refseq_fileloc, \"fasta\")).seq)\n",
    "\n",
    "    # Loop over each task\n",
    "    results = []\n",
    "    for taskname, taskfile in task_to_file_dict.items():\n",
    "        rho = evaluate_task(os.path.join(taskfolder, taskfile), \n",
    "                            reference_seq)\n",
    "        results.append([taskname, rho])\n",
    "        \n",
    "    return results"
   ]
  },
  {
   "cell_type": "markdown",
   "id": "a12d344c-51e1-4410-8bf2-2dfedfae27d4",
   "metadata": {},
   "source": [
    "# Levenshtein for AAV"
   ]
  },
  {
   "cell_type": "code",
   "execution_count": 3,
   "id": "9a27cb5e-37fc-4b4c-9f85-405fbd65ce8a",
   "metadata": {},
   "outputs": [
    {
     "data": {
      "text/plain": [
       "[['design', 0.601041185010009],\n",
       " ['design_reversed', -0.06599785513223982],\n",
       " ['natural1', -0.06517495650637238],\n",
       " ['natural2', 0.5254415020200949]]"
      ]
     },
     "execution_count": 3,
     "metadata": {},
     "output_type": "execute_result"
    }
   ],
   "source": [
    "def levenshtein_to_fitness_aav():\n",
    "\n",
    "    # Define the different aav inputs\n",
    "    aav_refseq_file = \"../tasks/aav/P03135.fasta\"\n",
    "    aav_taskfolder = \"../tasks/aav/tasks\"\n",
    "    aav_task_to_file = {\n",
    "        \"design\": \"design_task_regression.csv\",\n",
    "        \"design_reversed\": \"design_task_reversed_regression.csv\",\n",
    "        \"natural1\": \"natural_task_1_regression.csv\",\n",
    "        \"natural2\": \"natural_task_2_regression.csv\"\n",
    "    }\n",
    "\n",
    "    return evaluate_tasks(aav_refseq_file,\n",
    "                          aav_taskfolder,\n",
    "                          aav_task_to_file)\n",
    "\n",
    "levenshtein_to_fitness_aav()"
   ]
  },
  {
   "cell_type": "markdown",
   "id": "113d1b11-9d41-4efc-8594-047adfe6c467",
   "metadata": {},
   "source": [
    "# Levenshtein for Cas"
   ]
  },
  {
   "cell_type": "code",
   "execution_count": 4,
   "id": "f370b28b-b1d9-4d18-8246-5075c7d4ec12",
   "metadata": {},
   "outputs": [
    {
     "data": {
      "text/plain": [
       "[['neg', -0.010226623065258516], ['pos', 0.13659949947831676]]"
      ]
     },
     "execution_count": 4,
     "metadata": {},
     "output_type": "execute_result"
    }
   ],
   "source": [
    "def levenshtein_to_fitness_cas():\n",
    "\n",
    "    # Define the different cas inputs\n",
    "    refseq_file = \"../tasks/cas/cas9_sequence.fasta\"\n",
    "    taskfolder = \"../tasks/cas/tasks/\"\n",
    "    task_to_file = {\n",
    "        \"neg\": \"pi_domain_log_negative_selection_regression.csv\",\n",
    "        \"pos\": \"pi_domain_log_positive_selection_regression.csv\"\n",
    "    }\n",
    "\n",
    "    return evaluate_tasks(refseq_file,\n",
    "                          taskfolder,\n",
    "                          task_to_file)\n",
    "\n",
    "levenshtein_to_fitness_cas()"
   ]
  }
 ],
 "metadata": {
  "kernelspec": {
   "display_name": "Python 3",
   "language": "python",
   "name": "python3"
  },
  "language_info": {
   "codemirror_mode": {
    "name": "ipython",
    "version": 3
   },
   "file_extension": ".py",
   "mimetype": "text/x-python",
   "name": "python",
   "nbconvert_exporter": "python",
   "pygments_lexer": "ipython3",
   "version": "3.8.8"
  }
 },
 "nbformat": 4,
 "nbformat_minor": 5
}
